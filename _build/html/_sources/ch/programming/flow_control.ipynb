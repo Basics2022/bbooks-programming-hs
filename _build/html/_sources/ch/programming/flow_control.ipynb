{
 "cells": [
  {
   "cell_type": "markdown",
   "id": "2ccad2be-df0a-4d7b-914e-eda58ba90211",
   "metadata": {},
   "source": [
    "# Controllo del flusso\n",
    "\n",
    "Nei paradigmi di *programmazione imperativa* (**todo** fare riferimento ai paradigmi di programmazione. Ha senso questa distinzione?), vengono usate delle strutture di controllo del flusso di esecuzione di un programma.\n",
    "\n",
    "Si possono distinguere due categorie delle strutture di controllo:\n",
    "- condizionale ed alternativa: if, if-then, if-then-else\n",
    "- iterazione: for, while, ..."
   ]
  },
  {
   "cell_type": "markdown",
   "id": "188f0810-c457-4d90-804a-3524d8ace755",
   "metadata": {},
   "source": [
    "## Alternativa"
   ]
  },
  {
   "cell_type": "markdown",
   "id": "06e00e38-021b-4fb3-9f30-ecdc26beb224",
   "metadata": {},
   "source": [
    "### $\\texttt{if}$-$\\texttt{then}$ statement"
   ]
  },
  {
   "cell_type": "code",
   "execution_count": 3,
   "id": "9242e6ee-4178-4af9-b13e-697b7a707ac4",
   "metadata": {},
   "outputs": [
    {
     "name": "stdout",
     "output_type": "stream",
     "text": [
      "User input = 2 is an even number\n"
     ]
    }
   ],
   "source": [
    "\"\"\" if-then example \"\"\"\n",
    "# Try this script changing the user input\n",
    "\n",
    "# User input\n",
    "a = 2        # a is initialize as an integer\n",
    "# a = 2.1      # if a is initialized as a real, a % 2 perform automatic casting, int(a) % 2\n",
    "               # uncomment previous line and try!\n",
    "\n",
    "word = 'odd'\n",
    "if ( a % 2 == 0 ):   # automatic casting into an int -> a % 2 = floor(a) % 2\n",
    "    word = 'even'\n",
    "\n",
    "print(f\"User input ({a}) is an {word} number\")\n"
   ]
  },
  {
   "cell_type": "markdown",
   "id": "5fd89320-9ac2-4631-9756-f1625c0e39f8",
   "metadata": {},
   "source": [
    "### $\\texttt{if}$-$\\texttt{then}$-$\\texttt{else}$ statement"
   ]
  },
  {
   "cell_type": "code",
   "execution_count": 7,
   "id": "27a7b470-d645-4af5-aa20-b79865297a0b",
   "metadata": {},
   "outputs": [
    {
     "name": "stdout",
     "output_type": "stream",
     "text": [
      "User input (15.7). 15.7 % 3 = 0\n"
     ]
    }
   ],
   "source": [
    "\"\"\" if-then-else example\"\"\"\n",
    "# Try this script changing the user input\n",
    "\n",
    "# User input\n",
    "a = 15\n",
    "\n",
    "if ( a % 3 == 1 ):     # First condition\n",
    "    reminder = 1\n",
    "elif ( a % 3 == 2 ):   # Other condition\n",
    "    reminder = 2\n",
    "else:                  # All the other conditions\n",
    "    reminder = 0\n",
    "    \n",
    "print(f\"User input ({a}). {a} % 3 = {reminder}\")\n"
   ]
  },
  {
   "cell_type": "markdown",
   "id": "fcc14528-ae44-4f81-b026-f91cfcf368f9",
   "metadata": {},
   "source": [
    "<!--\n",
    "### switch\n",
    "\n",
    "\"\"\" switch example \n",
    "\n",
    "Equivalent to the if-then-else example\n",
    "\"\"\"\n",
    "# Try this script changing the user input\n",
    "\n",
    "a = 15\n",
    "\n",
    "match a % 3:\n",
    "    case 1:\n",
    "        reminder = 1\n",
    "    case 2:\n",
    "        reminder = 2\n",
    "    case _:\n",
    "        reminder = 0\n",
    "    \n",
    "print(f\"User input ({a}). {a} % 3 = {reminder}\")\n",
    "-->"
   ]
  },
  {
   "cell_type": "markdown",
   "id": "0c96bbd9-ef5b-4ef9-bab5-42d1abb13064",
   "metadata": {},
   "source": [
    "## Iterazione"
   ]
  },
  {
   "cell_type": "markdown",
   "id": "adbe053c-2569-4727-9043-49e899459f90",
   "metadata": {},
   "source": [
    "### for loop"
   ]
  },
  {
   "cell_type": "code",
   "execution_count": 14,
   "id": "2eed22fe-09fb-4bcd-a175-186aa3073a46",
   "metadata": {},
   "outputs": [
    {
     "name": "stdout",
     "output_type": "stream",
     "text": [
      "\n",
      "Loop over elements of the list: seq = {seq}\n",
      "element a has type <class 'str'>\n",
      "element 3 has type <class 'int'>\n",
      "element 4.0 has type <class 'float'>\n",
      "element {'key': 'value'} has type <class 'dict'>\n",
      "\n",
      "Loop over elements of the list, seq = {seq}\n",
      "range(5) has type: <class 'range'>\n",
      "range(5): range(0, 5)\n",
      "0\n",
      "1\n",
      "2\n",
      "3\n",
      "4\n",
      "\n",
      "Loop over elements of the dict, d = {'a': 1.0, 'b': 6, 'c': {'c1': 1, 'c2': True}}\n",
      "a 1.0\n",
      "b 6\n",
      "c {'c1': 1, 'c2': True}\n"
     ]
    }
   ],
   "source": [
    "\"\"\" for loop examples\n",
    "\n",
    "Loops over:\n",
    "- elements of a list\n",
    "- elements in range\n",
    "- keys, values of a dict\n",
    "- ...\n",
    "\"\"\"\n",
    "\n",
    "# Loop over elements of a list\n",
    "seq = ['a', 3, 4. , {'key': 'value'}]\n",
    "\n",
    "print(\"\\nLoop over elements of the list: seq = {seq}\")\n",
    "for el in seq:\n",
    "    print(f\"element {el} has type {type(el)}\")\n",
    "\n",
    "# Loop over elements of a tuple\n",
    "# ...\n",
    "\n",
    "# Loop over elements of a range\n",
    "n_el = 5\n",
    "range_el = range(5)\n",
    "print(\"\\nLoop over elements of the list, seq = {seq}\")\n",
    "print(f\"range({n_el}) has type: {type(range_el)}\")\n",
    "print(f\"range({n_el}): {range_el}\")\n",
    "\n",
    "for i in range_el:\n",
    "    print(i)\n",
    "\n",
    "# Loop over keys, values of a dict\n",
    "d = {'a': 1., 'b': 6, 'c': {'c1': 1, 'c2': True}}\n",
    "print(f\"\\nLoop over elements of the dict, d = {d}\")\n",
    "\n",
    "for i,k in d.items():\n",
    "    print(i, k)\n"
   ]
  },
  {
   "cell_type": "markdown",
   "id": "fb6d552b-b7d6-4e56-98f8-9c5b8861f57c",
   "metadata": {},
   "source": [
    "### while loop"
   ]
  },
  {
   "cell_type": "code",
   "execution_count": 17,
   "id": "3e19c681-e47d-4e84-bf9c-f450c550a243",
   "metadata": {},
   "outputs": [
    {
     "name": "stdout",
     "output_type": "stream",
     "text": [
      ">> in while loop, a: 4\n",
      ">> in while loop, a: 5\n",
      "after while loop, a: 5\n"
     ]
    }
   ],
   "source": [
    "\"\"\" while loop example \"\"\"\n",
    "\n",
    "a = 3\n",
    "\n",
    "while ( a < 5 ):\n",
    "    a += 1\n",
    "    print(f\">> in while loop, a: {a}\")\n",
    "\n",
    "print(f\"after while loop, a: {a}\")\n"
   ]
  },
  {
   "cell_type": "markdown",
   "id": "2227747a-8445-4f04-be1a-d2e080e771c4",
   "metadata": {},
   "source": [
    "### altri cicli\n",
    "\n",
    "**todo**"
   ]
  }
 ],
 "metadata": {
  "kernelspec": {
   "display_name": "Python 3 (ipykernel)",
   "language": "python",
   "name": "python3"
  },
  "language_info": {
   "codemirror_mode": {
    "name": "ipython",
    "version": 3
   },
   "file_extension": ".py",
   "mimetype": "text/x-python",
   "name": "python",
   "nbconvert_exporter": "python",
   "pygments_lexer": "ipython3",
   "version": "3.8.10"
  }
 },
 "nbformat": 4,
 "nbformat_minor": 5
}
