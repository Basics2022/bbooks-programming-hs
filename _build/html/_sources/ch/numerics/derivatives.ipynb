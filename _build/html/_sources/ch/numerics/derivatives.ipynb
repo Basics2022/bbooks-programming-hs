{
 "cells": [
  {
   "cell_type": "markdown",
   "id": "bf6e6b81-d922-49ad-bb63-54e43fe31850",
   "metadata": {},
   "source": [
    "# Derivate di funzioni\n"
   ]
  },
  {
   "cell_type": "markdown",
   "id": "6c297065-49dd-444e-8696-a55b6f9f185d",
   "metadata": {},
   "source": [
    "\n",
    "## Differenze finite\n",
    "Il calcolo della derivata di una funzione $f(x)$ derivabile in un punto $x_0$ può essere svolto utilizzando l'espansione locale in serie di Taylor di una funzione.\n",
    "\n",
    "### Derivata prima\n",
    "Usando le espansioni\n",
    "\n",
    "$$\\begin{aligned}\n",
    "  f(x + h) & = f(x) + f'(x) \\, h + f''(x) \\frac{h^2}{2} + f'''(x) \\frac{h^3}{3!} + o(h^3) \\\\\n",
    "  f(x - h) & = f(x) - f'(x) \\, h + f''(x) \\frac{h^2}{2} - f'''(x) \\frac{h^3}{3!} + o(h^3)\n",
    "\\end{aligned}$$\n",
    "\n",
    "si possono ricavare:\n",
    "- gli schemi del **primo ordine**\n",
    "\n",
    "  $$\\begin{aligned}\n",
    "    f'(x) & = \\frac{f(x+h) - f(x)}{h} + O(h) \\\\\n",
    "    f'(x) & = \\frac{f(x) - f(x-h)}{h} + O(h) \\\\\n",
    "  \\end{aligned}$$\n",
    "\n",
    "- lo schema **centrato del secondo ordine**\n",
    "\n",
    "  $$f'(x) = \\dfrac{f(x+h) - f(x-h)}{2 h} + O(h^2) $$\n",
    "\n",
    "- lo schema non centrato del secondo ordine:\n",
    "\n",
    "  $$f'(x) = \\frac{-3 \\, f(x) + 4 \\, f(x+h) - f(x+2h)}{2 \\, h} + O(h^2) \\ .$$\n",
    "\n",
    "  ```{dropdown} Dimostrazione\n",
    "  Usando le espansioni in serie,\n",
    "\n",
    "  $$\\begin{aligned}\n",
    "    f(x + h) & = f(x) + f'(x) \\, h + f''(x) \\frac{h^2}{2} + f'''(x) \\frac{h^3}{3!} + o(h^3) \\\\\n",
    "    f(x + 2h) & = f(x) + f'(x) \\, 2 h + 2 f''(x) \\, h^2 + f'''(x) \\frac{4}{3} h^3 + o(h^3) \\\\\n",
    "  \\end{aligned}$$\n",
    "  \n",
    "  si cerca una coppia di coefficienti della combinazione lineare $a_1 f(x+h) + a_2 f(x+2h)$ che annullano il termine di secondo grado. \n",
    "\n",
    "  In particolare è facile dimostrare che una di queste scelte è $\\alpha_1 = 4$, $\\alpha_2 = -1$, e la combinazione lineare per questi valori diventa,\n",
    "  \n",
    "  $$4 f(x+h) - f(x+2h) = 3 f(x) + 2 \\, h f'(x) + O(h^3) \\ .$$\n",
    "\n",
    "  A questo punto è semplice isolare $f'(x)$ per trovare lo schema numerico desiderato,\n",
    "\n",
    "  $$f'(x) = \\frac{-3 \\, f(x) + 4 \\, f(x+h) - f(x+2h)}{2 \\, h} + O(h^2) \\ .$$\n",
    "\n",
    "  ```\n",
    "- ...\n",
    "- schemi di ordine superiore...\n",
    "\n",
    "### Derivata seconda\n",
    "Usando le stesse espansioni in serie, si può ottenere uno schema del secondo ordine per la derivata seconda\n",
    "\n",
    "$$f''(x) = \\frac{f(x+h) - 2 f(x) + f(x-h)}{h^2} + O(h^2)$$\n",
    "\n",
    "```{dropdown} Dimostrazione\n",
    "Usando le espansioni in serie\n",
    "\n",
    "$$\\begin{aligned}\n",
    "  f(x + h) & = f(x) + f'(x) \\, h + f''(x) \\frac{h^2}{2} + f'''(x) \\frac{h^3}{3!} + f^{iv}(x) \\frac{h^4}{4!} + O(h^5) \\\\ f(x - h) & = f(x) - f'(x) \\, h + f''(x) \\frac{h^2}{2} - f'''(x) \\frac{h^3}{3!} + f^{iv}(x) \\frac{h^4}{4!} + O(h^5) \\\\\n",
    "\\end{aligned}$$\n",
    "\n",
    "si può notare che nella somma che compare al numeratore dello schema numerico si annullano sia il termine di primo grado sia il termine di terzo grado,\n",
    "\n",
    "$$\n",
    " f(x+h) - 2 f(x) + f(x-h) = f''(x) \\, h^2 + O(h^4) \\ ,\n",
    "$$\n",
    "\n",
    "e quindi lo schema numerico proposto è del secondo ordine,\n",
    "\n",
    "$$f'(x) = \\frac{ f(x+h) - 2 f(x) + f(x-h) }{h^2} + O(h^2) \\ .$$\n",
    "\n",
    "```\n",
    "\n"
   ]
  },
  {
   "cell_type": "code",
   "execution_count": 18,
   "id": "0d44931b-74bc-40ab-a2b4-7427a3830133",
   "metadata": {},
   "outputs": [],
   "source": [
    "\"\"\" Numerical schemes for derivatives \"\"\"\n",
    "\n",
    "df_first_order_left    = lambda f, x, h: (f(x) - f(x-h)) / h\n",
    "df_first_order_right   = lambda f, x, h: (f(x+h) - f(x)) / h\n",
    "df_second_order_center = lambda f, x, h: (f(x+h) - f(x-h)) / ( 2. * h )\n",
    "df_second_order_left   = lambda f, x, h: (  3*f(x) - 4*f(x-h) + f(x-2*h)) / ( 2. * h )\n",
    "df_second_order_right  = lambda f, x, h: (- 3*f(x) + 4*f(x+h) - f(x+2*h)) / ( 2. * h )\n",
    "\n",
    "df_fun_dict = {\n",
    "    '1_left'  : df_first_order_left,\n",
    "    '1_right' : df_first_order_right,\n",
    "    '2_center': df_second_order_center,\n",
    "    '2_left'  : df_second_order_left,\n",
    "    '2_right' : df_second_order_right\n",
    "}"
   ]
  },
  {
   "cell_type": "code",
   "execution_count": 19,
   "id": "2f6a1451-5705-4127-b85c-61b40052ea4e",
   "metadata": {},
   "outputs": [
    {
     "name": "stdout",
     "output_type": "stream",
     "text": [
      "Scheme: 1_left    , value: -1.4788256893130014\n",
      "Scheme: 1_right   , value: -1.4641117378933477\n",
      "Scheme: 2_center  , value: -1.4714687136031745\n",
      "Scheme: 2_left    , value: -1.4716195509633268\n",
      "Scheme: 2_right   , value: -1.4716121945026028\n"
     ]
    }
   ],
   "source": [
    "\"\"\" Example \"\"\"\n",
    "import numpy as np\n",
    "\n",
    "f = lambda x: 2. * np.exp(- x**2)\n",
    "\n",
    "x, h = 1., .01\n",
    "\n",
    "for df_label, df_fun in df_fun_dict.items():\n",
    "    print(f\"Scheme: {df_label.ljust(10)}, value: {df_fun(f,x,h)}\" )\n",
    "\n"
   ]
  },
  {
   "cell_type": "code",
   "execution_count": null,
   "id": "7e2de2d9-c914-4693-b514-53163a098a8f",
   "metadata": {},
   "outputs": [],
   "source": []
  }
 ],
 "metadata": {
  "kernelspec": {
   "display_name": "Python 3 (ipykernel)",
   "language": "python",
   "name": "python3"
  },
  "language_info": {
   "codemirror_mode": {
    "name": "ipython",
    "version": 3
   },
   "file_extension": ".py",
   "mimetype": "text/x-python",
   "name": "python",
   "nbconvert_exporter": "python",
   "pygments_lexer": "ipython3",
   "version": "3.8.10"
  }
 },
 "nbformat": 4,
 "nbformat_minor": 5
}
