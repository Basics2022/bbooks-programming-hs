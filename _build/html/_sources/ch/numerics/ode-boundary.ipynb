{
 "cells": [
  {
   "cell_type": "markdown",
   "id": "d90d3c04-fe56-4174-b971-32f26c261a3e",
   "metadata": {},
   "source": [
    "# Problemi al contorno\n"
   ]
  },
  {
   "cell_type": "markdown",
   "id": "0e86bccd-e186-4419-97a6-3dda5fa15993",
   "metadata": {},
   "source": [
    "## Differenze finite\n"
   ]
  },
  {
   "cell_type": "markdown",
   "id": "7fcfa06b-84a2-4b7f-b97a-dd1091d08c1e",
   "metadata": {},
   "source": [
    "## Elementi finiti\n"
   ]
  },
  {
   "cell_type": "markdown",
   "id": "4a7fd98a-2de9-4848-b90c-c6c1f973fa15",
   "metadata": {},
   "source": [
    "## Volumi finiti\n"
   ]
  }
 ],
 "metadata": {
  "kernelspec": {
   "display_name": "Python 3 (ipykernel)",
   "language": "python",
   "name": "python3"
  },
  "language_info": {
   "codemirror_mode": {
    "name": "ipython",
    "version": 3
   },
   "file_extension": ".py",
   "mimetype": "text/x-python",
   "name": "python",
   "nbconvert_exporter": "python",
   "pygments_lexer": "ipython3",
   "version": "3.8.10"
  }
 },
 "nbformat": 4,
 "nbformat_minor": 5
}
