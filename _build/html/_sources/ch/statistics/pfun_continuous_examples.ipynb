{
 "cells": [
  {
   "cell_type": "markdown",
   "id": "24e8f733-02ad-46fe-ba7c-0211a02a767d",
   "metadata": {},
   "source": [
    "(statistics-hs:random-variables:continuous:examples)=\n",
    "# Esempi di funzioni di probabilità continua"
   ]
  },
  {
   "cell_type": "markdown",
   "id": "4405ca69-2629-4f17-bc60-16086c9ad876",
   "metadata": {},
   "source": [
    "(statistics-hs:random-variables:continuous:examples:norm)=\n",
    "## Distribuzione gaussiana o normale, $\\mathscr{N}$\n",
    "\n",
    "\n",
    "$\\mathscr{N}(\\mu, \\sigma^2)$\n",
    "\n",
    "$$f(x) = \\frac{1}{\\sqrt{2\\pi\\sigma^2}} e^{-\\frac{(x-\\mu)^2}{2\\sigma^2}} \\ \\sim \\ e^{-\\frac{(x-\\mu)^2}{2\\sigma^2}}$$"
   ]
  },
  {
   "cell_type": "markdown",
   "id": "978c6d77-4cb6-4f06-868f-0aa2fd3d6d4b",
   "metadata": {},
   "source": [
    "(statistics-hs:random-variables:continuous:examples:chi2)=\n",
    "## Distribuzione chi-quadrato, $\\chi^2$\n",
    "\n",
    "Date $n$ variabili casuali $X_k$ indipendenti con distribuzione normale $\\mathscr{N}(0,1)$, la somma dei loro quadrati,\n",
    "\n",
    "$$\\chi_n^2 = \\sum_{k=1}^{n} X^2_k \\ ,$$\n",
    "\n",
    "è una variabile casuale con densità di probabilità $\\chi^2_n$, con $n$ definito come il numero di gradi di libertà. La distribuzione $\\chi^2_n$ ha una pdf\n",
    "\n",
    "$$f(x) = \\frac{1}{2^{\\frac{n}{2}} \\Gamma\\left(\\frac{n}{2}\\right)} \\, x^{\\frac{n}{2}-1} \\, e^{-\\frac{x}{2}} \\ \\sim \\ x^{\\frac{n}{2}-1} \\, e^{-\\frac{n}{2}}$$"
   ]
  },
  {
   "cell_type": "markdown",
   "id": "4d8d718d-2993-4f03-a96a-ebaf216cdb54",
   "metadata": {},
   "source": [
    "(statistics-hs:random-variables:continuous:examples:t)=\n",
    "## Distribuzione $t$-Student\n",
    "\n",
    "La $t$ di Student è la distribuzione di probabilità che governa il rapporto tra due variabili casuali indipendenti,\n",
    "\n",
    "$$t_{\\nu} = \\frac{Z}{\\sqrt{\\frac{K}{\\nu}}} \\ ,$$\n",
    "\n",
    "con il numeratore con distribuzione normale, $Z \\sim \\mathscr{N}(0,1)$, e il denominatore con distribuzione chi quadrato, $K \\sim \\chi^2_n$. La pdf è\n",
    "\n",
    "$$f(x) = \\frac{\\Gamma\\left(\\frac{n+1}{2}\\right)}{\\sqrt{n \\, \\pi} \\, \\Gamma\\left(\\frac{n}{2}\\right)} \\left( 1 + \\frac{x^2}{n} \\right)^{-\\frac{n + 1}{2}} \\ \\sim \\ \\left( 1 + \\frac{x^2}{n} \\right)^{-\\frac{n + 1}{2}} \\ .$$\n",
    "\n"
   ]
  },
  {
   "cell_type": "markdown",
   "id": "4b41e837-4fb0-40d2-a228-fa964bd337cc",
   "metadata": {
    "jp-MarkdownHeadingCollapsed": true
   },
   "source": [
    "### Distrubuzione gaussiana come limite della distribuzione $t$-Student\n",
    "\n",
    "Ricordandosi la definizione di $e^x$ come limite della successione $\\lim_{n \\rightarrow \\infty} \\left( 1 + \\frac{x}{n} \\right)^n =: e^x$, e usando l'approssimazione asintotica per $n \\rightarrow \\infty$ della funzione Gamma $\\Gamma(n+\\alpha) \\sim \\Gamma(n)n^{\\alpha}$, si può dimostrare che\n",
    "\n",
    "$$\\left( 1 + \\frac{x^2}{n} \\right)^{-\\frac{n+1}{2}} = \\left( 1 + \\frac{x^2}{n} \\right)^{-\\frac{1}{2}} \\left[ \\left( 1 + \\frac{x^2}{n} \\right)^n \\right]^{-\\frac{1}{2}} \\quad \\rightarrow \\quad 1 \\cdot e^{-\\frac{x^2}{2}}$$\n",
    "\n",
    "$$\\frac{\\Gamma\\left(\\frac{n+1}{2}\\right)}{\\sqrt{n} \\, \\Gamma\\left( \\frac{n}{2} \\right)} \\sim\n",
    "  \\frac{\\Gamma\\left(\\frac{n}{2}\\right) \\, \\left(\\frac{n}{2}\\right)^{\\frac{1}{2}}}{\\sqrt{n} \\, \\Gamma\\left( \\frac{n}{2} \\right)} = \\frac{1}{\\sqrt{2}} \\ , $$\n",
    "\n",
    "e quindi la funzione $t$-Student tende alla distribuzione normale con valore atteso $0$ e varianza unitaria,\n",
    "\n",
    "$$f(x) \\sim \\frac{1}{\\sqrt{2 \\,\\pi}} e^{-\\frac{x^2}{2}} \\ .$$"
   ]
  }
 ],
 "metadata": {
  "kernelspec": {
   "display_name": "Python 3 (ipykernel)",
   "language": "python",
   "name": "python3"
  },
  "language_info": {
   "codemirror_mode": {
    "name": "ipython",
    "version": 3
   },
   "file_extension": ".py",
   "mimetype": "text/x-python",
   "name": "python",
   "nbconvert_exporter": "python",
   "pygments_lexer": "ipython3",
   "version": "3.8.10"
  }
 },
 "nbformat": 4,
 "nbformat_minor": 5
}
