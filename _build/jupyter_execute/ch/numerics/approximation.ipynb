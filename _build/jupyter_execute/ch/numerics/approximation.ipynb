{
 "cells": [
  {
   "cell_type": "markdown",
   "id": "24026d5d-240d-4481-8108-b9b3e314eed1",
   "metadata": {},
   "source": [
    "# Approssimazione di funzioni\n",
    "\n",
    "## Interpolazione\n",
    "\n",
    "## Regressione\n"
   ]
  }
 ],
 "metadata": {
  "kernelspec": {
   "display_name": "Python 3 (ipykernel)",
   "language": "python",
   "name": "python3"
  },
  "language_info": {
   "codemirror_mode": {
    "name": "ipython",
    "version": 3
   },
   "file_extension": ".py",
   "mimetype": "text/x-python",
   "name": "python",
   "nbconvert_exporter": "python",
   "pygments_lexer": "ipython3",
   "version": "3.8.10"
  }
 },
 "nbformat": 4,
 "nbformat_minor": 5
}