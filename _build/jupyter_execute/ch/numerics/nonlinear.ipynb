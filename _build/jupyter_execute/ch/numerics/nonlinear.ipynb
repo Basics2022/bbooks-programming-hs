{
 "cells": [
  {
   "cell_type": "markdown",
   "id": "b5d08b33-07a6-407a-8dd7-ce34a91977ec",
   "metadata": {},
   "source": [
    "# Problemi non lineari\n"
   ]
  },
  {
   "cell_type": "markdown",
   "id": "0417e616-e432-42f0-a3ad-1f16791fd81f",
   "metadata": {},
   "source": [
    "## Metodo di Newton\n",
    "\n",
    "Per trovare la soluzione del problema non lineare\n",
    "\n",
    "$$F(x) = 0 \\ ,$$\n",
    "\n",
    "il metodo di Newton sfrutta l'espansione in serie troncata al primo grado della funzione $F(x)$, per scrivere\n",
    "\n",
    "$$0 = F(x^n + \\Delta x) \\approx F(x^n) + F'(x^n) \\Delta x $$\n",
    "\n",
    "e ottenere l'incremento della soluzione $\\Delta x$ come soluzione del sistema lineare\n",
    "\n",
    "$$F'(x^n) \\Delta x = -F(x^n)$$\n",
    "\n",
    "e aggiornare la soluzione $x^{n+1} = x^{n} + \\Delta x$."
   ]
  },
  {
   "cell_type": "code",
   "execution_count": 1,
   "id": "44b11866-81fb-4ecf-9f92-69b265d10bf5",
   "metadata": {},
   "outputs": [],
   "source": [
    "import numpy as np\n",
    "\n",
    "f  = lambda x: e^x - x\n",
    "df = lambda x: e^x - 1\n",
    "\n"
   ]
  }
 ],
 "metadata": {
  "kernelspec": {
   "display_name": "Python 3 (ipykernel)",
   "language": "python",
   "name": "python3"
  },
  "language_info": {
   "codemirror_mode": {
    "name": "ipython",
    "version": 3
   },
   "file_extension": ".py",
   "mimetype": "text/x-python",
   "name": "python",
   "nbconvert_exporter": "python",
   "pygments_lexer": "ipython3",
   "version": "3.8.10"
  }
 },
 "nbformat": 4,
 "nbformat_minor": 5
}