{
 "cells": [
  {
   "cell_type": "markdown",
   "id": "b5d08b33-07a6-407a-8dd7-ce34a91977ec",
   "metadata": {},
   "source": [
    "# Equazioni algebriche non lineari\n",
    "\n",
    "Questa sezione si occupa della soluzione delle equazioni algebriche non lineari, distinguendo le equazioni non lineari con una sola incognita $x \\in \\mathbb{R}$\n",
    "\n",
    "$$f(x) = 0 \\ ,$$\n",
    "\n",
    "e i sistemi di equazioni non lineari con un numero di incognite pari al numero di equazione, \n",
    "\n",
    "$$\\mathbf{f}(\\mathbf{x}) = \\mathbf{0} \\ .$$"
   ]
  },
  {
   "cell_type": "markdown",
   "id": "dee29ce6-2c2c-47ab-bae0-08da697f4af4",
   "metadata": {},
   "source": [
    "## Equazioni non lineari\n",
    "\n",
    "Vengono presentati i metodi di bisezione e di Newton per la soluzione di un'equazione non lineare, \n",
    "\n",
    "$$f(x) = 0 \\ ,$$\n",
    "\n",
    "e applicati alla soluzione del problema con $f(x) = e^x + x$, la cui derivata è nota e immediata da calcolare $f'(x) = e^x + 1$. L'espressione della derivata verrà utilizzata nel metodo di Newton."
   ]
  },
  {
   "cell_type": "code",
   "execution_count": 1,
   "id": "10483191-f6fd-4027-90a3-a505e0f1283a",
   "metadata": {},
   "outputs": [],
   "source": [
    "\"\"\" Import libaries \"\"\"\n",
    "\n",
    "import numpy as np\n",
    "from time import time\n"
   ]
  },
  {
   "cell_type": "code",
   "execution_count": 2,
   "id": "43de8e87-9c3c-44de-b74f-92eeb5e94d60",
   "metadata": {},
   "outputs": [],
   "source": [
    "\"\"\"\n",
    "Example. f(x) = e^x + x\n",
    "\"\"\"\n",
    "\n",
    "# Function f and its derivative\n",
    "f  = lambda x: np.exp(x) + x\n",
    "df = lambda x: np.exp(x) + 1\n"
   ]
  },
  {
   "cell_type": "markdown",
   "id": "fe80c470-6ccd-4f8d-9d79-6abfe8aa14e7",
   "metadata": {},
   "source": [
    "### Metodo di bisezione\n",
    "\n",
    "Il metodo di bisezione per la ricerca degli zeri di una funzione continua $F(x)$ si basa sul teorema dei valori intermedi per le funzioni continue.\n",
    "\n",
    "Dati due numeri reali $a$, $b$ tali che $f(a) \\, f(b) < 0$, allora esiste un punto $c \\in (a,b)$ tale che $f(c) = 0$.\n"
   ]
  },
  {
   "cell_type": "code",
   "execution_count": 3,
   "id": "7e815c5e-917b-47a2-b4b4-800c71149c77",
   "metadata": {},
   "outputs": [],
   "source": [
    "\"\"\"\n",
    "Define bisection_method_scalar() function to solve nonlinear scalar equations with bisection method\n",
    "\"\"\"\n",
    "\n",
    "def bisection_method_scalar(f, a, b, tol=1e-6, max_niter=100):\n",
    "    \"\"\" Function implementing the bisection method for scalar equations \"\"\"\n",
    "\n",
    "    niter = 0\n",
    "\n",
    "    if ( not f(a) * f(b) < 0 ):\n",
    "        print(\"Bisection algorithm can't start, f(a)f(b)>= 0\")\n",
    "    else:\n",
    "        x = .5 * (a+b)\n",
    "        fx = f(x)\n",
    "        while ( np.abs(fx) > tol and niter < max_niter ):\n",
    "        \n",
    "            if ( f(x) * f(a) <= 0 ):  # new range [a,c]\n",
    "                b = x\n",
    "            else:  # new range [a,b]\n",
    "                a = x\n",
    "        \n",
    "            # Update solution and residual\n",
    "            x = .5 * (a+b)\n",
    "            fx = f(x)\n",
    "\n",
    "            # Update n.iter\n",
    "            niter += 1\n",
    "\n",
    "    return x, np.abs(fx), niter, max_niter\n"
   ]
  },
  {
   "cell_type": "code",
   "execution_count": 4,
   "id": "50893f34-d88f-46f8-95bb-50a909dc030a",
   "metadata": {},
   "outputs": [
    {
     "name": "stdout",
     "output_type": "stream",
     "text": [
      "Bisection method summary: \n",
      "Convergence reached\n",
      "Sol, x = -0.567143440246582\n",
      "residual     : -2.348157265297246e-07\n",
      "n. iterations: 20\n",
      "elapsed time : 0.0006182193756103516\n"
     ]
    }
   ],
   "source": [
    "\"\"\" Use bisection_method_scalar() function to solve the example \"\"\"\n",
    "\n",
    "# Find 2 values so that $f(a) f(b) < 0$\n",
    "a, b = -2., 0.\n",
    "\n",
    "t1 = time()\n",
    "x, res, niter, max_niter = bisection_method_scalar(f, a, b,)\n",
    "\n",
    "print(\"Bisection method summary: \")\n",
    "if ( niter < max_niter ):\n",
    "    print(f\"Convergence reached\")\n",
    "    print(f\"Sol, x = {x}\")\n",
    "else:\n",
    "    print(f\"max n.iter reached without convergence\")\n",
    "\n",
    "print(f\"residual     : {f(x)}\")\n",
    "print(f\"n. iterations: {niter}\")\n",
    "print(f\"elapsed time : {time()-t1}\")\n"
   ]
  },
  {
   "cell_type": "markdown",
   "id": "0417e616-e432-42f0-a3ad-1f16791fd81f",
   "metadata": {},
   "source": [
    "### Metodo di Newton\n",
    "\n",
    "Per trovare la soluzione del problema non lineare\n",
    "\n",
    "$$f(x) = 0 \\ ,$$\n",
    "\n",
    "il metodo di Newton sfrutta l'espansione in serie troncata al primo grado della funzione $f(x)$, per scrivere\n",
    "\n",
    "$$0 = f(x^n + \\Delta x) \\approx f(x^n) + f'(x^n) \\Delta x $$\n",
    "\n",
    "e ottenere l'incremento della soluzione $\\Delta x$ come soluzione del sistema lineare\n",
    "\n",
    "$$f'(x^n) \\Delta x = -f(x^n)$$\n",
    "\n",
    "e aggiornare la soluzione $x^{n+1} = x^{n} + \\Delta x$."
   ]
  },
  {
   "cell_type": "code",
   "execution_count": 5,
   "id": "3418f20e-84a6-446f-9634-7b06fc70e51d",
   "metadata": {},
   "outputs": [],
   "source": [
    "\"\"\"\n",
    "Define newton_method_scalar() function to solve nonlinear scalar equations with Newton's method\n",
    "\"\"\"\n",
    "\n",
    "def newton_method_scalar(f, df, x=.0, tol=1e-6, max_niter=100):\n",
    "    \"\"\" Function implementing Newton's method for scalar equations \"\"\"\n",
    "    \n",
    "    res = f(x)\n",
    "    niter = 0\n",
    "    \n",
    "    # Newton algorithm\n",
    "    while ( np.abs(res) > tol and niter < max_niter ):\n",
    "        # Solve linear approximation step, and update solution\n",
    "        dx = - res / df(x)\n",
    "        x += dx\n",
    "    \n",
    "        #> Evaluate new residual and n. of iter\n",
    "        res = f(x)\n",
    "        niter += 1\n",
    "\n",
    "    return x, res, niter, max_niter\n"
   ]
  },
  {
   "cell_type": "code",
   "execution_count": 6,
   "id": "44b11866-81fb-4ecf-9f92-69b265d10bf5",
   "metadata": {},
   "outputs": [
    {
     "name": "stdout",
     "output_type": "stream",
     "text": [
      "Newton's method summary: \n",
      "Convergence reached\n",
      "Sol, x = -0.567143285989123\n",
      "residual     : 6.927808993140161e-09\n",
      "n. iterations: 3\n",
      "elapsed time : 0.0005326271057128906\n"
     ]
    }
   ],
   "source": [
    "\"\"\" Use newton_method_scalar() function to solve the example \"\"\"\n",
    "\n",
    "# import numpy as np   # already imported\n",
    "\n",
    "# Parameters of the Newton method, for stopping criteria\n",
    "# tol = 1e-6          # tolerance on the residual |f(x)| < tol\n",
    "# max_niter = 10      # max n. of iterations      niter > max_niter\n",
    "x0 = -1.\n",
    "\n",
    "t1 = time()\n",
    "x, res, niter, max_niter = newton_method_scalar(f, df, x=x0)\n",
    "\n",
    "print(\"Newton's method summary: \")\n",
    "if ( niter < max_niter ):\n",
    "    print(f\"Convergence reached\")\n",
    "    print(f\"Sol, x = {x}\")\n",
    "else:\n",
    "    print(f\"max n.iter reached without convergence\")\n",
    "\n",
    "print(f\"residual     : {f(x)}\")\n",
    "print(f\"n. iterations: {niter}\")\n",
    "print(f\"elapsed time : {time()-t1}\")\n"
   ]
  },
  {
   "cell_type": "markdown",
   "id": "c970bbde-d52c-43ee-bb16-b27afdc7b1a4",
   "metadata": {},
   "source": [
    "## Sistemi di equazioni non lineari"
   ]
  },
  {
   "cell_type": "markdown",
   "id": "6cbad706-5941-49d1-8e45-22374af95e58",
   "metadata": {},
   "source": [
    "### Metodo di Newton\n",
    "\n",
    "Il metodo di Newton sfrutta l'espansione lineare della funzione $\\mathbf{f}(\\mathbf{x})$ nell'intorno di un valore $\\mathbf{x}$,\n",
    "\n",
    "$$\\mathbf{0} = \\mathbf{f}(\\mathbf{x} + \\mathbf{h}) \\simeq \\mathbf{f}(\\mathbf{x}) + \\mathbf{f}'(\\mathbf{x}) \\, \\mathbf{h}$$\n",
    "\n",
    "per costruire un metodo iterativo composto da due passi a ogni iterazione:\n",
    "- ricerca dell'incremento:\n",
    "\n",
    "  $$\\mathbf{f}'(\\mathbf{x}^{n}) \\, \\mathbf{h}^{(n)} = - \\mathbf{f}(\\mathbf{x}^{(n)})$$\n",
    "\n",
    "- aggiornamento della soluzione\n",
    "\n",
    "  $$\\mathbf{x}^{(n+1)} = \\mathbf{x}^{(n)} + \\mathbf{h}^{(n)} \\ .$$\n",
    "\n",
    "**Esempio.** Il metodo di Newton viene applicato al sistema non lineare\n",
    "\n",
    "$$\\begin{cases}\n",
    "    x_0   - x_1 = 0 \\\\\n",
    "  - x_0^2 + x_1 = -1\n",
    "\\end{cases}$$\n",
    "\n",
    "che può essere scritto con il formalismo matriciale come\n",
    "\n",
    "$$\\mathbf{0} = \\mathbf{f}(\\mathbf{x}) = \\begin{bmatrix} x_0 - x_1 \\\\ -x_0^2 + x_1 - 1 \\end{bmatrix} \\ .$$\n",
    "\n",
    "La derivata della funzione $\\mathbf{f}(\\mathbf{x})$, rispetto alla variabile indipendente $\\mathbf{x}$,\n",
    "\n",
    "$$\\mathbf{f}'(\\mathbf{x}) = \\begin{bmatrix} 1 & - 1 \\\\ - 2 x_0 & 1\\end{bmatrix}$$\n",
    "\n",
    "può essere rappresentata come una matrice che ha come elemento alla riga $i$ e alla colonna $j$ la derivata della funzione $f_i(\\mathbf{x})$ rispetto alla variabile $x_j$, $\\left[ \\mathbf{f}' \\right]_{ij} = \\frac{\\partial f_i}{\\partial x_j}$, così che l'approssimazione al primo ordine dell'incremento della funzione può essere scritto come\n",
    "\n",
    "$$\\mathbf{f}(\\mathbf{x}+\\mathbf{h}) - \\mathbf{f}(\\mathbf{x}) = \\mathbf{f}'(\\mathbf{x}) \\, \\mathbf{h} + o(||\\mathbf{h}||) \\ .$$\n"
   ]
  },
  {
   "cell_type": "code",
   "execution_count": 7,
   "id": "8f92d1f9-60bb-4d52-8a86-d8f559a252f9",
   "metadata": {},
   "outputs": [],
   "source": [
    "\"\"\"\n",
    "Example. f(x) = np.array([  x[0]    - x[1]\n",
    "                           -x[0]**2 + x[1] - 1 ])\n",
    "\"\"\"\n",
    "\n",
    "# Function f and its derivative\n",
    "f  = lambda x: np.array([ x[0] - x[1], -x[0]**2 + x[1] + 1])\n",
    "df = lambda x: np.array([[1, -1], [-2*x[0], 1]])\n"
   ]
  },
  {
   "cell_type": "code",
   "execution_count": 8,
   "id": "2633dcef-fb7e-4150-9679-5ae04469b4a4",
   "metadata": {},
   "outputs": [],
   "source": [
    "\"\"\"\n",
    "Define newton_method_scalar() function to solve nonlinear systems of equations with Newton's method\n",
    "\"\"\"\n",
    "\n",
    "def newton_method_system(f, df, x=.0, tol=1e-6, max_niter=100):\n",
    "    \"\"\" Function implementing Newton's method for systems of equations \"\"\"\n",
    "    \n",
    "    res = f(x)\n",
    "    niter = 0\n",
    "    \n",
    "    # Newton algorithm\n",
    "    while ( np.linalg.norm(res) > tol and niter < max_niter ):\n",
    "        # Solve linear approximation step, and update solution\n",
    "        dx = - np.linalg.solve(df(x), res)\n",
    "        x += dx\n",
    "    \n",
    "        #> Evaluate new residual and n. of iter\n",
    "        res = f(x)\n",
    "        niter += 1\n",
    "\n",
    "    return x, res, niter, max_niter"
   ]
  },
  {
   "cell_type": "code",
   "execution_count": 9,
   "id": "cca11209-f9ed-4c25-881b-feedb44e3028",
   "metadata": {},
   "outputs": [
    {
     "name": "stdout",
     "output_type": "stream",
     "text": [
      "Newton's method summary: \n",
      "Convergence reached\n",
      "Sol, x = [-0.61803399 -0.61803399]\n",
      "residual     : [ 0.00000000e+00 -2.10942375e-13]\n",
      "n. iterations: 4\n",
      "elapsed time : 0.0006396770477294922\n"
     ]
    }
   ],
   "source": [
    "\"\"\" Use newton_method_scalar() function to solve the example \"\"\"\n",
    "\n",
    "# import numpy as np   # already imported\n",
    "\n",
    "# Parameters of the Newton method, for stopping criteria\n",
    "# tol = 1e-6          # tolerance on the residual |f(x)| < tol\n",
    "# max_niter = 10      # max n. of iterations      niter > max_niter\n",
    "x0 = np.array([ -1. , 1 ])\n",
    "\n",
    "t1 = time()\n",
    "x, res, niter, max_niter = newton_method_system(f, df, x=x0)\n",
    "\n",
    "print(\"Newton's method summary: \")\n",
    "if ( niter < max_niter ):\n",
    "    print(f\"Convergence reached\")\n",
    "    print(f\"Sol, x = {x}\")\n",
    "else:\n",
    "    print(f\"max n.iter reached without convergence\")\n",
    "\n",
    "print(f\"residual     : {f(x)}\")\n",
    "print(f\"n. iterations: {niter}\")\n",
    "print(f\"elapsed time : {time()-t1}\")"
   ]
  },
  {
   "cell_type": "markdown",
   "id": "bcfc296e-adcf-47fe-a153-859f01a01a5e",
   "metadata": {},
   "source": [
    "- **todo** L'algoritmo di Newton trova solo una soluzione del problema. Cercare le altre soluzioni cambiando il tentativo iniziale.\n",
    "- **todo** ... altro?"
   ]
  }
 ],
 "metadata": {
  "kernelspec": {
   "display_name": "Python 3 (ipykernel)",
   "language": "python",
   "name": "python3"
  },
  "language_info": {
   "codemirror_mode": {
    "name": "ipython",
    "version": 3
   },
   "file_extension": ".py",
   "mimetype": "text/x-python",
   "name": "python",
   "nbconvert_exporter": "python",
   "pygments_lexer": "ipython3",
   "version": "3.8.10"
  }
 },
 "nbformat": 4,
 "nbformat_minor": 5
}