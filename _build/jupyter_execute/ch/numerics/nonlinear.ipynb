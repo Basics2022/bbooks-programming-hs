{
 "cells": [
  {
   "cell_type": "markdown",
   "id": "b5d08b33-07a6-407a-8dd7-ce34a91977ec",
   "metadata": {},
   "source": [
    "# Problemi non lineari\n"
   ]
  },
  {
   "cell_type": "markdown",
   "id": "fe80c470-6ccd-4f8d-9d79-6abfe8aa14e7",
   "metadata": {},
   "source": [
    "## Metodo di bisezione\n",
    "\n",
    "Il metodo di bisezione per la ricerca degli zeri di una funzione continua $F(x)$ si basa sul teorema dei valori intermedi per le funzioni continue.\n",
    "\n",
    "Dati due numeri reali $a$, $b$ tali che $f(a) \\, f(b) < 0$, allora esiste un punto $c \\in (a,b)$ tale che $f(c) = 0$.\n"
   ]
  },
  {
   "cell_type": "code",
   "execution_count": 1,
   "id": "7e815c5e-917b-47a2-b4b4-800c71149c77",
   "metadata": {},
   "outputs": [
    {
     "name": "stdout",
     "output_type": "stream",
     "text": [
      "Bisection method summary\n",
      "solution, x = -0.567143440246582\n",
      "res  : -2.348157265297246e-07\n",
      "niter: 20\n",
      "etime: 0.0008029937744140625\n"
     ]
    }
   ],
   "source": [
    "\"\"\"\n",
    "Example of bisection method\n",
    "\n",
    "Find the solution of the problem f(x) = 0\n",
    "with f(x) = e^x - x\n",
    "\n",
    "\"\"\"\n",
    "\n",
    "import numpy as np\n",
    "from time import time\n",
    "\n",
    "# Function f and its derivative\n",
    "f  = lambda x: np.exp(x) + x\n",
    "df = lambda x: np.exp(x) + 1\n",
    "\n",
    "# Parameters of the bi-section method\n",
    "tol = 1e-6\n",
    "max_niter = 100\n",
    "\n",
    "t1 = time()\n",
    "\n",
    "# Find 2 values so that $f(a) f(b) < 0$\n",
    "a, b = -2., 0.\n",
    "niter = 0\n",
    "\n",
    "if ( not f(a) * f(b) < 0 ):\n",
    "    print(\"Bisection algorithm can't start, f(a)f(b)>= 0\")\n",
    "else:\n",
    "    x = .5 * (a+b)\n",
    "    fx = f(x)\n",
    "    while ( np.abs(fx) > tol and niter < max_niter ):\n",
    "        \n",
    "        if ( f(x) * f(a) <= 0 ):  # new range [a,c]\n",
    "            b = x\n",
    "        else:  # new range [a,b]\n",
    "            a = x\n",
    "        \n",
    "        # Update solution and residual\n",
    "        x = .5 * (a+b)\n",
    "        fx = f(x)\n",
    "\n",
    "        # Update n.iter\n",
    "        niter += 1            \n",
    "        \n",
    "print(\"Bisection method summary\")\n",
    "if ( niter < max_niter ):\n",
    "    print(f\"solution, x = {x}\")\n",
    "    print(f\"res  : {f(x)}\")\n",
    "    print(f\"niter: {niter}\")\n",
    "    print(f\"etime: {time()-t1}\")\n",
    "else:\n",
    "    print(f\"max n.iter reached without convergence\")\n",
    "    print(f\"res: {f(x)}\")\n"
   ]
  },
  {
   "cell_type": "markdown",
   "id": "0417e616-e432-42f0-a3ad-1f16791fd81f",
   "metadata": {},
   "source": [
    "## Metodo di Newton\n",
    "\n",
    "Per trovare la soluzione del problema non lineare\n",
    "\n",
    "$$F(x) = 0 \\ ,$$\n",
    "\n",
    "il metodo di Newton sfrutta l'espansione in serie troncata al primo grado della funzione $F(x)$, per scrivere\n",
    "\n",
    "$$0 = F(x^n + \\Delta x) \\approx F(x^n) + F'(x^n) \\Delta x $$\n",
    "\n",
    "e ottenere l'incremento della soluzione $\\Delta x$ come soluzione del sistema lineare\n",
    "\n",
    "$$F'(x^n) \\Delta x = -F(x^n)$$\n",
    "\n",
    "e aggiornare la soluzione $x^{n+1} = x^{n} + \\Delta x$."
   ]
  },
  {
   "cell_type": "code",
   "execution_count": 2,
   "id": "44b11866-81fb-4ecf-9f92-69b265d10bf5",
   "metadata": {},
   "outputs": [
    {
     "name": "stdout",
     "output_type": "stream",
     "text": [
      "Newton method summary\n",
      "solution, x = -0.567143285989123\n",
      "res  : 6.927808993140161e-09\n",
      "niter: 3\n",
      "etime: 0.0004973411560058594\n"
     ]
    }
   ],
   "source": [
    "\"\"\"\n",
    "Example of Newton method\n",
    "\n",
    "Find the solution of the problem f(x) = 0\n",
    "with f(x) = e^x - x\n",
    "\n",
    "\"\"\"\n",
    "\n",
    "# import numpy as np (already imported?)\n",
    "\n",
    "# # Function f and its derivative (already defined?)\n",
    "# f  = lambda x: np.exp(x) + x\n",
    "# df = lambda x: np.exp(x) + 1\n",
    "\n",
    "# Parameters of the Newton method, for stopping criteria\n",
    "tol = 1e-6          # tolerance on the residual |f(x)| < tol\n",
    "max_niter = 10      # max n. of iterations      niter > max_niter\n",
    "\n",
    "t1 = time()\n",
    "\n",
    "# Initial guess, residual and number of iterations\n",
    "x = -1.\n",
    "res = f(x)\n",
    "niter = 0\n",
    "\n",
    "# Newton algorithm\n",
    "while ( np.abs(res) > tol and niter < max_niter ):\n",
    "    # Solve linear approximation step, and update solution\n",
    "    dx = - res / df(x)\n",
    "    x += dx\n",
    "\n",
    "    #> Evaluate new residual and n. of iter\n",
    "    res = f(x)\n",
    "    niter += 1\n",
    "\n",
    "print(\"Newton method summary\")\n",
    "if ( niter < max_niter ):\n",
    "    print(f\"solution, x = {x}\")\n",
    "    print(f\"res  : {res}\")\n",
    "    print(f\"niter: {niter}\")\n",
    "    print(f\"etime: {time()-t1}\")\n",
    "else:\n",
    "    print(f\"max n.iter reached without convergence\")\n",
    "    print(f\"res: {res}\")\n",
    "    print(f\"etime: {time()-t1}\")\n",
    "\n",
    "\n",
    "\n"
   ]
  }
 ],
 "metadata": {
  "kernelspec": {
   "display_name": "Python 3 (ipykernel)",
   "language": "python",
   "name": "python3"
  },
  "language_info": {
   "codemirror_mode": {
    "name": "ipython",
    "version": 3
   },
   "file_extension": ".py",
   "mimetype": "text/x-python",
   "name": "python",
   "nbconvert_exporter": "python",
   "pygments_lexer": "ipython3",
   "version": "3.8.10"
  }
 },
 "nbformat": 4,
 "nbformat_minor": 5
}