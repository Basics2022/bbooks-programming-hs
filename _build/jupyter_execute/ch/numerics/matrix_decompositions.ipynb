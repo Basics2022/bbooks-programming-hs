{
 "cells": [
  {
   "cell_type": "markdown",
   "id": "8164bad3-29c9-432b-83ec-0590bf28ceb2",
   "metadata": {},
   "source": [
    "# Metodi di fattorizzazione di una matrice"
   ]
  },
  {
   "cell_type": "code",
   "execution_count": null,
   "id": "1a87fedd-caa1-4218-aee3-a4ef77b4d6b2",
   "metadata": {},
   "outputs": [],
   "source": []
  }
 ],
 "metadata": {
  "kernelspec": {
   "display_name": "Python 3 (ipykernel)",
   "language": "python",
   "name": "python3"
  },
  "language_info": {
   "codemirror_mode": {
    "name": "ipython",
    "version": 3
   },
   "file_extension": ".py",
   "mimetype": "text/x-python",
   "name": "python",
   "nbconvert_exporter": "python",
   "pygments_lexer": "ipython3",
   "version": "3.8.10"
  }
 },
 "nbformat": 4,
 "nbformat_minor": 5
}