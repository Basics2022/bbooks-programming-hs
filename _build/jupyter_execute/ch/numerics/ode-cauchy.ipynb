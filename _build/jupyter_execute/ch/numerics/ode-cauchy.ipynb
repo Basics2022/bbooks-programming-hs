{
 "cells": [
  {
   "cell_type": "markdown",
   "id": "f084cae6-b157-4afc-80a3-ec85fff1827d",
   "metadata": {},
   "source": [
    "# Problemi di Cauchy ai valori iniziali\n"
   ]
  },
  {
   "cell_type": "markdown",
   "id": "c272177e-6703-4127-a74d-9f42e96607ba",
   "metadata": {},
   "source": [
    "## Approccio a un problema di Cauchy di ordine $n$\n",
    "\n",
    "Un problema di Cauchy di ordine $n$\n",
    "\n",
    "$$\\begin{cases}\n",
    "  F(y^{(n)}(x), y^{(n-1)}(x), \\dots, y'(x), y(x), x) = 0 \\\\\n",
    "  y(x_0) = y^0 \\\\\n",
    "  y'(x_0) = y'^0 \\\\\n",
    "  \\dots \\\\\n",
    "  y^{(n-1)}(x_0) = y^{(n-1),0}\n",
    "\\end{cases}$$ \n",
    "\n",
    "con funzione incognita $y(x): D \\in \\mathbb{R} \\rightarrow \\mathbb{R}$, può essere riscritto come un problema di *\"ordine 1\"* per la funzione incognita $\\mathbf{z}(x): D \\in \\mathbb{R} \\rightarrow \\mathbb{R}^n$, definita come\n",
    "\n",
    "$$\\mathbf{z}(x) = (z_0(x), z_1(x), \\dots z_{n-1}(x)) := (y(x), y'(x), \\dots, y^{(n-1)}(x)) \\ .$$\n",
    "\n",
    "Esplicitando le relazioni tra le componenti di $\\mathbf{z}(x)$ e le derivate della funzione $y(x)$, $z_{k}(x) = y^{(k)}(x) = {y^{(k-1)}}'(x) = z'_{k-1}(x)$, il problema di Cauchy può essere riformulato come\n",
    "\n",
    "$$\\begin{cases}\n",
    "z'_0 - z_1 = 0 \\\\\n",
    "z'_1 - z_2 = 0 \\\\\n",
    "\\dots \\\\\n",
    "z'_{n-2} - z_{n-1} = 0 \\\\\n",
    "F(z'_{n-1}(x), z_{n-1}(x), \\dots, z_1(x), z_0(x)) = 0 \\ ,\n",
    "\\end{cases}\n",
    "\\qquad , \\qquad\n",
    "\\text{i.c.} \\quad\n",
    "\\begin{cases}\n",
    "z_0(x_0) = y^0 \\\\\n",
    "z_1(x_0) = y'^0 \\\\\n",
    "\\dots \\\\\n",
    "z_{n-1}(x_0) = y^{(n-1),0}\n",
    "\\end{cases}\n",
    "$$\n",
    "\n",
    "che può essere riscritto con il formalismo vettoriale come\n",
    "\n",
    "$$\\begin{cases}\n",
    "  \\mathbf{F}(\\mathbf{z}'(x), \\mathbf{z}) = \\mathbf{0} \\\\\n",
    "  \\mathbf{z}(x_0) = \\mathbf{z}_0\n",
    "\\end{cases}$$"
   ]
  },
  {
   "cell_type": "markdown",
   "id": "e6ccb4a5-df9a-4960-994c-d76ade7f63a3",
   "metadata": {},
   "source": [
    "## Caratteristiche (cenni)\n",
    "- accuratezza, consistenza, convergenza\n",
    "- stabilità: 0-, A- condizionata e incondizionata\n",
    "\n"
   ]
  },
  {
   "cell_type": "markdown",
   "id": "bb663016-736b-4937-b0fe-c7b09bd57cae",
   "metadata": {},
   "source": [
    "## Schemi numerici"
   ]
  },
  {
   "cell_type": "markdown",
   "id": "2476ae04-837b-4a69-90a8-f8ab61aee8ec",
   "metadata": {},
   "source": [
    "### Schemi numerici a un passo"
   ]
  },
  {
   "cell_type": "markdown",
   "id": "4a695126-3d8e-4f0b-b25a-603b1d65a9ec",
   "metadata": {},
   "source": [
    "### Schemi numerici multi-step"
   ]
  },
  {
   "cell_type": "code",
   "execution_count": null,
   "id": "3fcd1568-668d-4993-84f6-3dfad2911329",
   "metadata": {},
   "outputs": [],
   "source": []
  }
 ],
 "metadata": {
  "kernelspec": {
   "display_name": "Python 3 (ipykernel)",
   "language": "python",
   "name": "python3"
  },
  "language_info": {
   "codemirror_mode": {
    "name": "ipython",
    "version": 3
   },
   "file_extension": ".py",
   "mimetype": "text/x-python",
   "name": "python",
   "nbconvert_exporter": "python",
   "pygments_lexer": "ipython3",
   "version": "3.8.10"
  }
 },
 "nbformat": 4,
 "nbformat_minor": 5
}