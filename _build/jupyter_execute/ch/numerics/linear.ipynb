{
 "cells": [
  {
   "cell_type": "markdown",
   "id": "226d6f48-1847-4f2c-9323-2ab6ab8563c4",
   "metadata": {},
   "source": [
    "# Sistemi lineari"
   ]
  },
  {
   "cell_type": "markdown",
   "id": "24b31a94-0cc1-4185-8794-347dd7534d9c",
   "metadata": {},
   "source": [
    "La soluzione di sistemi lineari è un problema che compare in molte altre applicazioni di calcolo numerico ...\n",
    "\n",
    "Esistono due grandi classi di metodi/algoritmi per la soluzione di sistemi lineari:\n",
    "- i metodi diretti, che si basano su una fattorizzazione della matrice\n",
    "- i metodi indiretti, che si basano sul calcolo di prodotti matrice-vettore\n",
    "\n",
    "**todo** \n",
    "- Riferimento alla sezione di matematica sull'**algebra lineare** per dare le basi: cos'è un sistema lineare? Come può essere scritto usando il formalismo matriciale? Caratteristiche principali di una matrice (rango, nucleo, spettro, ...)\n",
    "- Riferimento ai problemi numerici: condizionamento?"
   ]
  },
  {
   "cell_type": "code",
   "execution_count": null,
   "id": "1ce078db-62e5-469b-8417-253a6b6fdb0c",
   "metadata": {},
   "outputs": [],
   "source": []
  }
 ],
 "metadata": {
  "kernelspec": {
   "display_name": "Python 3 (ipykernel)",
   "language": "python",
   "name": "python3"
  },
  "language_info": {
   "codemirror_mode": {
    "name": "ipython",
    "version": 3
   },
   "file_extension": ".py",
   "mimetype": "text/x-python",
   "name": "python",
   "nbconvert_exporter": "python",
   "pygments_lexer": "ipython3",
   "version": "3.8.10"
  }
 },
 "nbformat": 4,
 "nbformat_minor": 5
}