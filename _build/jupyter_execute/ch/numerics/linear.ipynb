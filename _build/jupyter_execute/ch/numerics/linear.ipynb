{
 "cells": [
  {
   "cell_type": "markdown",
   "id": "226d6f48-1847-4f2c-9323-2ab6ab8563c4",
   "metadata": {},
   "source": [
    "# Sistemi lineari"
   ]
  },
  {
   "cell_type": "markdown",
   "id": "24b31a94-0cc1-4185-8794-347dd7534d9c",
   "metadata": {},
   "source": [
    "La soluzione di sistemi lineari è un problema che compare in molte altre applicazioni di calcolo numerico.\n",
    "\n",
    "<!--\n",
    "**todo** \n",
    "- Riferimento alla sezione di matematica sull'**algebra lineare** per dare le basi: cos'è un sistema lineare? Come può essere scritto usando il formalismo matriciale? Caratteristiche principali di una matrice (rango, nucleo, spettro, ...)\n",
    "- Riferimento ai problemi numerici: condizionamento?\n",
    "-->\n",
    "\n",
    "**Formalismo matriciale.** Con il formalismo matriciale, un sistema di equazioni lineari può essere scritto come\n",
    "\n",
    "$$\\mathbf{A} \\mathbf{x} = \\mathbf{b}$$\n",
    "\n",
    "**Classificazione.** In generale, i sistemi di equazioni lineari possono essere classificati:\n",
    "- in base al numero di incognite $n_u$ ed equazioni indipendenti $n_e$: $n_e = n_u$ sistemi determinati con un'unica soluzione; $n_e > n_u$ sistemi sovradeterminati: con nessuna soluzione in generale; $n_e < n_u$ sistemi indeterminati, con infinite soluzioni in generale\n",
    "- in base alla \"struttura\" del sistema:\n",
    "  - diagonale, tridiagonale, ...\n",
    "- in base al numero di coefficienti non-nulli della matrice $\\mathbf{A}$: sistemi con matrice $\\mathbf{A}$ piena o **sparsa**; questa distinzione non è netta, ma il più delle volte risulta chiara dalla particolare applicazione/metodo.\n",
    "\n",
    "**Algoritmi.** Esistono due grandi classi di metodi/algoritmi per la soluzione di sistemi lineari:\n",
    "- i **metodi diretti**, che si basano su una fattorizzazione della matrice\n",
    "- i **metodi indiretti**, che si basano sul calcolo di prodotti matrice-vettore\n"
   ]
  },
  {
   "cell_type": "markdown",
   "id": "3e2cb8b6-2827-4f7e-ab4e-26f04f413bbc",
   "metadata": {},
   "source": [
    "## Sistemi lineari quadrati con matrici piene\n",
    "\n",
    "In questa sezione si discute la soluzione di sistemi lineari quadrati con matrici piene con le funzoni disponibili nella libreria NumPy."
   ]
  },
  {
   "cell_type": "markdown",
   "id": "5d656df2-8a4f-4f30-9f7a-d72b88af6951",
   "metadata": {},
   "source": [
    "### Esempio 1. Sistema quadrato determinato\n",
    "\n",
    "Il sistema lineare\n",
    "\n",
    "$$\\begin{cases}\n",
    "  x_1 + 2 \\, x_2 = 0 \\\\\n",
    "  x_1 + x_3 = -1 \\\\\n",
    "  x_1 + x_2 + x_3 = 1 \\\\\n",
    "\\end{cases}$$\n",
    "\n",
    "può essere riscritto con il formalismo matriciale nella forma $\\mathbf{A} \\mathbf{x} = \\mathbf{b}$,\n",
    "\n",
    "$$\n",
    "\\underbrace{\\begin{bmatrix} 1 & 2 & 0 \\\\ 1 & 0 & 1 \\\\ 1 & 1 & 1 \\end{bmatrix}}_{\\mathbf{A}}\n",
    "\\underbrace{\\begin{bmatrix} x_1 \\\\ x_2 \\\\ x_3 \\end{bmatrix}}_{\\mathbf{x}} =\n",
    "\\underbrace{\\begin{bmatrix} 0 \\\\ -1 \\\\ 1 \\end{bmatrix}}_{\\mathbf{b}}\n",
    "$$\n",
    "\n",
    "e risolto grazie alla funzione $\\texttt{solve(A, b)}$ della libreria $\\texttt{numpy.linalg}$.\n"
   ]
  },
  {
   "cell_type": "code",
   "execution_count": 35,
   "id": "87c16d24-5b60-46d6-831f-dff8bf960586",
   "metadata": {},
   "outputs": [
    {
     "name": "stdout",
     "output_type": "stream",
     "text": [
      "Sol, x: [-4.  2.  3.]\n",
      "Proof : Ax = [ 0. -1.  1.]\n",
      "         b = [ 0. -1.  1.]\n"
     ]
    }
   ],
   "source": [
    "\"\"\"\n",
    "Linear systems with full square non-singular matrices\n",
    "\"\"\"\n",
    "\n",
    "import numpy as np\n",
    "\n",
    "A = np.array([[1.,2.,0.], [1.,0.,1.], [1.,1.,1.]])\n",
    "b = np.array([0.,-1.,1.])\n",
    "\n",
    "x = np.linalg.solve(A, b)\n",
    "\n",
    "print(f\"Sol, x: {x}\")\n",
    "print(f\"Proof : Ax = {A @ x}\")   # Check that Ax = b\n",
    "print(f\"         b = {b}\")\n"
   ]
  },
  {
   "cell_type": "markdown",
   "id": "d6911744-4654-455a-ba4c-165459a84bef",
   "metadata": {},
   "source": [
    "### Esempio 2. Sistemi quadrati non determinati\n",
    "\n",
    "I sistemi lineari\n",
    "\n",
    "$$\\begin{cases}\n",
    "  x_1 + 2 \\, x_2 = 1 \\\\\n",
    "  x_1 + x_3 = -1 \\\\\n",
    "  2 x_1 + 2 \\, x_2 + x_3 = 1 \\\\\n",
    "\\end{cases}\n",
    "\\qquad , \\qquad\n",
    "\\begin{cases}\n",
    "  x_1 + 2 \\, x_2 = 0 \\\\\n",
    "  x_1 + x_3 = -1 \\\\\n",
    "  2 x_1 + 2 \\, x_2 + x_3 = 1 \\\\\n",
    "\\end{cases}$$\n",
    "\n",
    "sono due sistemi quadrati non determinati. Il primo sistema non ha soluzioni, mentre il secondo ne ha infinite della forma\n",
    "\n",
    "$$(x_1, x_2, x_3) = (-2, 1, 1) + \\alpha (2, -1, -2) \\ , \\quad \\alpha \\in \\mathbb{R} \\ .$$\n",
    "\n",
    "Dopo aver riscritto i sistemi lineari con il formalismo matriciale, si può provare a risolverli usando la funzione $\\texttt{solve(A, b)}$ della libreria $\\texttt{numpy.linalg}$. In entrambi i casi, la funzione $\\texttt{solve(A,b)}$ resitiuisce un errore, segnalando che la matrice del sistema lineare è singolare, definizione equivalente di sistemi non determinati.\n",
    "\n",
    "- **todo** *dare interpretazione geometrica, fare grafico?*\n",
    "- **todo** *spiegare motivo?*\n",
    "  - *Esistono algoritmi che trovano almeno una soluzione nel caso in cui ne esistano infinite?*: discutere gli algoritmi implementati nella funzione $numpy.linalg.solve()$ e rimandare alla documentazione della libreria; discutere altri algoritmi che rendono possibile trovare una soluzione\n",
    "  - *Esistono algoritmi che trovano una soluzione approssimata nel caso in cui non ne esistano?*: **minimi quadrati**, minimizzano l'errore, dare un'interpretazione geometrica\n"
   ]
  },
  {
   "cell_type": "code",
   "execution_count": 36,
   "id": "ca7c1e8c-f2f2-4d3a-b3d5-0417ffc3d989",
   "metadata": {},
   "outputs": [
    {
     "ename": "LinAlgError",
     "evalue": "Singular matrix",
     "output_type": "error",
     "traceback": [
      "\u001b[0;31m---------------------------------------------------------------------------\u001b[0m",
      "\u001b[0;31mLinAlgError\u001b[0m                               Traceback (most recent call last)",
      "Cell \u001b[0;32mIn[36], line 11\u001b[0m\n\u001b[1;32m      8\u001b[0m b \u001b[38;5;241m=\u001b[39m np\u001b[38;5;241m.\u001b[39marray([\u001b[38;5;241m1.\u001b[39m,\u001b[38;5;241m-\u001b[39m\u001b[38;5;241m1.\u001b[39m,\u001b[38;5;241m1.\u001b[39m])\n\u001b[1;32m      9\u001b[0m \u001b[38;5;66;03m# b = np.array([0.,-1.,1.])\u001b[39;00m\n\u001b[0;32m---> 11\u001b[0m x \u001b[38;5;241m=\u001b[39m \u001b[43mnp\u001b[49m\u001b[38;5;241;43m.\u001b[39;49m\u001b[43mlinalg\u001b[49m\u001b[38;5;241;43m.\u001b[39;49m\u001b[43msolve\u001b[49m\u001b[43m(\u001b[49m\u001b[43mA\u001b[49m\u001b[43m,\u001b[49m\u001b[43m \u001b[49m\u001b[43mb\u001b[49m\u001b[43m)\u001b[49m\n\u001b[1;32m     13\u001b[0m \u001b[38;5;28mprint\u001b[39m(\u001b[38;5;124mf\u001b[39m\u001b[38;5;124m\"\u001b[39m\u001b[38;5;124mSol, x: \u001b[39m\u001b[38;5;132;01m{\u001b[39;00mx\u001b[38;5;132;01m}\u001b[39;00m\u001b[38;5;124m\"\u001b[39m)\n\u001b[1;32m     14\u001b[0m \u001b[38;5;28mprint\u001b[39m(\u001b[38;5;124mf\u001b[39m\u001b[38;5;124m\"\u001b[39m\u001b[38;5;124mProof : Ax = \u001b[39m\u001b[38;5;132;01m{\u001b[39;00mA\u001b[38;5;250m \u001b[39m\u001b[38;5;241m@\u001b[39m\u001b[38;5;250m \u001b[39mx\u001b[38;5;132;01m}\u001b[39;00m\u001b[38;5;124m\"\u001b[39m)   \u001b[38;5;66;03m# Check that Ax = b\u001b[39;00m\n",
      "File \u001b[0;32m<__array_function__ internals>:200\u001b[0m, in \u001b[0;36msolve\u001b[0;34m(*args, **kwargs)\u001b[0m\n",
      "File \u001b[0;32m~/.local/lib/python3.8/site-packages/numpy/linalg/linalg.py:386\u001b[0m, in \u001b[0;36msolve\u001b[0;34m(a, b)\u001b[0m\n\u001b[1;32m    384\u001b[0m signature \u001b[38;5;241m=\u001b[39m \u001b[38;5;124m'\u001b[39m\u001b[38;5;124mDD->D\u001b[39m\u001b[38;5;124m'\u001b[39m \u001b[38;5;28;01mif\u001b[39;00m isComplexType(t) \u001b[38;5;28;01melse\u001b[39;00m \u001b[38;5;124m'\u001b[39m\u001b[38;5;124mdd->d\u001b[39m\u001b[38;5;124m'\u001b[39m\n\u001b[1;32m    385\u001b[0m extobj \u001b[38;5;241m=\u001b[39m get_linalg_error_extobj(_raise_linalgerror_singular)\n\u001b[0;32m--> 386\u001b[0m r \u001b[38;5;241m=\u001b[39m \u001b[43mgufunc\u001b[49m\u001b[43m(\u001b[49m\u001b[43ma\u001b[49m\u001b[43m,\u001b[49m\u001b[43m \u001b[49m\u001b[43mb\u001b[49m\u001b[43m,\u001b[49m\u001b[43m \u001b[49m\u001b[43msignature\u001b[49m\u001b[38;5;241;43m=\u001b[39;49m\u001b[43msignature\u001b[49m\u001b[43m,\u001b[49m\u001b[43m \u001b[49m\u001b[43mextobj\u001b[49m\u001b[38;5;241;43m=\u001b[39;49m\u001b[43mextobj\u001b[49m\u001b[43m)\u001b[49m\n\u001b[1;32m    388\u001b[0m \u001b[38;5;28;01mreturn\u001b[39;00m wrap(r\u001b[38;5;241m.\u001b[39mastype(result_t, copy\u001b[38;5;241m=\u001b[39m\u001b[38;5;28;01mFalse\u001b[39;00m))\n",
      "File \u001b[0;32m~/.local/lib/python3.8/site-packages/numpy/linalg/linalg.py:89\u001b[0m, in \u001b[0;36m_raise_linalgerror_singular\u001b[0;34m(err, flag)\u001b[0m\n\u001b[1;32m     88\u001b[0m \u001b[38;5;28;01mdef\u001b[39;00m \u001b[38;5;21m_raise_linalgerror_singular\u001b[39m(err, flag):\n\u001b[0;32m---> 89\u001b[0m     \u001b[38;5;28;01mraise\u001b[39;00m LinAlgError(\u001b[38;5;124m\"\u001b[39m\u001b[38;5;124mSingular matrix\u001b[39m\u001b[38;5;124m\"\u001b[39m)\n",
      "\u001b[0;31mLinAlgError\u001b[0m: Singular matrix"
     ]
    }
   ],
   "source": [
    "\"\"\"\n",
    "Linear systems with full square singular matrices\n",
    "\"\"\"\n",
    "\n",
    "import numpy as np\n",
    "\n",
    "A = np.array([[1.,2.,0.], [1.,0.,1.], [2.,2.,1.]])\n",
    "b = np.array([1.,-1.,1.])\n",
    "# b = np.array([0.,-1.,1.])\n",
    "\n",
    "x = np.linalg.solve(A, b)\n",
    "\n",
    "print(f\"Sol, x: {x}\")\n",
    "print(f\"Proof : Ax = {A @ x}\")   # Check that Ax = b\n",
    "print(f\"         b = {b}\")\n"
   ]
  },
  {
   "cell_type": "markdown",
   "id": "1d57c22b-1e93-4e3c-939c-5089f3f3dd71",
   "metadata": {},
   "source": [
    "## Matrici sparse\n",
    "\n",
    "Una matrice sparsa ha un elevato numero di elementi nulli. Una matrice sparsa viene definita in maniera efficiente salvando in memoria solo gli elementi non nulli (**limiti di memoria**); gli algoritmi per le matrici sparse risultano spesso efficienti perché evitano un molte operazioni che darebbero risultati parziali nulli (**velocità**).\n",
    "\n",
    "- **todo** dire due parole sui formati\n",
    "- **todo** fare esempio di calcolo del prodotto matrice vettore per matrici sparse\n"
   ]
  },
  {
   "cell_type": "markdown",
   "id": "26bb74aa-1de1-4cf5-9d03-5a554c0a0ad0",
   "metadata": {},
   "source": [
    "### Esempio 1 - Matrice di rigidezza di elementi finiti\n",
    "\n",
    "Il sistema lineare\n",
    "\n",
    "$$\\begin{bmatrix} 2 & -1 & 0 & 0 & 0 \\\\ -1 & 2 & -1 & 0 & 0 \\\\ 0 & -1 & 2 & -1 & 0 \\\\ 0 & 0 & -1 & 2 & -1 \\\\ 0 & 0 & 0 & -1  & 2 \\end{bmatrix} \\begin{bmatrix} x_0 \\\\ x_1 \\\\ x_2 \\\\ x_3 \\\\ x_4 \\end{bmatrix} = \\begin{bmatrix} 1 \\\\ 1 \\\\ 1 \\\\ 1 \\\\ 1 \\end{bmatrix} \\ ,$$\n",
    "\n",
    "è descritto da una matrice, $N=5$, $N \\times N = 25$, che ha $N+(N-1)+(N-1) = 13$ elementi non nulli. Il rapporto tra il numero di elementi non nulli e il numero di elementi totali è $\\frac{3N-2}{N^2} \\sim \\frac{3}{N}$. Al crescere della dimensione del problema, la matrice $\\mathbf{A}$ diventa sempre più sparsa e diventa sempre più conveniente definirla come matrice sparsa, ed usare gli algoritmi pensati per questo tipo di matrici."
   ]
  },
  {
   "cell_type": "code",
   "execution_count": 37,
   "id": "85e62f7a-145a-470b-aad5-071d571b1f2a",
   "metadata": {},
   "outputs": [
    {
     "name": "stdout",
     "output_type": "stream",
     "text": [
      "Sol, x: [2.5 4.  4.5 4.  2.5]\n"
     ]
    }
   ],
   "source": [
    "\"\"\"\n",
    "Linear systems with square non-singular matrices, in sparse format\n",
    "\"\"\"\n",
    "\n",
    "from scipy import sparse\n",
    "\n",
    "# Printout level: the higher the number, the more verbose the script\n",
    "printout_level = 1\n",
    "\n",
    "n_nodes = 5\n",
    "i_nodes = list(np.arange(5))\n",
    "\n",
    "# Build sparse stiffness matrix, I: row indices, J: col indices, E: matrix elems\n",
    "I = np.array(i_nodes+i_nodes[:-1]+i_nodes[ 1:])\n",
    "J = np.array(i_nodes+i_nodes[ 1:]+i_nodes[:-1])\n",
    "E = np.array(n_nodes*[2]+(n_nodes-1)*[-1]+(n_nodes-1)*[-1])\n",
    "\n",
    "A = sparse.coo_array((E, (I,J))).tocsr()\n",
    "\n",
    "if ( printout_level > 50 ):  # print matrix in sparse format\n",
    "    print(f\" I: {I}\\n J: {J}\\n E: {E}\")\n",
    "    print(f\" A:\\n {A}\")\n",
    "    \n",
    "if ( printout_level > 60 ):  # convert and primt matrix in full format\n",
    "    print(f\" A.todense(): {A.todense()}\")\n",
    "\n",
    "# RHS\n",
    "b = np.array(5*[1])\n",
    "\n",
    "# Solve linear system\n",
    "x = sparse.linalg.spsolve(A, b)\n",
    "\n",
    "print(f\"Sol, x: {x}\")\n"
   ]
  },
  {
   "cell_type": "code",
   "execution_count": null,
   "id": "5cc06825-e03f-448a-bc03-7b2768d8e2b8",
   "metadata": {},
   "outputs": [],
   "source": []
  }
 ],
 "metadata": {
  "kernelspec": {
   "display_name": "Python 3 (ipykernel)",
   "language": "python",
   "name": "python3"
  },
  "language_info": {
   "codemirror_mode": {
    "name": "ipython",
    "version": 3
   },
   "file_extension": ".py",
   "mimetype": "text/x-python",
   "name": "python",
   "nbconvert_exporter": "python",
   "pygments_lexer": "ipython3",
   "version": "3.8.10"
  }
 },
 "nbformat": 4,
 "nbformat_minor": 5
}