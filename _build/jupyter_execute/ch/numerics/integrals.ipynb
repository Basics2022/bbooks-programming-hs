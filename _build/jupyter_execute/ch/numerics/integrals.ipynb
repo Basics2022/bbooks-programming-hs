{
 "cells": [
  {
   "cell_type": "markdown",
   "id": "4a25e122-5645-45e3-b0b8-2a2d2213f781",
   "metadata": {},
   "source": [
    "# Integrali"
   ]
  },
  {
   "cell_type": "markdown",
   "id": "0106fc1e-feed-4dc4-a586-f11a53f1901a",
   "metadata": {},
   "source": [
    "## Integrazione di Newton-Cotes\n",
    "\n",
    "- Formula del punto medio\n",
    "- Formula del trapezio"
   ]
  },
  {
   "cell_type": "markdown",
   "id": "59384231-076a-4a1c-8ff9-9bbf0ff53fc5",
   "metadata": {},
   "source": [
    "## Integrazione di Gauss\n",
    "\n",
    "L'integrazione di Gauss permette di calcolare in maniera esatta l'integrale di una funzione polinomiale $p^(n)(x)$ su un intervallo $[a,b]$, come somma pesata della funzione valuatata in alcuni punti dell'intervallo,\n",
    "\n",
    "$$\\int_a^b p^{(n)}(x) dx = \\sum_{g} w_g f(x_g) \\ .$$\n",
    "\n",
    "Per motivi di generalizzazione dell'algoritmo, nella definizione dei **pesi** $w_i$ e dei **nodi di Gauss** $x_i$, l'integrale viene riportato all'integrale su un intervallo di riferimento, tramite una trasformazione di coordinate.\n",
    "\n",
    "Per domini 1D, l'intervallo di riferimento per la quadratura di Gauss è l'intervallo $\\xi = [-1, 1]$ e il cambio di variabili è\n",
    "\n",
    "$$x = \\frac{a+b}{2} + \\frac{b-a}{2}(\\xi - 1) \\ ,$$\n",
    "\n",
    "così che l'integrale originale può essere scritto come\n",
    "\n",
    "$$\\begin{aligned}\n",
    "\\int_{x=a}^b p^{(n)}(x) dx & = \\int_{\\xi = -1}^{1} p^(n) (x(\\xi)) \\dfrac{d x}{d\\xi} d \\xi = \\\\\n",
    " & = \\dfrac{b-a}{2} \\int_{\\xi=-1}^{1} p^{(n)}(x(\\xi)) d \\xi = \\dfrac{b-a}{2} \\sum_{g} w_g \\, p^{(n)}\\left(x(\\xi_g)\\right)\n",
    "\\end{aligned}$$"
   ]
  },
  {
   "cell_type": "code",
   "execution_count": null,
   "id": "36c8330c-06b6-4f97-8213-9b4a67994905",
   "metadata": {},
   "outputs": [],
   "source": []
  }
 ],
 "metadata": {
  "kernelspec": {
   "display_name": "Python 3 (ipykernel)",
   "language": "python",
   "name": "python3"
  },
  "language_info": {
   "codemirror_mode": {
    "name": "ipython",
    "version": 3
   },
   "file_extension": ".py",
   "mimetype": "text/x-python",
   "name": "python",
   "nbconvert_exporter": "python",
   "pygments_lexer": "ipython3",
   "version": "3.8.10"
  }
 },
 "nbformat": 4,
 "nbformat_minor": 5
}