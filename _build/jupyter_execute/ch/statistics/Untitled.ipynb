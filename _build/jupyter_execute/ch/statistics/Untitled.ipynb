{
 "cells": [
  {
   "cell_type": "markdown",
   "id": "4b780da1-711b-43fc-b72c-7de0903bfc15",
   "metadata": {},
   "source": [
    "(test:chi2-pearson:dice)=\n"
   ]
  },
  {
   "cell_type": "code",
   "execution_count": null,
   "id": "8ffb0b7c-60d1-42db-95f8-f806276517e9",
   "metadata": {},
   "outputs": [],
   "source": []
  }
 ],
 "metadata": {
  "kernelspec": {
   "display_name": "Python 3 (ipykernel)",
   "language": "python",
   "name": "python3"
  },
  "language_info": {
   "codemirror_mode": {
    "name": "ipython",
    "version": 3
   },
   "file_extension": ".py",
   "mimetype": "text/x-python",
   "name": "python",
   "nbconvert_exporter": "python",
   "pygments_lexer": "ipython3",
   "version": "3.8.10"
  }
 },
 "nbformat": 4,
 "nbformat_minor": 5
}