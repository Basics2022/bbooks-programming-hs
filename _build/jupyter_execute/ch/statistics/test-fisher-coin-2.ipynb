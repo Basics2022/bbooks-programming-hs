{
 "cells": [
  {
   "cell_type": "markdown",
   "id": "5adb198a-4ab9-4e35-8872-bd990aed6c3e",
   "metadata": {},
   "source": [
    "# Moneta truccata\n",
    "\n",
    "Si vuole valutare se una moneta è truccata. L'ipotesi nulla $\\text{H}_0$ da falsificare è \"la moneta non è truccata\". Si sceglie come statistica test la percentuale di risultati \"testa\" sul numero di lanci.\n",
    "\n",
    "L'esperimento viene condotto per un numero incrementale di esperimenti."
   ]
  },
  {
   "cell_type": "markdown",
   "id": "26796aff-2df9-4aa9-8780-ddb8effd46f6",
   "metadata": {
    "editable": true,
    "slideshow": {
     "slide_type": ""
    },
    "tags": []
   },
   "source": [
    "## Import librerie e funzioni utili"
   ]
  },
  {
   "cell_type": "markdown",
   "id": "6ea92a64-06f2-44ea-bed5-66d40dfad362",
   "metadata": {
    "editable": true,
    "slideshow": {
     "slide_type": ""
    },
    "tags": []
   },
   "source": [
    "### Import librerie\n",
    "Reset delle variabili e import librerie."
   ]
  },
  {
   "cell_type": "code",
   "execution_count": 1,
   "id": "b87974b1-53e3-4de7-97ea-4b44eac7e375",
   "metadata": {
    "editable": true,
    "slideshow": {
     "slide_type": ""
    },
    "tags": [
     "hide-input"
    ]
   },
   "outputs": [],
   "source": [
    "%reset -f\n",
    "\n",
    "# Import libraries\n",
    "import numpy as np\n",
    "import scipy as sp\n",
    "import matplotlib.pyplot as plt"
   ]
  },
  {
   "cell_type": "markdown",
   "id": "47b842c1-affd-4ed4-9a8a-60e62516d47d",
   "metadata": {
    "editable": true,
    "slideshow": {
     "slide_type": ""
    },
    "tags": []
   },
   "source": [
    "## Funzione per lo svolgimento di un esperimento\n",
    "La funzione per lo svolgimento di un esperimento qui definita prende come argomenti un generatore di numeri casuali e i suoi parametri, e restituisce i campioni prodotti secondo la distribuzione data. Vengono definiti dei parametri di default, corrispondenti a una distribuzione di Bernoulli uniforme"
   ]
  },
  {
   "cell_type": "code",
   "execution_count": 2,
   "id": "8f14db2e-949e-42ba-aa6d-95e6d272c0a1",
   "metadata": {
    "editable": true,
    "slideshow": {
     "slide_type": ""
    },
    "tags": [
     "hide-input"
    ]
   },
   "outputs": [],
   "source": [
    "#> Random process of interest, unknown execpt for the sample.\n",
    "p_head_default = .5\n",
    "p_tail_default = 1. - p_head_default\n",
    "\n",
    "# Coin flip as a Bernoulli probability with outcomes: a = [0, 1] with prob p = [p_head, p_tail]\n",
    "flip_rng_default = np.random.default_rng(42).choice\n",
    "flip_params_default = { 'a': [0,1], 'p': [p_head_default, p_tail_default], 'size': 1 }   # default params\n",
    "\n",
    "def run_experiment(rng=flip_rng_default, rng_params=flip_params_default):\n",
    "    return rng(**rng_params)"
   ]
  },
  {
   "cell_type": "markdown",
   "id": "97f694d5-2171-44e4-a9bb-08c538f57c28",
   "metadata": {
    "editable": true,
    "slideshow": {
     "slide_type": ""
    },
    "tags": []
   },
   "source": [
    "### Funzione che restituisce la pdf $p(x|\\text{H}_0)$"
   ]
  },
  {
   "cell_type": "code",
   "execution_count": 3,
   "id": "28d5cd04-c4dd-4f0d-8c60-209d16f0752d",
   "metadata": {
    "editable": true,
    "slideshow": {
     "slide_type": ""
    },
    "tags": [
     "hide-input"
    ]
   },
   "outputs": [],
   "source": [
    "# ! Approach for low-dimensional problems, with no memory or performance issues\n",
    "\n",
    "#> Null hypotesis, H0: the coin is fair\n",
    "# # The outcome of a single flip is a r.v. distributed like a Bernoulli variable with p_head = .5\n",
    "# # Every flip is statistically independent from the other\n",
    "# ixv= np.arange(n_flips+1)\n",
    "# xv = ixv / n_flips\n",
    "# \n",
    "# #> Test statistics: average n.of heads in flip_n samples\n",
    "# # H0 hypotesis implies that the outcome of flip_n is a r.v. with Binomial pdf\n",
    "# x_H0_fv = sp.stats.binom.pmf(ixv, n_flips, p_head)\n",
    "\n",
    "\n",
    "def px_H0(p, p_params,):\n",
    "    return p(**p_params)\n",
    "    "
   ]
  },
  {
   "cell_type": "markdown",
   "id": "530eba05-2af6-407e-8557-3ecea300cea9",
   "metadata": {
    "editable": true,
    "slideshow": {
     "slide_type": ""
    },
    "tags": []
   },
   "source": [
    "### Funzioni per la ricerca degli intervalli di accettazione dell'ipotesi\n",
    "Vengono qui definite due funzoni per la ricerca degli intervalli di accettazione, dato il livello di significatività del test richiesto. La prima funzione ricerca un unico intervallo di accettazione riferito a un unico livello di significatività; la seconda funzione ricerca tanti intervalli di accettazione quanti sono i livelli di significatività cercati: ad esempio, si possono cercare simultaneamente i livellidi significatività associati a $\\sigma$, $2 \\sigma$, $3 \\sigma$..."
   ]
  },
  {
   "cell_type": "code",
   "execution_count": 4,
   "id": "6e2f2f5b-0f24-4c3c-9f9b-39720ad79042",
   "metadata": {
    "editable": true,
    "slideshow": {
     "slide_type": ""
    },
    "tags": [
     "hide-input"
    ]
   },
   "outputs": [],
   "source": [
    "#> Acceptance and rejection regions, for discrete pdf\n",
    "# Starting from the value of the test statistics x_max = max(x_H0_fv), expand \n",
    "\n",
    "def find_acceptance_region(p, alpha, test_type='value'):\n",
    "    \"\"\"\n",
    "    Find acceptance region for a discrete pdf, supposed to be unimodal \n",
    "    for a given value of significance level\n",
    "    \n",
    "    test_type is not used so far...\n",
    "    \"\"\"\n",
    "    x_max = np.argmax(p)\n",
    "    nx = len(p)\n",
    "    threshold = 1. - alpha\n",
    "\n",
    "    # Initialization\n",
    "    p_acc, xl, xr = p[x_max], x_max, x_max\n",
    "    \n",
    "    # if ( test_type == 'value' ):\n",
    "    while ( p_acc < threshold ):\n",
    "        if ( p[xl-1] >= p[xr+1] ):\n",
    "            xl -= 1;  p_acc += p[xl]\n",
    "        else:\n",
    "            xr += 1;  p_acc += p[xr]\n",
    "\n",
    "    # else:\n",
    "    return xl, xr\n",
    "\n",
    "\n",
    "def find_acceptance_regions(p, alpha_v, test_type='value'):\n",
    "    \"\"\"\n",
    "    Find acceptance region for a discrete pdf, supposed to be unimodal \n",
    "    for a set of values of significance levels, type(alpha_v) = numpy.array\n",
    "\n",
    "    test_type is not used so far...\n",
    "    \"\"\"\n",
    "    #> Dimensions\n",
    "    ix_max = np.argmax(p)\n",
    "    nx, nal = len(p), len(alpha_v)\n",
    "    ixlv, ixrv = np.zeros(nal), np.zeros(nal)\n",
    "\n",
    "    #> Sorting\n",
    "    alpha_v = np.sort(alpha_v)[::-1]\n",
    "    threshold_v = 1. - alpha_v\n",
    "\n",
    "    # Initialization\n",
    "    p_acc, ixl, ixr = p[ix_max], ix_max, ix_max\n",
    "\n",
    "    #> Loop over all the thresholds\n",
    "    for ial in np.arange(nal):        \n",
    "        while ( p_acc < threshold_v[ial] ):\n",
    "            if ( p[ixl-1] > p[ixr+1] ):\n",
    "                ixl -= 1;  p_acc += p[ixl]\n",
    "            else:\n",
    "                ixr += 1;  p_acc += p[ixr]\n",
    "                \n",
    "        ixlv[ial], ixrv[ial] = ixl, ixr\n",
    "        \n",
    "\n",
    "    return ixlv, ixrv\n",
    "\n",
    "#> Test\n",
    "# n_flips = 160\n",
    "# x_H0_fv = sp.stats.binom.pmf(np.arange(n_flips+1), n_flips, .5)   # p_fair_coin .5\n",
    "# xlv, xrv = find_acceptance_regions(x_H0_fv, alpha_v,)\n",
    "# print(xlv, xrv)\n"
   ]
  },
  {
   "cell_type": "markdown",
   "id": "93f2cd59-0c2c-4b67-89a2-8c11ed74d847",
   "metadata": {
    "editable": true,
    "slideshow": {
     "slide_type": ""
    },
    "tags": []
   },
   "source": [
    "## Esperimento"
   ]
  },
  {
   "cell_type": "markdown",
   "id": "189b0021-accf-4335-9a44-21bd72e95c11",
   "metadata": {
    "editable": true,
    "slideshow": {
     "slide_type": ""
    },
    "tags": []
   },
   "source": [
    "### Livelli di accettazione"
   ]
  },
  {
   "cell_type": "code",
   "execution_count": 5,
   "id": "f8b7f8ac-4e7b-4ec5-856d-c38c00717621",
   "metadata": {
    "editable": true,
    "slideshow": {
     "slide_type": ""
    },
    "tags": [
     "hide-input"
    ]
   },
   "outputs": [],
   "source": [
    "#> Test characteristics: symmetric\n",
    "test_type = 'value'  # 'symmetric', 'right', 'left', 'value'\n",
    "\n",
    "#> Significance level, alpha = .05 (\"default\")\n",
    "alpha = .05\n",
    "alpha_v = np.array([ .3, .05, .003 ])"
   ]
  },
  {
   "cell_type": "markdown",
   "id": "ba48a880-d18c-4514-9026-849c9333fd88",
   "metadata": {
    "editable": true,
    "slideshow": {
     "slide_type": ""
    },
    "tags": []
   },
   "source": [
    "### Svolgimento esperimento\n",
    "L'esperimento viene svolto usando due monete, la cui natura è a priori incognita, che possono essere modellate con variabili casuali di Bernoulli: una moneta non truccata produce testa o croce con la probaiblità uniforme $0.5$; una moneta truccata che produce testa o croce con probabilità $0.45 - 0.55$"
   ]
  },
  {
   "cell_type": "code",
   "execution_count": 6,
   "id": "bda84907-8be5-40bb-bf73-fe8a5e309bb2",
   "metadata": {
    "editable": true,
    "slideshow": {
     "slide_type": ""
    },
    "tags": [
     "hide-input"
    ]
   },
   "outputs": [
    {
     "name": "stderr",
     "output_type": "stream",
     "text": [
      "/home/davide/.local/lib/python3.8/site-packages/scipy/stats/_discrete_distns.py:77: RuntimeWarning: divide by zero encountered in _binom_pdf\n",
      "  return _boost._binom_pdf(x, n, p)\n"
     ]
    }
   ],
   "source": [
    "\n",
    "\n",
    "#> Run experiments, with incremental number of samples\n",
    "n_flips_1 = 20\n",
    "n_flips_max = 5000\n",
    "\n",
    "n_flips = 0\n",
    "H0_true = True\n",
    "ov_fair, ov_rigg = [], []\n",
    "xlv, xrv, xsv_fair, xsv_rigg, n_flipsv = [], [], [], [], []\n",
    "\n",
    "flip_rng = np.random.default_rng().choice\n",
    "flip_params_fair = { 'a': [0,1], 'p': [.5 , .5 ], 'size': n_flips_1 }   # default params\n",
    "flip_params_rigg = { 'a': [0,1], 'p': [.45, .55], 'size': n_flips_1 }   # default params\n",
    "\n",
    "while ( n_flips < n_flips_max and H0_true ):\n",
    "    \n",
    "    #> Run a new experiment and collect new n_flips_1 samples\n",
    "    n_flips += n_flips_1\n",
    "    ov_fair_1 = run_experiment(rng=flip_rng, rng_params=flip_params_fair)\n",
    "    ov_rigg_1 = run_experiment(rng=flip_rng, rng_params=flip_params_rigg)\n",
    "    ov_fair += list(ov_fair_1)\n",
    "    ov_rigg += list(ov_rigg_1)\n",
    "    \n",
    "    #> Find distribution function\n",
    "    x_H0_fv = px_H0(sp.stats.binom.pmf, {'k': np.arange(0,n_flips+1), 'n': n_flips, 'p': .5})  # H0: fair coin\n",
    "\n",
    "    #> Evaluate acceptance region\n",
    "    ixl, ixr = find_acceptance_regions(x_H0_fv, alpha_v,)\n",
    "    # print(n_flips, ixl, ixr)\n",
    "\n",
    "    #> Evaluate test statistics on the sample\n",
    "    ixs_fair = np.sum(ov_fair)\n",
    "    ixs_rigg = np.sum(ov_rigg)\n",
    "\n",
    "    #> Check if H0 is not false. If commented, let the while run until n_flips = n_flips_max\n",
    "    # if ( ixl[-1] > ix_s or ixr[-1] < ix_s ):\n",
    "    #     H0_true = False\n",
    "\n",
    "    #> Store quantities for plots\n",
    "    n_flipsv += [ n_flips ]\n",
    "    xlv += [ ixl/n_flips ]\n",
    "    xrv += [ ixr/n_flips ]\n",
    "    xsv_fair += [ ixs_fair/n_flips ]\n",
    "    xsv_rigg += [ ixs_rigg/n_flips ]\n",
    "\n"
   ]
  },
  {
   "cell_type": "markdown",
   "id": "9b5db625-ff65-45b1-8bd6-9e257533cb97",
   "metadata": {
    "editable": true,
    "slideshow": {
     "slide_type": ""
    },
    "tags": []
   },
   "source": [
    "### Grafici\n",
    "Il valore medio delle volte che è uscita croce viene usata come statistica test. Il valore della statistica test per gli esperimenti condotti con le due monete viene confrontato con la funzione di distribuzione $p(x|\\text{H}_0)$ per una moneta non truccata. Viene mostrato l'andamento delle statistiche test e degli intervalli di accettazione in funzione del numero di lanci della moneta. Vengono mostrati i dati raccolti e successivamente depurati della media attesa e scalati per la varianza della media campionaria $\\frac{\\sigma}{\\sqrt{n_s}}$, per mettere in evidenza i livelli di significatività $[0.3, 0.05, 0.003]$"
   ]
  },
  {
   "cell_type": "code",
   "execution_count": 7,
   "id": "4d7d46e0-8696-4d5e-bc11-01082bea0243",
   "metadata": {
    "editable": true,
    "slideshow": {
     "slide_type": ""
    },
    "tags": [
     "hide-input"
    ]
   },
   "outputs": [
    {
     "data": {
      "text/plain": [
       "<matplotlib.legend.Legend at 0x7f8b05018ee0>"
      ]
     },
     "execution_count": 7,
     "metadata": {},
     "output_type": "execute_result"
    },
    {
     "data": {
      "image/png": "[encoded data removed]",
      "text/plain": [
       "<Figure size 640x480 with 2 Axes>"
      ]
     },
     "metadata": {},
     "output_type": "display_data"
    }
   ],
   "source": [
    "#> Convert list to numpy arrays, to perform some algebra below\n",
    "n_flipsv = np.array(n_flipsv)\n",
    "xlv = np.array(xlv)\n",
    "xrv = np.array(xrv)\n",
    "xsv_fair = np.array(xsv_fair)\n",
    "xsv_rigg = np.array(xsv_rigg)\n",
    "\n",
    "#> \n",
    "plt.figure()\n",
    "plt.subplot(1,2,1)\n",
    "for ial in np.arange(len(alpha_v)):\n",
    "    # plt.plot(n_flipsv, xlv[:,ial], color=plt.cm.tab10(ial))\n",
    "    # plt.plot(n_flipsv, xrv[:,ial], color=plt.cm.tab10(ial))\n",
    "    plt.fill_between(n_flipsv, \n",
    "                     xlv[:,ial], \n",
    "                     xrv[:,ial], color=(0,0,0,.1))\n",
    "plt.plot(n_flipsv, xsv_fair, color=plt.cm.tab10(0), label='fair')\n",
    "plt.plot(n_flipsv, xsv_rigg, color=plt.cm.tab10(1), label='rigged')\n",
    "plt.xlim(0, n_flips)\n",
    "#plt.ylim(-5, 5)\n",
    "plt.title(\"Avg outcome, $\\hat{X}_s(n_s)$\")\n",
    "plt.xlabel('$n_s$')\n",
    "plt.legend()\n",
    "\n",
    "#> For scaling results\n",
    "bernoulli_avg, bernoulli_var = .5, .25\n",
    "\n",
    "plt.subplot(1,2,2)\n",
    "for ial in np.arange(len(alpha_v)):\n",
    "    # plt.plot(n_flipsv, xlv[:,ial], color=plt.cm.tab10(ial))\n",
    "    # plt.plot(n_flipsv, xrv[:,ial], color=plt.cm.tab10(ial))\n",
    "    plt.fill_between(n_flipsv, \n",
    "                     (xlv[:,ial]-bernoulli_avg) * n_flipsv**.5/bernoulli_var**.5, \n",
    "                     (xrv[:,ial]-bernoulli_avg) * n_flipsv**.5/bernoulli_var**.5, color=(0,0,0,.1))\n",
    "plt.plot(n_flipsv, (xsv_fair-bernoulli_avg) * n_flipsv**.5/bernoulli_var**.5, color=plt.cm.tab10(0), label='fair')\n",
    "plt.plot(n_flipsv, (xsv_rigg-bernoulli_avg) * n_flipsv**.5/bernoulli_var**.5, color=plt.cm.tab10(1), label='rigged')\n",
    "plt.xlim(0, n_flips)\n",
    "plt.ylim(-5, 5)\n",
    "plt.title(\"Scaled avg outcome, $\\dfrac{\\hat{X}_s - \\overline{X}}{\\sigma/\\sqrt{n}}$\")\n",
    "plt.xlabel('$n_s$')\n",
    "plt.legend()"
   ]
  }
 ],
 "metadata": {
  "kernelspec": {
   "display_name": "Python 3 (ipykernel)",
   "language": "python",
   "name": "python3"
  },
  "language_info": {
   "codemirror_mode": {
    "name": "ipython",
    "version": 3
   },
   "file_extension": ".py",
   "mimetype": "text/x-python",
   "name": "python",
   "nbconvert_exporter": "python",
   "pygments_lexer": "ipython3",
   "version": "3.8.10"
  }
 },
 "nbformat": 4,
 "nbformat_minor": 5
}