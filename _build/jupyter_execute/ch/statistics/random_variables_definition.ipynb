{
 "cells": [
  {
   "cell_type": "markdown",
   "id": "10ca6937-19de-43dd-a044-ad9455bc2d77",
   "metadata": {},
   "source": [
    "(statistics-hs:random-variables:def)=\n",
    "# Definizione di variabile casuale\n",
    "\n",
    "Qualitativamente, una variabile casuale è una grandezza che può assumere valori diversi come risultato di un fenomeno aleatorio, un fenomeno che non è possibile descrivere accuratamente con delle equazioni deterministiche. todo fare esempi: lancio del dado e estrema dipendenza dalle condizioni iniziali, soprattutto con urto; aggiungere simulazione, già presente sul drive\n",
    "\n",
    "Una definizione più rigorosa prevede i concetti di spazio di probabilità e\n",
    "-algebra. Senza pretendere di fornire una descrizione dettagliata e rigorosa di questi oggetti matematici, non si vuole rinunciare a dare la definizione rigorosa di variabile casuale, fornendo un'interpretazione degli oggetti matematici coinvolti."
   ]
  },
  {
   "cell_type": "markdown",
   "id": "6ad00f35-30f8-4eea-a06c-252d353fe251",
   "metadata": {},
   "source": [
    "## Definizione\n",
    "Dato uno *spazio di probabilità* $(\\Omega, \\mathcal{F}, \\nu)$ e uno *spazio misurabile* $(E, \\mathcal{E})$, una **variabile aleatoria** è una funzione misurabile $X: \\Omega \\rightarrow E$.\n",
    "\n",
    "Ora, cerchiamo di interpretare questa definizione criptica. Iniziamo dalle cose semplici:\n",
    "- $\\Omega$ ed $E$ sono due *insiemi*: $\\Omega$ viene definito *insieme degli eventi* o *spazio campionario*, $E$ è l'insieme dei valori che può assumere la variabile casuale.\n",
    "\n",
    "Continuiamo con gli altri oggetti meno immediati:\n",
    "- lo spazio di probabilità $(\\Omega, \\mathcal{F}, \\nu)$ può essere pensato come formato da due parti, lo spazio misurabile $(\\Omega, \\mathcal{F})$ e la misura di probabilità $\\nu$;\n",
    "- nella definizione ora sono conivolti due spazi misurabili, $(\\Omega, \\mathcal{F})$, $(E, \\mathcal{E})$, che a loro volta sono composti da due oggetti:\n",
    "  - un insieme di elementi;\n",
    "  - una $\\sigma$-algebra: per quanto interessa a noi, una $\\sigma$-algebra applicata agli elementi di un insieme offre la possibiltà di applicare le operazioni degli insiemi (unione, intersezione,...) agli elementi dell'insieme\n",
    "- la misura di probabilità $\\nu$ è una funzione compatibile con gli spazi misurabili coinvolti nella definizione, che traduce in matematica i concetti della probabilità come, ad esempio:\n",
    "  - $P(\\omega \\in \\Omega) = 1$,\n",
    "  - $P(\\omega \\in A \\lor \\omega \\in B) \\le P(\\omega \\in A) + P(\\omega \\in B)$, e l'uguaglianza vale se $A$, $B$ disgiunti\n",
    "  - ...\n",
    "\n",
    "Spieghiamoci peggio con due esempi.\n"
   ]
  },
  {
   "cell_type": "markdown",
   "id": "c8ddea86-1bf7-43b6-996a-23cb3ddb34e2",
   "metadata": {},
   "source": [
    "### Esempio 1. Lancio dado non truccato, con variabile casuale corrispondente al valore della faccia\n",
    "Viene lanciato un dato a 6 facce non truccato. Questo corrisponde a un insieme degli eventi costituito da i 6 eventi distinti $E = \\{ \\text{faccia 1}, \\dots, \\text{faccia 6} \\}$, e ognuno di questi 6 eventi ha una misura di probabilità uguale a $\\nu(\\text{faccia 1}) = \\dots = \\nu(\\text{faccia 6}) = \\frac{1}{6}$. Si sceglie come variabile casuale la variabile casuale (la funzione) che associa al numero letto sulla faccia lo stesso numero, $X: \\Omega \\rightarrow E$, $X(\\text{faccia n}) = n$. Si vogliono ora analizzare le probabilità associate ai seguenti eventi:\n",
    "- $\\Omega_1$: eventi che portano a risultato 3:\n",
    "\n",
    "  $$P(X(\\omega \\in \\Omega_1) = 3) = P(\\omega \\in \\Omega_1) = \\nu(\\text{faccia 3}) = \\frac{1}{6}$$\n",
    "\n",
    "- $\\Omega_2$: eventi che portano a risultato pari,\n",
    "\n",
    "  $$\\begin{aligned}\n",
    "    P(\\omega \\in \\Omega_2) \n",
    "    & = P\\big(X(\\omega \\in \\Omega_2) = 2 \\lor X(\\omega \\in \\Omega_2) = 4 \\lor X(\\omega \\in \\Omega_2) = 6\\big) = \\\\\n",
    "    & = \\nu(\\text{faccia 2}) + \\nu(\\text{faccia 4}) + \\nu(\\text{faccia 6}) = \\frac{1}{2}\n",
    "  \\end{aligned}$$\n",
    "\n",
    "- $\\Omega_3$: eventi che portano a risultato dispari\n",
    "- $\\Omega_4$: eventi che portano a risultato inferiore a 4\n",
    "- $\\Omega_5$: eventi che portano a un risultato compreso tra 1 e 6 inclusi\n",
    "- $\\Omega_6$: eventi che verificano gli eventi $\\Omega_2$ **o** gli eventi $\\Omega_4$\n",
    "- $\\Omega_7$: eventi che verificano gli eventi $\\Omega_2$ **e** gli eventi $\\Omega_4$"
   ]
  },
  {
   "cell_type": "markdown",
   "id": "8bc6072f-da24-49e3-9c2f-6f1390ee2117",
   "metadata": {},
   "source": [
    "### Esempio 2. Lancio dado non truccato, con variabile casuale diverso dal valore della faccia\n",
    "Si studino ora i casi in cui la variabile casuale associa all'evento:\n",
    "1. il valore della faccia diviso 2 e aumentato di 1\n",
    "2. il massimo divisore diverso del numero sulla faccia, diverso dal numero stesso"
   ]
  }
 ],
 "metadata": {
  "kernelspec": {
   "display_name": "Python 3 (ipykernel)",
   "language": "python",
   "name": "python3"
  },
  "language_info": {
   "codemirror_mode": {
    "name": "ipython",
    "version": 3
   },
   "file_extension": ".py",
   "mimetype": "text/x-python",
   "name": "python",
   "nbconvert_exporter": "python",
   "pygments_lexer": "ipython3",
   "version": "3.8.10"
  }
 },
 "nbformat": 4,
 "nbformat_minor": 5
}