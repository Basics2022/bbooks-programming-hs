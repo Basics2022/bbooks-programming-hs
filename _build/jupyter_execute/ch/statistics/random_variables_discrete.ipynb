{
 "cells": [
  {
   "cell_type": "markdown",
   "id": "1481b377-08d7-4799-b462-849d5d076cbc",
   "metadata": {},
   "source": [
    "(statistics-hs:random-variables:discrete)=\n",
    "# Variabili casuali discrete\n",
    "\n",
    "**Funzione di probabilità**.\n",
    "La funzione di probabilità, $p_X(x)$, o funzione di massa, o *densità di probabilità* con un abuso per analogia con le variabili continue, è la funzione che associa la probabilità al valore $x$ della variabile casuale $X$. Data al variabile casuale $X: \\Omega \\rightarrow E$, la proababilità del valore discreto $x \\in E$ è data dalla somma delle probabilità degli eventi disgiunti $\\Omega_x := \\{ \\omega \\in \\Omega \\, | \\, X(\\omega) = x \\}$ che producono il valore $x$,\n",
    "\n",
    "$$p_X(x) = \\sum_{\\omega_i \\in \\Omega_x} \\nu(\\omega_i) \\ .$$\n",
    "\n",
    "**Proprietà.** \n",
    "- $p_X \\ge 0$\n",
    "- $\\sum_{x_k \\in E} p_X(x_k) = 1$\n",
    "\n",
    "E da queste due proprietà segue che la probabilità del singolo valore è non superiore a 1, $p(x_k) \\le 1$.\n",
    "\n",
    "**Valore medio.** Il valore medio di una variabile casuale è la media dei valori possibili $x_k \\in E$ pesata della probabilità $p(x_k)$,\n",
    "\n",
    "$$\\begin{aligned}\n",
    " \\mu_X = \\text{E}[X] \n",
    "  & := \\sum_{x_k \\in E} p(x_k) x_k = \\\\\n",
    "  & = \\sum_{x_k \\in E} \\sum_{\\omega_i \\in \\Omega_x} \\nu(\\omega_i) X(\\omega_i) = \\\\\n",
    "  & = \\sum_{\\omega_i \\in \\Omega} \\nu(\\omega_i) X(\\omega_i) \\ .\n",
    "\\end{aligned}$$\n",
    "\n",
    "equivalente alla media dei valori della variabile $X(\\omega_i)$ pesata sulle probabilità degli eventi $\\omega_i \\in \\Omega$. La media di una varaibile casuale $X$ viene comunemente indicata con $\\mu_X$, e così verrà fatto in seguito per motivi di sintesi.\n",
    "\n",
    "**Varianza.** La varianza è una misura della dispersione dei valori di una varaibile casuale attorno al suo valore medio, ed è definita come la media pesata degli scarti quadratici,\n",
    "\n",
    "$$\\sigma^2_X = E[(X-\\mu_X)^2] = \\sum_k p(x_k) (x_k - \\mu_X)^2 \\ .$$\n",
    "\n",
    "Analogamente a quanto fatto per il valore medio, anche questa media può essere riferita sia ai valori sia agli eventi.\n",
    "\n",
    "<!-- **media, moda.** -->\n",
    "\n",
    "## Variabili casuali multi-dimensionali\n",
    "- **Probabilità congiunta.** $p(x,y)$\n",
    "- **Probabilità condizionale.** $p(x|y)$\n",
    "- **Probabilità marginale.** $p(x)$\n",
    "\n",
    "### Probabilità congiunta e teorema di Bayes\n",
    "$$p(x,y) = p(x|y)p(y) = p(y|x)p(x)$$\n",
    "\n",
    "### Variabili indipendenti\n",
    "Due variabili casuali sono indipendenti se la probabilità condizionale di una variabile coincide con la sua probabilità marginale,\n",
    "\n",
    "$$p(x|y) = p(x) \\ ,$$\n",
    "\n",
    "così che la probabilità congiunta di due variabili casuali indipendenti è il prodotto delle probabilità marginali,\n",
    "\n",
    "$$p(x,y) = p(x)p(y) \\ .$$\n",
    "\n",
    "### Covarianza\n",
    "\n",
    "$$\\sigma^2_{ij} = E[(X_i-\\mu_i)(X_j-\\mu_j)] = R_{ij} - \\mu_i \\mu_j$$\n",
    "\n",
    "### Correlazione\n",
    "\n",
    "$$\\rho_{XY} = \\frac{E[(X-\\mu_X)(Y-\\mu_Y)]}{E[(X-\\mu_X)^2]^{1/2} \\, E[(X-\\mu_X)^2]^{1/2}} = \\frac{\\sigma_{XY}^2}{\\sigma_X \\, \\sigma_Y}$$\n"
   ]
  },
  {
   "cell_type": "code",
   "execution_count": null,
   "id": "a89aeed8-9efa-44d3-adbb-0574529f6348",
   "metadata": {},
   "outputs": [],
   "source": []
  }
 ],
 "metadata": {
  "kernelspec": {
   "display_name": "Python 3 (ipykernel)",
   "language": "python",
   "name": "python3"
  },
  "language_info": {
   "codemirror_mode": {
    "name": "ipython",
    "version": 3
   },
   "file_extension": ".py",
   "mimetype": "text/x-python",
   "name": "python",
   "nbconvert_exporter": "python",
   "pygments_lexer": "ipython3",
   "version": "3.8.10"
  }
 },
 "nbformat": 4,
 "nbformat_minor": 5
}