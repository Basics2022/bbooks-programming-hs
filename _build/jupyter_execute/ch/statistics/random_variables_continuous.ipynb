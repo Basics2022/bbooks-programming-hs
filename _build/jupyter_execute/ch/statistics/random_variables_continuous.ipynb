{
 "cells": [
  {
   "cell_type": "markdown",
   "id": "5e09711a-1f87-4bce-9d6a-5029cf1f7eda",
   "metadata": {},
   "source": [
    "(statistics-hs:random-variables:continuous)=\n",
    "# Variabili casuali continue\n"
   ]
  }
 ],
 "metadata": {
  "kernelspec": {
   "display_name": "Python 3 (ipykernel)",
   "language": "python",
   "name": "python3"
  },
  "language_info": {
   "codemirror_mode": {
    "name": "ipython",
    "version": 3
   },
   "file_extension": ".py",
   "mimetype": "text/x-python",
   "name": "python",
   "nbconvert_exporter": "python",
   "pygments_lexer": "ipython3",
   "version": "3.8.10"
  }
 },
 "nbformat": 4,
 "nbformat_minor": 5
}