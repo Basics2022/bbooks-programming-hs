{
 "cells": [
  {
   "cell_type": "markdown",
   "id": "9f096d4c-e25f-4d39-a728-6dd596973c80",
   "metadata": {},
   "source": [
    "# Test di correlazione\n",
    "\n",
    "**Test più comuni**\n",
    "- regressione lineare\n",
    "- correlazione di Pearson\n",
    "- correlazione di Spearman\n"
   ]
  },
  {
   "cell_type": "markdown",
   "id": "bcc032a2-33b7-456a-bd1a-e9b07d09f945",
   "metadata": {},
   "source": [
    "## Regressione lineare\n",
    "- regressione lineare\n",
    "- regressione lineare generalizzata\n",
    "- ...\n",
    "\n",
    "### Metodo dei minimi quadrati per una regressione lineare\n",
    "Dati due campioni accoppiati $\\{X_n\\}_{n=1:N}$, $\\{Y_n\\}_{n=1:N}$ campionati dalle popolazioni $X$, $Y$, si calcolano i coefficienti $\\symbf{\\theta} = (a, b)$ dell'approssimazione lineare $y(x|\\theta) = a x + b$ che rendono minimo l'errore quadratico medio\n",
    "\n",
    "$$e(\\symbf{\\theta}) = \\frac{1}{2 N} \\sum_{n=1}^{N} (y(x_n|\\symbf{\\theta}) - y_n)^2 =  \\frac{1}{2 N} \\sum_{n=1}^{N} (a x_n + b - y_n)^2 \\ .$$\n",
    "\n"
   ]
  },
  {
   "cell_type": "markdown",
   "id": "e4d2e55e-c3d6-4391-adbc-782e3360ee24",
   "metadata": {},
   "source": [
    "La funzione è quadratica in $a$, $b$ e semi-definita positiva. Si cercano i valori che rendono minimo l'errore ponendo uguale a $0$ le derivate parziali dell'errore rispetto ai parametri\n",
    "\n",
    "$$\\begin{aligned}\n",
    "  0 & = \\frac{\\partial e}{\\partial a} = \\frac{1}{N} \\sum_{n=1}^N x_n (a x_n + b - y_n) = \\frac{1}{N} \\sum_{n=1}^N x^2_n \\, a + \\frac{1}{N} \\sum_{n=1}^N x_n \\, b - \\frac{1}{N} \\sum_{n=1}^{N} x_n y_n \\\\\n",
    "  0 & = \\frac{\\partial e}{\\partial b} = \\frac{1}{N} \\sum_{n=1}^N (a x_n + b - y_n)     = \\frac{1}{N} \\sum_{n=1}^N x_n \\, a + b - \\frac{1}{N} \\sum_{n=1}^{N} y_n \\\\\n",
    "\\end{aligned}$$\n",
    "\n",
    "Queste due equazioni formano un sistema lineare di due equazioni in due incognite, che può essere riscritto con il formalismo matriciale\n",
    "\n",
    "$$\\begin{bmatrix} \\frac{1}{N} \\sum_{n=1}^N x^2_n & \\frac{1}{N} \\sum_{n=1}^N x_n  \\\\ \\frac{1}{N} \\sum_{n=1}^N x_n & 1 \\end{bmatrix} \\begin{bmatrix} a \\\\ b \\end{bmatrix} = \\begin{bmatrix} \\frac{1}{N} \\sum_{n=1}^{N} x_n y_n \\\\ \\frac{1}{N} \\sum_{n=1}^{N} y_n \\end{bmatrix} \\ .$$\n",
    "\n",
    "Il valore dei coefficienti ottimi $\\theta^* = (a, b)$ che minimizzano l'errore quadratico medio si trova come soluzione del sistema lineare, l'errore quadratico medio minimo dovuto all'approssimazione viene calcolato in seguito, $e(\\theta^*)$. La bontà dell'approssimazione lineare può essere valutata in termini dell'errore quadratico medio.\n",
    "\n",
    "**Regressione e SL.** Una delle applicazioni fondamentali in ML, in particolare in SL, è la regressione o l'approssimazione di funzioni; scelta del modello..."
   ]
  },
  {
   "cell_type": "markdown",
   "id": "5035066b-c763-426e-919b-750399b5d2a0",
   "metadata": {
    "editable": true,
    "slideshow": {
     "slide_type": ""
    },
    "tags": []
   },
   "source": [
    "### Metodo ed errore\n"
   ]
  },
  {
   "cell_type": "markdown",
   "id": "35af5b1a-8825-4a05-944e-1f118f24d87b",
   "metadata": {},
   "source": [
    "Il sistema lineare può essere riscritto come\n",
    "\n",
    "$$\\begin{bmatrix} \\frac{1}{N} \\sum_{n=1}^N x^2_n & \\bar{x}  \\\\ \\bar{x} & 1 \\end{bmatrix} \\begin{bmatrix} a \\\\ b \\end{bmatrix} = \\begin{bmatrix} \\frac{1}{N} \\sum_{n=1}^{N} x_n y_n \\\\ \\bar{y} \\end{bmatrix} \\ ,$$\n",
    "\n",
    "e la soluzione \n",
    "\n",
    "$$\\begin{aligned}\n",
    " \\begin{bmatrix} a \\\\ b \\end{bmatrix} & = \\frac{1}{\\frac{1}{N} \\sum_{n=1}^N x^2_n - \\bar{x}^2} \\begin{bmatrix} 1 & -\\bar{x}  \\\\ -\\bar{x} & \\frac{1}{N} \\sum_{n=1}^N x^2_n \\end{bmatrix} \\, \\begin{bmatrix} \\frac{1}{N} \\sum_{n=1}^{N} x_n y_n \\\\ \\bar{y} \\end{bmatrix} = \\\\\n",
    " & = \\frac{1}{\\frac{1}{N} \\sum_{n=1}^N x^2_n - \\bar{x}^2} \\begin{bmatrix} \\frac{1}{N} \\sum_{n=1}^N x_n y_n - \\bar{x}\\bar{y} \\\\ -\\frac{\\bar{x}}{N} \\sum_{n=1}^N x_n y_n + \\frac{\\bar{y}}{N} \\sum_{n=1}^N x_n^2 \\end{bmatrix} = \\\\\n",
    " & = \\frac{1}{R_x - \\bar{x}^2} \\begin{bmatrix} R_{xy} - \\bar{x} \\bar{y} \\\\ -\\bar{x} R_{xy} + \\bar{y} R_x \\end{bmatrix}\n",
    "\\end{aligned}$$"
   ]
  },
  {
   "cell_type": "markdown",
   "id": "9f88205e-06c7-47b5-bd82-37919ec7273e",
   "metadata": {},
   "source": [
    "L'errore minimo diventa quindi\n",
    "\n",
    "$$\\begin{aligned}\n",
    "  e & = \\frac{1}{2N} \\sum_{m=1}^{N} \\left( a \\, x_m  + b -  y_m \\right)^2 = \\\\\n",
    "    & = \\frac{1}{2 N} \\sum_{m=1}^N \\left( a^2 x_m^2 + b^2 + y_m^2 + 2 a b x_m - 2 b y_m - 2 a x_m y_m  \\right) \\\\\n",
    "\\end{aligned}$$"
   ]
  },
  {
   "cell_type": "markdown",
   "id": "d083c660-bdf1-444a-a6f1-8a1a04965966",
   "metadata": {},
   "source": [
    "$$\\begin{aligned}\n",
    "2 e & = \\frac{1}{N} \\left[ a^2 \\sum_{m=1}^{N} x_m^2 + N b^2 + \\sum_{m=1}^N y_m^2 + 2 a b \\bar{x} - 2 b \\bar{y} - 2 a \\sum_{m=1}^{N} x_m y_m  \\right] = \\\\\n",
    "  & = a^2 R_x + b^2 + R_y + 2 a b \\bar{x} - 2 b \\bar{y} - 2 a R_{xy} \\\\\n",
    "\\end{aligned}$$"
   ]
  },
  {
   "cell_type": "markdown",
   "id": "6ad90e81-fb6b-4d0c-a726-66a150cd2cba",
   "metadata": {},
   "source": [
    "$$\\begin{aligned}\n",
    "2 e & = \\left( \\frac{R_{xy} - \\bar{x} \\bar{y}}{R_x - \\bar{x}^2} \\right)^2 R_x + \\left( \\frac{-\\bar{x} R_{xy} + \\bar{y} R_x}{R_x - \\bar{x}^2} \\right)^2 + R_y + 2 \\left( \\frac{R_{xy} - \\bar{x} \\bar{y}}{R_x - \\bar{x}^2} \\right) \\left( \\frac{-\\bar{x} R_{xy} + \\bar{y} R_x}{R_x - \\bar{x}^2} \\right) \\bar{x} - 2 \\left( \\frac{-\\bar{x} R_{xy} + \\bar{y} R_x}{R_x - \\bar{x}^2} \\right) \\bar{y} - 2 \\left( \\frac{R_{xy} - \\bar{x} \\bar{y}}{R_x - \\bar{x}^2} \\right) R_{xy} \\\\\n",
    "\\end{aligned}$$"
   ]
  },
  {
   "cell_type": "markdown",
   "id": "c7ebbd02-acd0-46b4-8305-f4f7782d8c05",
   "metadata": {},
   "source": [
    "$$\n",
    "2 e = \\frac{1}{D^2}\\left[ R_{xy}^2 R_x - 2 x y R_{xy} R_x + x^2 y^2 R_x + \\dots \\right]\n",
    "$$"
   ]
  },
  {
   "cell_type": "markdown",
   "id": "b1f11f0c-77cb-4f19-b0b3-e1a6a9fa436a",
   "metadata": {
    "jp-MarkdownHeadingCollapsed": true
   },
   "source": [
    "## Correlazione di Pearson\n",
    "\n",
    "Il **coefficiente di correlazione** tra due variabili casuali $X$, $Y$ è definito come il rapporto tra la loro covarianza e il prodotto delle loro deviazioni standard,\n",
    "\n",
    "$$\\rho_{XY} = \\frac{\\mathbb{E}[(X-\\mathbb{E}[X])(Y-\\mathbb{E}(Y))]}{\\sqrt{\\mathbb{E}[(X-\\mathbb{E}[X])^2]}\\sqrt{\\mathbb{E}[(Y-\\mathbb{E}[Y])^2]}} = \\frac{\\sigma^2_{XY}}{\\sigma_X \\, \\sigma_Y} \\ .$$\n",
    "\n",
    "**Coefficiente di correlazione per campioni.** Usando le statistiche campionarie per i campioni a disposizione delle due popolazioni,\n",
    "\n",
    "$$\\begin{aligned}\n",
    "  r_{xy} \n",
    "  & = \\frac{\\frac{1}{n-1} \\sum_{i=1}^{n} (x_i - \\bar{x})(y_i - \\bar{y})}{ \\sqrt{\\frac{1}{n-1} \\sum_{i=1}^{n} (x_i - \\bar{x})^2}\\sqrt{ \\frac{1}{n-1} \\sum_{i=1}^{n} (y_i - \\bar{y})^2}} = \\\\\n",
    "  & = \\frac{1}{n-1} \\sum_{i=1}^n \\left( \\frac{x_i - \\bar{x}}{S_x} \\right) \\left( \\frac{y_i - \\bar{y}}{S_y} \\right) = \\\\\n",
    "  & = \\frac{ \\sum_{i=1}^{n} (x_i - \\bar{x})(y_i - \\bar{y})}{ \\sqrt{\\sum_{i=1}^{n} (x_i - \\bar{x})^2}\\sqrt{ \\sum_{i=1}^{n} (y_i - \\bar{y})^2}} \\ .\n",
    "\\end{aligned}$$\n",
    "\n",
    "**Coefficiente di correlazione in statistica inferenziale.** I metodi di statistica basati sul coefficiente di correlazione di Pearson hanno due obiettivi:\n",
    "1. valutare l'ipotesi nulla $\\text{H}_0$ che afferma che l'assenza di correlazione tra le due popolazioni, $\\rho = 0$, sulla base del valore del coefficiente $r$ calcolato sui campioni\n",
    "2. fornire un intervallo di confidenza che contenga $\\rho$\n",
    "\n",
    "Alcuni metodi per ottenere questi due obiettivi sono:\n",
    "- permutazione\n",
    "- bootstrap\n",
    "- errore standard, assumendo una relazione lineare tra $x$ e $y$, con l'aggiunta di un errore gaussiano $\\varepsilon$, $y = a x + b + \\varepsilon$, $\\sigma_r = \\sqrt{\\frac{1-r^2}{n-2}}$\n",
    "- $t$-test sulla variabile $t = \\frac{r}{\\sigma_r}$\n",
    "- ..."
   ]
  },
  {
   "cell_type": "markdown",
   "id": "65b38828-8023-4df8-95c4-71a44b72cd6d",
   "metadata": {},
   "source": [
    "## Correlazione di Spearman"
   ]
  },
  {
   "cell_type": "markdown",
   "id": "753e197a-2783-4047-8096-2743ce4451c9",
   "metadata": {},
   "source": [
    "- per ranghi\n",
    "- per relazioni non lineari ma monotone\n",
    "... **todo**"
   ]
  },
  {
   "cell_type": "markdown",
   "id": "5dc0a58f-0718-41f5-9ff3-08dcc2b3502b",
   "metadata": {
    "editable": true,
    "slideshow": {
     "slide_type": ""
    },
    "tags": []
   },
   "source": [
    "## Esempio\n",
    "\n",
    "Si valutano i metodi di correlazione per 4 coppie di campioni, 2 che mostrano una buona correlazione e 2 con correlazione scarsa"
   ]
  },
  {
   "cell_type": "code",
   "execution_count": 1,
   "id": "5c2191b2-4000-4363-8b16-fb7e360d7062",
   "metadata": {
    "editable": true,
    "slideshow": {
     "slide_type": ""
    },
    "tags": [
     "hide-input"
    ]
   },
   "outputs": [],
   "source": [
    "# Test correlation algorithms\n",
    "\n",
    "import numpy as np\n",
    "import matplotlib.pyplot as plt\n",
    "\n",
    "#> Data\n",
    "pairs = [\n",
    "{    # Good Positive Correlation\n",
    "    'x': np.array([-2.0, -1.5, -1.0, -0.5, 0.0, 0.5, 1.0, 1.5, 2.0, 2.5, 3.0]),\n",
    "    'y': np.array([-1.4, -1.1, -0.8, -0.4, 0.2, 0.4, 0.7, 1.2, 1.6, 2.1, 2.3])\n",
    "},\n",
    "{    # Good Negative Correlation\n",
    "    'x': np.array([-2.0, -1.5, -1.0, -0.5, 0.0, 0.5, 1.0, 1.5, 2.0, 2.5, 3.0]),\n",
    "    'y': np.array([2.9, 2.4, 2.0, 1.5, 1.1, 0.6, 0.2, -0.3, -0.9, -1.3, -1.8])\n",
    "},\n",
    "{   # Bad Correlation\n",
    "    'x': np.array([-2.0, -1.8, -1.3, -0.9, -0.5, 0.0, 0.5, 1.0, 2.0, 2.5, 3.0]),\n",
    "    'y': np.array([0.8, -1.2, 1.9, -0.3, 0.5, 1.2, -1.5, 0.7, -0.4, 1.8, -1.0])\n",
    "},\n",
    "{   # Bad Correlation\n",
    "    'x': np.array([-2.0, -1.8, -1.3, -0.9, -0.5, 0.0, 0.5, 1.0, 2.0, 2.5, 3.0]),\n",
    "    'y': np.array([-.6, -1.3, 1.2, -0.2, 0.7, 1.5, -0.5, 0.9, 0.5, 3.0, 0.6])\n",
    "}\n",
    "]\n",
    "\n",
    "\n",
    "# plt.figure()\n",
    "# for i in range(len(pairs)):\n",
    "#     plt.plot(pairs[i]['x'], pairs[i]['y'], 'o', color=plt.cm.tab10(i))\n",
    "# plt.grid()\n",
    "# plt.axis('equal')"
   ]
  },
  {
   "cell_type": "code",
   "execution_count": 2,
   "id": "d7cd364c-493b-47f2-bd57-846c36b35bc9",
   "metadata": {
    "editable": true,
    "slideshow": {
     "slide_type": ""
    },
    "tags": [
     "hide-input"
    ]
   },
   "outputs": [
    {
     "name": "stdout",
     "output_type": "stream",
     "text": [
      "> Pair 0\n",
      "  Regression coeffs y = 0.7673 x + 0.0527, with error 0.0831\n",
      "  Pearson correlation: 0.9977, sigma: 0.0228\n",
      "> Pair 1\n",
      "  Regression coeffs y = -0.9364 x + 1.0500, with error 0.0477\n",
      "  Pearson correlation: -0.9995, sigma: 0.0107\n",
      "> Pair 2\n",
      "  Regression coeffs y = -0.0604 x + 0.2410, with error 1.1254\n",
      "  Pearson correlation: -0.0882, sigma: 0.3320\n",
      "> Pair 3\n",
      "  Regression coeffs y = 0.3824 x + 0.4404, with error 0.9296\n",
      "  Pearson correlation: 0.5614, sigma: 0.2758\n"
     ]
    },
    {
     "data": {
      "text/plain": [
       "Text(44.222222222222214, 0.5, 'y')"
      ]
     },
     "execution_count": 2,
     "metadata": {},
     "output_type": "execute_result"
    },
    {
     "data": {
      "image/png": "[encoded data removed]",
      "text/plain": [
       "<Figure size 640x480 with 1 Axes>"
      ]
     },
     "metadata": {},
     "output_type": "display_data"
    }
   ],
   "source": [
    "plt.figure()\n",
    "\n",
    "\n",
    "for i in range(len(pairs)):\n",
    "    #> Scale and normalize data\n",
    "    x, y = pairs[i]['x'], pairs[i]['y']\n",
    "    n = len(pairs[i]['x'])\n",
    "    # ...\n",
    "    x_mean = np.mean(x)\n",
    "    y_mean = np.mean(y)\n",
    "    nSxy = np.sum( (x-x_mean) * (y-y_mean) )\n",
    "    nSx2 = np.sum( (x-x_mean)**2 )\n",
    "    nSy2 = np.sum( (y-y_mean)**2 )\n",
    "    \n",
    "    #> LS linear system\n",
    "    A = np.array([ [ np.sum(x**2) , np.sum(x)], [ np.sum(x), n ] ] ) / n\n",
    "    f = np.array([ np.sum(x * y) , np.sum(y) ]) / n\n",
    "\n",
    "    #> Find coefficients of the regression\n",
    "    z = np.linalg.solve(A, f)\n",
    "\n",
    "    #> Find average square error\n",
    "    e = np.sum( ( z[0]*x + z[1] - y )**2 ) / n\n",
    "\n",
    "    #> Pearson\n",
    "    #> correlation coefficient\n",
    "    r = nSxy / np.sqrt( nSx2 * nSy2 )\n",
    "    #> sigma\n",
    "    sigma = np.sqrt( (1 - r**2) / ( n-2 ) )\n",
    "\n",
    "    print(f\"> Pair {i}\")\n",
    "    print(f\"  Regression coeffs y = {z[0]:.4f} x + {z[1]:.4f}, with error {e**.5:.4f}\")\n",
    "    print(f\"  Pearson correlation: {r:.4f}, sigma: {sigma:.4f}\")\n",
    "\n",
    "    plt.plot(x, y          , 'o', color=plt.cm.tab10(i))\n",
    "    plt.plot(x, z[0]*x+z[1], '-', color=plt.cm.tab10(i), label=f\"$r$={r:.4f}, $\\sigma$={sigma:.4f}\")\n",
    "\n",
    "plt.grid()\n",
    "plt.legend(loc=\"upper left\", bbox_to_anchor=(1.05, 1.0))\n",
    "plt.tight_layout()\n",
    "plt.axis('equal')\n",
    "plt.xlabel('x')\n",
    "plt.ylabel('y')\n"
   ]
  }
 ],
 "metadata": {
  "kernelspec": {
   "display_name": "Python 3 (ipykernel)",
   "language": "python",
   "name": "python3"
  },
  "language_info": {
   "codemirror_mode": {
    "name": "ipython",
    "version": 3
   },
   "file_extension": ".py",
   "mimetype": "text/x-python",
   "name": "python",
   "nbconvert_exporter": "python",
   "pygments_lexer": "ipython3",
   "version": "3.8.10"
  }
 },
 "nbformat": 4,
 "nbformat_minor": 5
}