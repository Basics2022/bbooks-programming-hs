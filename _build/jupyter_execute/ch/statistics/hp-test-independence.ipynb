{
 "cells": [
  {
   "cell_type": "markdown",
   "id": "78128b00-6760-4855-8e19-b85fdd2fe80f",
   "metadata": {},
   "source": [
    "(hp-test:independence)=\n",
    "# Test di indipendenza\n",
    "\n",
    "**Test più comuni**\n",
    "- $t$-test per campionoi indipendenti e Welch $t$-test\n",
    "- ANOVA\n",
    "- Tukey test\n",
    "- Mann-Whitney $U$-test\n",
    "- Kruskal-Wallis $H$-test"
   ]
  },
  {
   "cell_type": "markdown",
   "id": "970dce0d-dd1d-4d10-93c6-5a1a153f6781",
   "metadata": {},
   "source": [
    "(hp-test:independence:t-welch)=\n",
    "## $t$-test e Welch $t$-test\n",
    "Il $t$-test di Welch è un test di posizione per stimare se due popolazioni di cui sono noti due campioni hanno la stessa media. E' una modifica del $t$-test, e si dimostra un criterio più affidabile quando i due campioni hanno varianza diversa e dimensione diversa.\n",
    "\n",
    "**Ipotesi.** Il test assume che la media dei campioni abbia una distribuzione normale.\n",
    "\n",
    "...**todo**"
   ]
  },
  {
   "cell_type": "markdown",
   "id": "111d209c-e54c-4e81-9be1-3754ccaad9ab",
   "metadata": {},
   "source": [
    "(hp-test:independence:anova)=\n",
    "## ANOVA (Analysis of variance)\n",
    "- ...insieme di metodi statistici...\n",
    "- differenza tra due o più campioni\n",
    "- i metodi più semplici valutano se le medie di 2 o più popolazioni hanno valori uguali\n",
    "- 3 classi: fixed-effect, random-effect, mixed-effect\n",
    "- $F$-test\n",
    "- single/multiple factors\n",
    "- caso particolare di regressione lineare generalizzata\n",
    "\n",
    "...**todo**"
   ]
  },
  {
   "cell_type": "markdown",
   "id": "f22d41ad-9a46-4af0-9cc5-ee5763e33994",
   "metadata": {},
   "source": [
    "(hp-test:independence:tukey)=\n",
    "## Tukey test\n",
    "\n",
    "...**todo**"
   ]
  },
  {
   "cell_type": "markdown",
   "id": "d2f90d5c-c7f9-44b9-8b8d-2a63f3cd5da2",
   "metadata": {},
   "source": [
    "(hp-test:independence:mann-whitney)=\n",
    "## Mann-Whitney $U$-test\n",
    "Il test di Mann-Whitney è un test statistico non parametrico usato per verificare se le popolazioni $X$, $Y$ delle quali sono disponibili due campioni $\\{X_n\\}_{n=1:n_x}$, $\\{Y_m\\}_{m=1:n_y}$, sono identiche.\n",
    "\n",
    "... **todo**"
   ]
  },
  {
   "cell_type": "markdown",
   "id": "eb200d8c-db83-4f5b-b254-a6941947ad7d",
   "metadata": {},
   "source": [
    "(hp-test:independence:kruskal-wallis)=\n",
    "## Kruskal-Wallis $H$-test\n",
    "\n",
    "...**todo**"
   ]
  },
  {
   "cell_type": "markdown",
   "id": "548d3a33-d2ca-4c4f-a3d8-b4caf4cc4567",
   "metadata": {},
   "source": []
  }
 ],
 "metadata": {
  "kernelspec": {
   "display_name": "Python 3 (ipykernel)",
   "language": "python",
   "name": "python3"
  },
  "language_info": {
   "codemirror_mode": {
    "name": "ipython",
    "version": 3
   },
   "file_extension": ".py",
   "mimetype": "text/x-python",
   "name": "python",
   "nbconvert_exporter": "python",
   "pygments_lexer": "ipython3",
   "version": "3.8.10"
  }
 },
 "nbformat": 4,
 "nbformat_minor": 5
}