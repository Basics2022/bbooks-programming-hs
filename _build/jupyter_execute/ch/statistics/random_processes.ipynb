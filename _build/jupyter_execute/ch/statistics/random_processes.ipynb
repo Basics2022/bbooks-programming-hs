{
 "cells": [
  {
   "cell_type": "markdown",
   "id": "05352914-fba5-476b-b88e-77761c350f4f",
   "metadata": {},
   "source": [
    "(statistics-hs:random-processes)=\n",
    "# Processi casuali"
   ]
  },
  {
   "cell_type": "markdown",
   "id": "cea4cc65-3745-4e9f-80ac-4aba18c9c05b",
   "metadata": {},
   "source": [
    "Un processo casuale può essere definito come una variabile casuale che dipende dalla variabile tempo $t$, $X(t)$.\n",
    "\n",
    "**todo** *è probabile che i dettagli di questa sezione richiedano una conoscenza abbastanza approfondita della materia, e di alcuni strumenti matematici come le trasformate*\n",
    "\n",
    "**todo**\n",
    "- definizione\n",
    "- statistiche (in tempo e in frequenza) e definizioni (stazionarietà, ergodicità,...)\n",
    "- esempi:\n",
    "  - discreti: Markov\n",
    "  - continui (e discretizzati al computer):\n",
    "    - white noise, Wiener\n",
    "    - random walk, Brown\n",
    "    - applicazioni:\n",
    "      - diffusione\n",
    "      - white noise nei sistemi dinamici (risposte a forzanti stocastiche)"
   ]
  }
 ],
 "metadata": {
  "kernelspec": {
   "display_name": "Python 3 (ipykernel)",
   "language": "python",
   "name": "python3"
  },
  "language_info": {
   "codemirror_mode": {
    "name": "ipython",
    "version": 3
   },
   "file_extension": ".py",
   "mimetype": "text/x-python",
   "name": "python",
   "nbconvert_exporter": "python",
   "pygments_lexer": "ipython3",
   "version": "3.8.10"
  }
 },
 "nbformat": 4,
 "nbformat_minor": 5
}