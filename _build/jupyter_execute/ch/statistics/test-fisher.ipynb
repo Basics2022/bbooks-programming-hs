{
 "cells": [
  {
   "cell_type": "markdown",
   "id": "b390c05a-a1bf-44df-99e0-fe051aa9be63",
   "metadata": {},
   "source": [
    "# Test di verifica d'ipotesi - Fisher\n",
    "\n"
   ]
  },
  {
   "cell_type": "code",
   "execution_count": 1,
   "id": "75483a21-ae27-4a65-a082-d5d42be6686d",
   "metadata": {},
   "outputs": [],
   "source": [
    "# import libraries\n",
    "import numpy as np\n",
    "import scipy as sp\n",
    "import matplotlib.pyplot as plt\n"
   ]
  },
  {
   "cell_type": "markdown",
   "id": "bc6bd8a3-8e49-40a1-b754-6f1f191b073b",
   "metadata": {},
   "source": [
    "## Esempio: moneta truccata"
   ]
  },
  {
   "cell_type": "markdown",
   "id": "a314f73d-0f6c-4908-90c2-fe440d7cc3a2",
   "metadata": {},
   "source": [
    "### Definizione variabile casuale - supposta incognita\n",
    "Lancio della moneta\n",
    "\n",
    "$$p(X) = \\begin{cases} p & , \\ X = 0:\\text{Head} \\\\ 1-p & , \\ X = 1:\\text{Tail} \\end{cases}$$"
   ]
  },
  {
   "cell_type": "code",
   "execution_count": 2,
   "id": "5e543f34-36bb-40ec-82e7-d7db59a012a3",
   "metadata": {},
   "outputs": [],
   "source": [
    "# Initialize numpy default random number generator\n",
    "rng = np.random.default_rng()\n",
    "\n",
    "# Set toss random variable\n",
    "\n",
    "p_head = .5\n",
    "p_tail = 1. - p_head\n",
    "a = [0, 1]                   # Outcomes: 0: head, 1: tail\n",
    "p = [p_head, p_tail]\n",
    "\n",
    "rng_toss = rng.choice\n"
   ]
  },
  {
   "cell_type": "code",
   "execution_count": 3,
   "id": "5206458e-5a26-4db2-8064-2b0f731ca405",
   "metadata": {},
   "outputs": [
    {
     "name": "stdout",
     "output_type": "stream",
     "text": [
      "n.tosses: 20\n",
      "n.tails : 10\n"
     ]
    }
   ],
   "source": [
    "# Examples\n",
    "n_tosses = 20\n",
    "printout = {\n",
    "    \"all\": False,\n",
    "    \"summary\": True\n",
    "}\n",
    "\n",
    "n_tail = 0\n",
    "for i in np.arange(n_tosses):\n",
    "    n_tail += rng_toss(a=a,p=p)\n",
    "\n",
    "print(f\"n.tosses: {n_tosses}\")\n",
    "print(f\"n.tails : {n_tail}\")"
   ]
  },
  {
   "cell_type": "markdown",
   "id": "0276e3de-a06d-441e-abe8-723ad8ab53a0",
   "metadata": {},
   "source": [
    "### Test di Fisher\n",
    "\n",
    "Le scelte di:\n",
    "\n",
    "- **Ipotesi nulla**, **H0**: la moneta non è truccata. L'**ipotesi alternativa**, **H1**, è la negazione di H0: la moneta è truccata. \n",
    "\n",
    "- **Statistica test.** Si intende verificare l'ipotesi H0 usando come parametro di interesse il valore medio dei lancio della moneta, assegnando i valori 0: Head, 1: Tail.\n",
    "\n",
    "- **Test statistico.** Per la natura del problema si sceglie un test statistico a due code.\n",
    "\n",
    "- **Livello di significatività.** Si sceglie un livello di significatività pari a $\\sigma = .05$.\n",
    "\n",
    "permettono di determinare:\n",
    "\n",
    "- le **regioni di accettazione** e **di rifiuto** di H0, gli intervalli di valori del parametro di interesse che portano rispettivamente all'accettazione o al rifiuto dell'ipotesi H0.\n",
    "\n",
    "Il valore della statistica test calcolato con un campione di dati raccolto permette di stabilire se l'ipotesi H0 deve essere accettata o rigettata.\n"
   ]
  },
  {
   "cell_type": "code",
   "execution_count": 4,
   "id": "71c3ef80-0867-478a-b123-3bf615c192f2",
   "metadata": {},
   "outputs": [
    {
     "data": {
      "text/plain": [
       "<BarContainer object of 9 artists>"
      ]
     },
     "execution_count": 4,
     "metadata": {},
     "output_type": "execute_result"
    },
    {
     "data": {
      "image/png": "[encoded data removed]",
      "text/plain": [
       "<Figure size 640x480 with 1 Axes>"
      ]
     },
     "metadata": {},
     "output_type": "display_data"
    }
   ],
   "source": [
    "# Sample\n",
    "# a, p = ...\n",
    "\n",
    "\n",
    "# Significance level\n",
    "sigma = .05\n",
    "\n",
    "# Null hypotesis, H0\n",
    "kv = np.arange(n_tosses+1)\n",
    "h0_pdf = sp.stats.binom.pmf(kv, n_tosses, .5)\n",
    "\n",
    "# Symmetric test: find max and extend acceptance range until sum_k p(k) ~ 1 - sigma\n",
    "k_max = np.argmax(h0_pdf)\n",
    "p_acc = h0_pdf[k_max]\n",
    "k0, k1 = k_max, k_max\n",
    "k_acc = [ k_max ]\n",
    "\n",
    "while ( p_acc < 1. - sigma ):    \n",
    "    k0 -= 1\n",
    "    k1 += 1\n",
    "\n",
    "    p_acc = p_acc + h0_pdf[k0] + h0_pdf[k1]\n",
    "    k_acc += [ k0, k1 ]\n",
    "    \n",
    "\n",
    "plt.figure()\n",
    "plt.bar(kv, h0_pdf)\n",
    "plt.bar(kv[k_acc], h0_pdf[k_acc])\n"
   ]
  },
  {
   "cell_type": "code",
   "execution_count": 5,
   "id": "a9992fa6-ef50-4431-85da-f78bff2221a6",
   "metadata": {},
   "outputs": [
    {
     "name": "stdout",
     "output_type": "stream",
     "text": [
      "Sample x: 9\n",
      "H0 accepted\n"
     ]
    }
   ],
   "source": [
    "# Sample\n",
    "toss_sample = [ rng_toss(a=a,p=p) for s in np.arange(n_tosses) ]\n",
    "# print(toss_sample)\n",
    "\n",
    "# Evaluate statistics\n",
    "x_sample = np.sum(toss_sample)\n",
    "print(f\"Sample x: {x_sample}\")\n",
    "\n",
    "# Evaluate H0\n",
    "if x_sample in k_acc:\n",
    "    print(\"H0 accepted\")\n",
    "else:\n",
    "    print(\"H0 rejected\")\n"
   ]
  },
  {
   "cell_type": "code",
   "execution_count": 6,
   "id": "7bafeeca-090a-4721-b5c3-29fd1b8d98c6",
   "metadata": {},
   "outputs": [
    {
     "data": {
      "text/plain": [
       "<BarContainer object of 1 artists>"
      ]
     },
     "execution_count": 6,
     "metadata": {},
     "output_type": "execute_result"
    },
    {
     "data": {
      "image/png": "[encoded data removed]",
      "text/plain": [
       "<Figure size 640x480 with 1 Axes>"
      ]
     },
     "metadata": {},
     "output_type": "display_data"
    }
   ],
   "source": [
    "\n",
    "plt.figure()\n",
    "plt.bar(kv, h0_pdf)\n",
    "plt.bar(kv[k_acc], h0_pdf[k_acc])\n",
    "plt.bar(kv[x_sample], h0_pdf[x_sample])"
   ]
  },
  {
   "cell_type": "code",
   "execution_count": null,
   "id": "da6c5859-18fc-4675-8ed7-1cf8a45849c0",
   "metadata": {},
   "outputs": [],
   "source": []
  }
 ],
 "metadata": {
  "kernelspec": {
   "display_name": "Python 3 (ipykernel)",
   "language": "python",
   "name": "python3"
  },
  "language_info": {
   "codemirror_mode": {
    "name": "ipython",
    "version": 3
   },
   "file_extension": ".py",
   "mimetype": "text/x-python",
   "name": "python",
   "nbconvert_exporter": "python",
   "pygments_lexer": "ipython3",
   "version": "3.8.10"
  }
 },
 "nbformat": 4,
 "nbformat_minor": 5
}