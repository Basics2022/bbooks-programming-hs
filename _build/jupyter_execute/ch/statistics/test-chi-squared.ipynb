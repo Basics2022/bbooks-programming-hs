{
 "cells": [
  {
   "cell_type": "markdown",
   "id": "fb8307cf-4fd8-4a96-ac2c-7fc074c48cb6",
   "metadata": {},
   "source": [
    "# $\\chi^2$-test\n",
    "\n",
    "I test statistici $\\chi^2$ coinvolgono una distribuzione di probabilità $\\chi^2$. Il test chi può essere usato per verificare che le frequenze dell'osservazione di un fenomeno non si discostino troppo dalle frequenze attese\n",
    "\n",
    "- in altre parole, può essere usato per confrontare la distribuzione di probabilità ricavabile dal campione con una distribuzione di probabilità attesa.\n",
    "- ..."
   ]
  },
  {
   "cell_type": "code",
   "execution_count": 1,
   "id": "eae20c8b-d0cb-4f39-a24c-e57e1f0ded40",
   "metadata": {},
   "outputs": [],
   "source": [
    "%reset -f\n",
    "\n",
    "import numpy as np\n",
    "import scipy as sp\n",
    "\n",
    "import matplotlib.pyplot as plt"
   ]
  },
  {
   "cell_type": "code",
   "execution_count": 2,
   "id": "ffd70a13-9899-4aed-8995-d53bf79efc84",
   "metadata": {},
   "outputs": [
    {
     "name": "stdout",
     "output_type": "stream",
     "text": [
      "\n",
      "Chi^2-test. scipy.stats.chisquare\n",
      "Power_divergenceResult(statistic=array([0.18693428, 0.00899006]), pvalue=array([0.99924809, 0.99999959]))\n",
      " statistics: [0.18693428 0.00899006]\n",
      " pvalue    : [0.99924809 0.99999959]\n",
      "\n",
      "Chi^2-test, self-implemented\n",
      " chi2      : [0.18693428 0.00899006]\n"
     ]
    },
    {
     "data": {
      "text/plain": [
       "<matplotlib.legend.Legend at 0x7f40941895e0>"
      ]
     },
     "execution_count": 2,
     "metadata": {},
     "output_type": "execute_result"
    },
    {
     "data": {
      "image/png": "[encoded data removed]",
      "text/plain": [
       "<Figure size 640x480 with 1 Axes>"
      ]
     },
     "metadata": {},
     "output_type": "display_data"
    }
   ],
   "source": [
    "#\n",
    "x = np.arange(6)\n",
    "\n",
    "#> Comparison between expected distribution under H0 and sample\n",
    "# N. of expected and registered events\n",
    "f_h0 = np.array([ 6, 18, 16, 14, 12, 12 ], dtype=float)\n",
    "f_s  = np.array([[16, 16, 16, 16, 16, 8], [8, 20, 20, 16, 12, 12]], dtype=float)\n",
    "\n",
    "n_o, n_s = len(f_h0), np.shape(f_s)[0]\n",
    "\n",
    "# Scaling\n",
    "sum_factor = 1.\n",
    "if ( True ):\n",
    "    f_h0 = f_h0 / np.sum(f_h0) * sum_factor\n",
    "    for i in np.arange(n_s):\n",
    "         f_s[i,:] = f_s[i,:] / np.sum(f_s[i,:]) * sum_factor\n",
    "\n",
    "res = sp.stats.chisquare(f_s, f_exp=f_h0, axis=1)\n",
    "\n",
    "print(f\"\\nChi^2-test. scipy.stats.chisquare\")\n",
    "print(res)\n",
    "print(f\" statistics: {res.statistic}\")\n",
    "print(f\" pvalue    : {res.pvalue}\")\n",
    "\n",
    "# w/o using scipy function\n",
    "err = [ [ (f_h0[i_o] - f_s[i_s,i_o])**2/f_h0[i_o] for i_o in np.arange(n_o) ] for i_s in np.arange(n_s) ]\n",
    "chi2 = np.sum(err,axis=1)\n",
    "# ...\n",
    "print(\"\\nChi^2-test, self-implemented\")\n",
    "print(f\" chi2      : {chi2}\")\n",
    "\n",
    "plt.figure()\n",
    "plt.plot(x,f_h0, 'o', color='black', label='Expected', markersize=10)\n",
    "for i_s in np.arange(n_s):\n",
    "    plt.plot(x, f_s[i_s,:], 'o', label=f\"Obs{i_s}\")\n",
    "plt.legend()"
   ]
  },
  {
   "cell_type": "code",
   "execution_count": null,
   "id": "e2d51430-cf4f-4593-80a4-42f50d7f9847",
   "metadata": {},
   "outputs": [],
   "source": []
  }
 ],
 "metadata": {
  "kernelspec": {
   "display_name": "Python 3 (ipykernel)",
   "language": "python",
   "name": "python3"
  },
  "language_info": {
   "codemirror_mode": {
    "name": "ipython",
    "version": 3
   },
   "file_extension": ".py",
   "mimetype": "text/x-python",
   "name": "python",
   "nbconvert_exporter": "python",
   "pygments_lexer": "ipython3",
   "version": "3.8.10"
  }
 },
 "nbformat": 4,
 "nbformat_minor": 5
}