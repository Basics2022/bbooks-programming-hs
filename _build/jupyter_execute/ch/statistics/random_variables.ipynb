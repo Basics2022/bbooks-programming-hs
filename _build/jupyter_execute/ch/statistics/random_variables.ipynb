{
 "cells": [
  {
   "cell_type": "markdown",
   "id": "24faf42e-cd41-4371-8eb3-26838537e33a",
   "metadata": {},
   "source": [
    "(statistics-hs:random-variables)=\n",
    "# Variabili casuali\n",
    "\n",
    "Qualitativamente, una variabile casuale è una grandezza che può assumere valori diversi come risultato di un fenomeno aleatorio, un fenomeno che non è possibile descrivere accuratamente con delle equazioni deterministiche. **todo** *fare esempi: lancio del dado e estrema dipendenza dalle condizioni iniziali, soprattutto con urto; aggiungere simulazione, già presente sul drive*\n",
    "\n",
    "**Contenuti.**\n",
    "1. Definizione di variabile casuale\n",
    "2. Variabili casuali discrete\n",
    "3. Variabili casuali continue\n",
    "4. Trasformazione di funzioni di probabilità\n",
    "5. Funzioni di probabilità comuni\n",
    "6. Variabili casuali indipendenti e identicamente distribuite\n",
    "7. Campionamento (**todo** qui o nella parte di statistica inferenziale, stima?)\n"
   ]
  }
 ],
 "metadata": {
  "kernelspec": {
   "display_name": "Python 3 (ipykernel)",
   "language": "python",
   "name": "python3"
  },
  "language_info": {
   "codemirror_mode": {
    "name": "ipython",
    "version": 3
   },
   "file_extension": ".py",
   "mimetype": "text/x-python",
   "name": "python",
   "nbconvert_exporter": "python",
   "pygments_lexer": "ipython3",
   "version": "3.8.10"
  }
 },
 "nbformat": 4,
 "nbformat_minor": 5
}