{
 "cells": [
  {
   "cell_type": "markdown",
   "id": "24faf42e-cd41-4371-8eb3-26838537e33a",
   "metadata": {},
   "source": [
    "(statistics-hs:random-variables)=\n",
    "# Variabili casuali\n",
    "\n",
    "**Definizione.** Una variabile casuale..."
   ]
  },
  {
   "cell_type": "markdown",
   "id": "98f24e79-34d5-4a01-81a0-bf2dbb184084",
   "metadata": {},
   "source": [
    "## Variabili casuali discrete\n",
    "...\n",
    "\n",
    "**Valore medio**\n",
    "\n",
    "$$\\mu_X = E[X] = \\sum_k p(x_k) x_k$$\n",
    "\n",
    "**Varianza**\n",
    "\n",
    "$$\\sigma^2_X = E[(X-\\mu_X)^2] = \\sum_k p(x_k) (x_k - \\mu_X)^2$$\n",
    "\n",
    "**media, moda.**\n",
    "\n",
    "\n",
    "### Variabili casuali multi-dimensionali\n",
    "- **Probabilità congiunta.** $p(x,y)$\n",
    "- **Probabilità condizionale.** $p(x|y)$\n",
    "- **Probabilità marginale.** $p(x)$\n",
    "\n",
    "#### Probabilità congiunta e teorema di Bayes\n",
    "$$p(x,y) = p(x|y)p(y) = p(y|x)p(x)$$\n",
    "\n",
    "#### Variabili indipendenti\n",
    "Due variabili casuali sono indipendenti se la probabilità condizionale di una variabile coincide con la sua probabilità marginale,\n",
    "\n",
    "$$p(x|y) = p(x) \\ ,$$\n",
    "\n",
    "così che la probabilità congiunta di due variabili casuali indipendenti è il prodotto delle probabilità marginali,\n",
    "\n",
    "$$p(x,y) = p(x)p(y) \\ .$$\n",
    "\n",
    "#### Covarianza\n",
    "\n",
    "$$\\sigma^2_{ij} = E[(X_i-\\mu_i)(X_j-\\mu_j)] = R_{ij} - \\mu_i \\mu_j$$\n",
    "\n",
    "#### Correlazione\n",
    "\n",
    "$$\\rho_{XY} = \\frac{E[(X-\\mu_X)(Y-\\mu_Y)]}{E[(X-\\mu_X)^2]^{1/2} \\, E[(X-\\mu_X)^2]^{1/2}} = \\frac{\\sigma_{XY}^2}{\\sigma_X \\, \\sigma_Y}$$\n"
   ]
  },
  {
   "cell_type": "markdown",
   "id": "d0757b76-498a-4e6d-92f3-329003ecebc7",
   "metadata": {},
   "source": [
    "## Variabili casuali continue\n",
    "..."
   ]
  }
 ],
 "metadata": {
  "kernelspec": {
   "display_name": "Python 3 (ipykernel)",
   "language": "python",
   "name": "python3"
  },
  "language_info": {
   "codemirror_mode": {
    "name": "ipython",
    "version": 3
   },
   "file_extension": ".py",
   "mimetype": "text/x-python",
   "name": "python",
   "nbconvert_exporter": "python",
   "pygments_lexer": "ipython3",
   "version": "3.8.10"
  }
 },
 "nbformat": 4,
 "nbformat_minor": 5
}