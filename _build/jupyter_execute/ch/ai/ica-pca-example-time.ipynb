{
 "cells": [
  {
   "cell_type": "markdown",
   "id": "2a0aff9d-77cf-44da-8647-ee7dfebf7e8d",
   "metadata": {},
   "source": [
    "(ai:ul:ica-pca:example-time)=\n",
    "# ICA e PCA: segnali in tempo"
   ]
  }
 ],
 "metadata": {
  "kernelspec": {
   "display_name": "Python 3 (ipykernel)",
   "language": "python",
   "name": "python3"
  },
  "language_info": {
   "codemirror_mode": {
    "name": "ipython",
    "version": 3
   },
   "file_extension": ".py",
   "mimetype": "text/x-python",
   "name": "python",
   "nbconvert_exporter": "python",
   "pygments_lexer": "ipython3",
   "version": "3.8.10"
  }
 },
 "nbformat": 4,
 "nbformat_minor": 5
}