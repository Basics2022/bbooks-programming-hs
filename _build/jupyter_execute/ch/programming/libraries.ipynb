{
 "cells": [
  {
   "cell_type": "markdown",
   "id": "daecdcea-4c9f-461b-8416-87df32eac3b9",
   "metadata": {},
   "source": [
    "# Librerie\n",
    "\n",
    "- Definizione del concetto\n",
    "- librerie \"standard\", scritte da qualcun'altro\n",
    "- scrivere una libreria"
   ]
  },
  {
   "cell_type": "code",
   "execution_count": null,
   "id": "da99d8c1-9227-4d09-a944-0fca97c1e6aa",
   "metadata": {},
   "outputs": [],
   "source": []
  }
 ],
 "metadata": {
  "kernelspec": {
   "display_name": "Python 3 (ipykernel)",
   "language": "python",
   "name": "python3"
  },
  "language_info": {
   "codemirror_mode": {
    "name": "ipython",
    "version": 3
   },
   "file_extension": ".py",
   "mimetype": "text/x-python",
   "name": "python",
   "nbconvert_exporter": "python",
   "pygments_lexer": "ipython3",
   "version": "3.8.10"
  }
 },
 "nbformat": 4,
 "nbformat_minor": 5
}