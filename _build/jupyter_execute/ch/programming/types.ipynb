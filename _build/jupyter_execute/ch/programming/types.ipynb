{
 "cells": [
  {
   "cell_type": "markdown",
   "id": "78f050d3-cc06-49ba-817c-71355f55e407",
   "metadata": {},
   "source": [
    "# Variabili, tipi e funzioni elementari built-in\n",
    "\n",
    "- tipi\n",
    "- variabili\n",
    "  - ...\n",
    "  - by-reference o by-value"
   ]
  },
  {
   "cell_type": "markdown",
   "id": "52c62593-76dc-40c5-8fde-90d155d4194f",
   "metadata": {},
   "source": [
    "## Commenti"
   ]
  },
  {
   "cell_type": "code",
   "execution_count": 1,
   "id": "9f251f9f-0804-419a-8843-e463a8ea4c1e",
   "metadata": {},
   "outputs": [],
   "source": [
    "# I commenti permettono di aggiungere brevi descrizione al codice\n",
    "\n",
    "# In Python, è possibile aggiungerre commenti al codice con il carattere #: tutto quello\n",
    "# che viene dopo il carattere # su una riga è considerato un commento, e non codice da\n",
    "# eseguire\n",
    "\n",
    "# E' buona regola aggiungere qualche commento al codice, e sarebbe bene iniziare a farlo\n",
    "# in lingua inglese:\n",
    "# - il codice non è auto-esplicativo!\n",
    "# - il codice potrebbe essere usato da altri in giro per il mondo, ed è più probabile che\n",
    "#   si conosca l'inglese invece dell'italiano\n",
    "\n",
    "# So let's switch to English for scripts, both for comments and \"for variable names\"\n",
    "\n",
    "# Comments are not documentation! **todo** Add some paragraph about documentation!\n"
   ]
  },
  {
   "cell_type": "markdown",
   "id": "0c7da891-0a0b-4d3b-93d0-b561d36e0919",
   "metadata": {},
   "source": [
    "## Tipi built-in\n",
    "- numero: intero, reale, complesso\n",
    "- booleano\n",
    "- stringa\n",
    "- bytes\n",
    "- lista\n",
    "- tupla\n",
    "- insieme\n",
    "- dizionario, $\\texttt{dict}$"
   ]
  },
  {
   "cell_type": "markdown",
   "id": "5d575a51-a259-40d5-aeac-74d9bb531d10",
   "metadata": {},
   "source": [
    "### Numeri"
   ]
  },
  {
   "cell_type": "code",
   "execution_count": 2,
   "id": "0f27e970-3f84-4c3a-88b9-9d74c3c447d6",
   "metadata": {},
   "outputs": [
    {
     "name": "stdout",
     "output_type": "stream",
     "text": [
      "type(a_int)    : <class 'int'>\n",
      "type(a_real)   : <class 'float'>\n",
      "type(a_complex): <class 'complex'>\n",
      "type(a_str    ): <class 'str'>\n"
     ]
    }
   ],
   "source": [
    "\"\"\"\n",
    "Numbers\n",
    "\n",
    "in Python, variables are not delcared. Thus, a number variable is not defined\n",
    "as an integer, a real or a complex variable, but it's type is inferred by its\n",
    "initialization\n",
    "\"\"\"\n",
    "\n",
    "# Numbers\n",
    "a_int = 1\n",
    "a_real = 1.\n",
    "a_complex = 1.+ 0.j\n",
    "\n",
    "# Strings\n",
    "a_str = '1.0'\n",
    "\n",
    "print(f\"type(a_int)    : {type(a_int    )}\")\n",
    "print(f\"type(a_real)   : {type(a_real   )}\")\n",
    "print(f\"type(a_complex): {type(a_complex)}\")\n",
    "print(f\"type(a_str    ): {type(a_str    )}\")\n"
   ]
  },
  {
   "cell_type": "markdown",
   "id": "3dc0c24a-199f-4b39-89e0-4515fc8cf7f7",
   "metadata": {},
   "source": [
    "### Booleani - logici"
   ]
  },
  {
   "cell_type": "code",
   "execution_count": null,
   "id": "2f4c5797-c53d-4412-bc57-59d8a8b25bd1",
   "metadata": {},
   "outputs": [],
   "source": []
  },
  {
   "cell_type": "markdown",
   "id": "7a4548d2-70dc-4dc0-9289-582afee6ca13",
   "metadata": {},
   "source": [
    "### Stringhe"
   ]
  },
  {
   "cell_type": "code",
   "execution_count": 3,
   "id": "161951f2-232d-4d62-a4e1-ca014f6fd8da",
   "metadata": {},
   "outputs": [
    {
     "data": {
      "text/plain": [
       "'\\nStrings\\n\\nstrings are character \\n'"
      ]
     },
     "execution_count": 3,
     "metadata": {},
     "output_type": "execute_result"
    }
   ],
   "source": [
    "\"\"\"\n",
    "Strings\n",
    "\n",
    "strings are character \n",
    "\"\"\""
   ]
  },
  {
   "cell_type": "markdown",
   "id": "cb21b42a-0e2d-4d02-9b30-115584be2a0b",
   "metadata": {},
   "source": [
    "### Liste, tuple e insiemi"
   ]
  },
  {
   "cell_type": "markdown",
   "id": "3d31025e-ad80-435e-82c0-c252e4f2e939",
   "metadata": {},
   "source": [
    "### Dizionari"
   ]
  }
 ],
 "metadata": {
  "kernelspec": {
   "display_name": "Python 3 (ipykernel)",
   "language": "python",
   "name": "python3"
  },
  "language_info": {
   "codemirror_mode": {
    "name": "ipython",
    "version": 3
   },
   "file_extension": ".py",
   "mimetype": "text/x-python",
   "name": "python",
   "nbconvert_exporter": "python",
   "pygments_lexer": "ipython3",
   "version": "3.8.10"
  }
 },
 "nbformat": 4,
 "nbformat_minor": 5
}