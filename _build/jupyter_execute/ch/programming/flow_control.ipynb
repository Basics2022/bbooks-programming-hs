{
 "cells": [
  {
   "cell_type": "markdown",
   "id": "2ccad2be-df0a-4d7b-914e-eda58ba90211",
   "metadata": {},
   "source": [
    "# Controllo del flusso\n",
    "\n",
    "Nei paradigmi di *programmazione imperativa* (**todo** fare riferimento ai paradigmi di programmazione. Ha senso questa distinzione?), vengono usate delle strutture di controllo del flusso di esecuzione di un programma.\n",
    "\n",
    "Si possono distinguere due categorie delle strutture di controllo:\n",
    "- alternativa: if-then, if-then-else\n",
    "- iterazione: for, while, ..."
   ]
  },
  {
   "cell_type": "markdown",
   "id": "188f0810-c457-4d90-804a-3524d8ace755",
   "metadata": {},
   "source": [
    "## Alternativa"
   ]
  },
  {
   "cell_type": "markdown",
   "id": "06e00e38-021b-4fb3-9f30-ecdc26beb224",
   "metadata": {},
   "source": [
    "### if-then e if-then-else"
   ]
  },
  {
   "cell_type": "code",
   "execution_count": 1,
   "id": "9242e6ee-4178-4af9-b13e-697b7a707ac4",
   "metadata": {},
   "outputs": [
    {
     "name": "stdout",
     "output_type": "stream",
     "text": [
      "User input (2.1) is an odd number\n"
     ]
    }
   ],
   "source": [
    "\"\"\" Test if-then \"\"\"\n",
    "\n",
    "a = 2.1\n",
    "\n",
    "word = 'odd'\n",
    "if ( a % 2 == 0 ):   # automatic casting into an int -> a % 2 = floor(a) % 2\n",
    "    word = 'even'\n",
    "\n",
    "print(f\"User input ({a}) is an {word} number\")"
   ]
  },
  {
   "cell_type": "code",
   "execution_count": 2,
   "id": "27a7b470-d645-4af5-aa20-b79865297a0b",
   "metadata": {},
   "outputs": [
    {
     "name": "stdout",
     "output_type": "stream",
     "text": [
      "User input (15.7). 15.7 % 3 = 0\n"
     ]
    }
   ],
   "source": [
    "\"\"\" Test if-then-else \"\"\"\n",
    "\n",
    "a = 15.7\n",
    "\n",
    "if ( a % 3 == 1 ):\n",
    "    reminder = 1\n",
    "elif ( a % 3 == 2 ):\n",
    "    reminder = 2\n",
    "else:\n",
    "    reminder = 0\n",
    "    \n",
    "print(f\"User input ({a}). {a} % 3 = {reminder}\")"
   ]
  },
  {
   "cell_type": "markdown",
   "id": "fcc14528-ae44-4f81-b026-f91cfcf368f9",
   "metadata": {},
   "source": [
    "### switch"
   ]
  },
  {
   "cell_type": "markdown",
   "id": "0c96bbd9-ef5b-4ef9-bab5-42d1abb13064",
   "metadata": {},
   "source": [
    "## Iterazione"
   ]
  },
  {
   "cell_type": "markdown",
   "id": "adbe053c-2569-4727-9043-49e899459f90",
   "metadata": {},
   "source": [
    "### for loop"
   ]
  },
  {
   "cell_type": "markdown",
   "id": "fb6d552b-b7d6-4e56-98f8-9c5b8861f57c",
   "metadata": {},
   "source": [
    "### while loop"
   ]
  },
  {
   "cell_type": "markdown",
   "id": "2227747a-8445-4f04-be1a-d2e080e771c4",
   "metadata": {},
   "source": [
    "### altri cicli"
   ]
  }
 ],
 "metadata": {
  "kernelspec": {
   "display_name": "Python 3 (ipykernel)",
   "language": "python",
   "name": "python3"
  },
  "language_info": {
   "codemirror_mode": {
    "name": "ipython",
    "version": 3
   },
   "file_extension": ".py",
   "mimetype": "text/x-python",
   "name": "python",
   "nbconvert_exporter": "python",
   "pygments_lexer": "ipython3",
   "version": "3.8.10"
  }
 },
 "nbformat": 4,
 "nbformat_minor": 5
}