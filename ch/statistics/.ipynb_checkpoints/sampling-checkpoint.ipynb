{
 "cells": [
  {
   "cell_type": "markdown",
   "id": "f12a3031-a27e-48a4-8081-0e5fc9f75118",
   "metadata": {},
   "source": [
    "# Campionamento\n",
    "\n"
   ]
  },
  {
   "cell_type": "markdown",
   "id": "cc54fe76-4ce8-45e7-bf07-348eb4258d78",
   "metadata": {},
   "source": [
    "# Media campionaria\n",
    "La media campionaria di $N$ campioni indipendenti identicametne distribuiti,\n",
    "\n",
    "$$\\overline{X} = \\frac{1}{N} \\sum_{n=1}^{N} X_n \\ ,$$\n",
    "\n",
    "è una variabile casuale **todo**"
   ]
  },
  {
   "cell_type": "markdown",
   "id": "2848e7a3-22d3-4fa9-bef7-bc0ed167afe4",
   "metadata": {},
   "source": []
  },
  {
   "cell_type": "markdown",
   "id": "476666fc-cdbd-46a2-8d3f-3be96f6542d7",
   "metadata": {},
   "source": [
    "# Teorema del limite centrale\n",
    "La media di $N$ variabili iid con media $\\mu$ e varianza $\\sigma^2$ è una variabile casuale, la cui distribuzione di probabilità tende alla distribuzione normale $\\mathscr{N}\\left(\\mu, \\frac{\\sigma^2}{N} \\right)$ per $N \\rightarrow \\infty$."
   ]
  },
  {
   "cell_type": "code",
   "execution_count": 1,
   "id": "f1bd3d53-8b7b-4840-9f0b-9067a0b4ea3c",
   "metadata": {},
   "outputs": [],
   "source": [
    "#\n",
    "\n",
    "import numpy as np\n",
    "\n",
    "\n",
    "def sample_to_pdf(x, bins=100, density=True):\n",
    "  \"\"\" evaluate pdf, from histogram, and normalizing with uniform integration rule \"\"\"\n",
    "  hist, bin_edges = np.histogram(x, bins=bins, density=True)   # get data from histogram\n",
    "  bin_cen = 0.5 * ( bin_edges[:-1] + bin_edges[1:] )           # bin center\n",
    "  d_bin = bin_edges[1:] - bin_edges[:-1]                       # bin width\n",
    "  pdf = hist / np.sum(hist * d_bin)                           # normalization to get int pdf = 1\n",
    "  return pdf, bin_cen\n"
   ]
  },
  {
   "cell_type": "code",
   "execution_count": 2,
   "id": "61210268-6d3e-4aad-959d-bdd5e6dfb7c1",
   "metadata": {},
   "outputs": [],
   "source": [
    "#> List of random number generators for the population\n",
    "# numpy random number generators with parameters\n",
    "rgen_list = [\n",
    "    { 'name': 'Normal',\n",
    "      'generator': np.random.default_rng().normal, 'params': {},   # normal distribution\n",
    "      'population_params': {'avg': 0., 'sigma': 1.}, \\\n",
    "      'write_params': lambda mu, sigma, n: {'loc': mu, 'scale': sigma, 'size': n},\n",
    "      'sample_avg': [],\n",
    "      'sample_avg_stat': {'avg': 0., 'std': 0.},\n",
    "      'histograms': [],\n",
    "      'xlimit': [-3., 3.]\n",
    "    },\n",
    "    { 'name': 'Uniform',\n",
    "      'generator': np.random.default_rng().uniform, 'params': {},   # uniform distribution\n",
    "      'population_params': {'avg': 0., 'sigma': 1.}, \\\n",
    "      'write_params': lambda mu, sigma, n: {'low': mu-sigma, 'high': mu+sigma, 'size': n},\n",
    "      'sample_avg': [],\n",
    "      'sample_avg_stat': {'avg': 0., 'std': 0.},\n",
    "      'histograms': [],\n",
    "      'xlimit': [-2, 2.]\n",
    "    },\n",
    "]\n",
    "\n",
    "n_gen = len(rgen_list)"
   ]
  },
  {
   "cell_type": "code",
   "execution_count": 10,
   "id": "24aac0fd-a302-454f-9982-92f232a1ddbb",
   "metadata": {},
   "outputs": [
    {
     "name": "stdout",
     "output_type": "stream",
     "text": [
      "Normal\n",
      "(10000,)\n",
      "Uniform\n",
      "(10000,)\n",
      "Distribution:sample_size - sigma2_ratio = sigma2_pop/sigma2_sample_avg - sample_mean: avg, std dev\n",
      "Normal:\n",
      "Normal:200 - sigma2_ratio: nan - sample_mean: avg, std: nan, nan\n",
      "Uniform:\n",
      "Uniform:200 - sigma2_ratio: nan - sample_mean: avg, std: nan, nan\n"
     ]
    }
   ],
   "source": [
    "samples = { 'gen': {} }\n",
    "sample_size_max = 100\n",
    "n_samples       = 1000\n",
    "population_size = 10000\n",
    "sample_size_v   = [ sample_size_max ]\n",
    "\n",
    "#> Generate populations with different probability distribution and draw samples from them\n",
    "for rgen in rgen_list:\n",
    "\n",
    "  print(rgen['name'])\n",
    "\n",
    "  samples['gen'][rgen['name']] = {}\n",
    "\n",
    "  #> Generate population\n",
    "  pop_params = rgen['population_params']\n",
    "  gen_params = rgen['write_params'](pop_params['avg'], pop_params['sigma'], population_size)\n",
    "  pop = rgen['generator'](**gen_params)\n",
    "    \n",
    "  #> Loop over sample size\n",
    "  for sample_size in sample_size_v:\n",
    "\n",
    "    samples['gen'][rgen['name']][str(sample_size)] = {\n",
    "         'pdf': [], 'sample_avgs': [],\n",
    "         'xlim': rgen['xlimit'],\n",
    "         'sigma_pop_num': np.std(pop), 'sigma_pop': None, 'sigma2_ratio': None}\n",
    "      \n",
    "    #> Take samples and evaluate average\n",
    "    i_e = 0\n",
    "    for i_s in range(n_samples):\n",
    "      sam = pop[i_e:i_e+sample_size]\n",
    "      f, x = sample_to_pdf(sam, bins=20)\n",
    "\n",
    "      samples['gen'][rgen['name']][str(sample_size)]['pdf'].append({'x': x, 'f': f})\n",
    "      samples['gen'][rgen['name']][str(sample_size)]['sample_avgs'].append(np.mean(sam))\n",
    "\n",
    "      i_e = i_e + sample_size\n",
    "\n",
    "\n",
    "#> Statistics of the sample average\n",
    "print(\"Distribution:sample_size - sigma2_ratio = sigma2_pop/sigma2_sample_avg - sample_mean: avg, std dev\")\n",
    "for rk, r in samples['gen'].items():\n",
    "  print(f\"{rk}:\")\n",
    "  #> Loop over sample size\n",
    "  for sk, s in r.items():\n",
    "    s['sample_avg_avg'] = np.mean(s['sample_avgs'])\n",
    "    s['sample_avg_std'] = np.std(s['sample_avgs'])\n",
    "    s['sigma2_ratio'] = s['sigma_pop_num']**2 / s['sample_avg_std']**2\n",
    "\n",
    "    print(f\"{rk}:{sk} - sigma2_ratio: {s['sigma2_ratio']} - sample_mean: avg, std: {s['sample_avg_avg']}, {s['sample_avg_std']}\")"
   ]
  },
  {
   "cell_type": "markdown",
   "id": "21f3e5a2-1ccc-4965-bed5-aaa15cdca6bf",
   "metadata": {},
   "source": [
    "# Campioni ridotti e $t$-Student"
   ]
  }
 ],
 "metadata": {
  "kernelspec": {
   "display_name": "Python 3 (ipykernel)",
   "language": "python",
   "name": "python3"
  },
  "language_info": {
   "codemirror_mode": {
    "name": "ipython",
    "version": 3
   },
   "file_extension": ".py",
   "mimetype": "text/x-python",
   "name": "python",
   "nbconvert_exporter": "python",
   "pygments_lexer": "ipython3",
   "version": "3.8.10"
  }
 },
 "nbformat": 4,
 "nbformat_minor": 5
}
