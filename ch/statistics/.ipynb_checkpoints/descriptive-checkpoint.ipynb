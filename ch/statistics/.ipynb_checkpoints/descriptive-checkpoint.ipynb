{
 "cells": [
  {
   "cell_type": "markdown",
   "id": "4bd8c14b-e764-4a98-a93b-d96b11033a88",
   "metadata": {},
   "source": [
    "(statistics-hs:descriptive)=\n",
    "# Statistica descrittiva"
   ]
  },
  {
   "cell_type": "markdown",
   "id": "84abefc1-72ec-46ec-aef3-4644b2c3cc22",
   "metadata": {},
   "source": [
    "La statistica descrittiva si occupa di descrivere e riassumere le informazioni contenute nei dati disponibili, con lo scopo di:\n",
    "- comunicare il maggior numero di informazioni rilevanti\n",
    "- nella maniera più semplice e sintetica possibile\n",
    "\n",
    "Questo, in accordo con la *percezione umana* **todo**, avviene tramite indicazioni di:\n",
    "- **posizione**, come la media, la mediana, la moda, o loro variazioni sul tema\n",
    "- **dispersione**, come la deviazione standard, la varianza, lo scarto interquartile,...\n",
    "- **forma**, come skewness o curtosi, o momenti di ordine superiore\n",
    "- **correlazione** o **dipendenza** **todo** *correlazione $\\ne$ dipendenza, fare un riferimento; è necessario dedurre una dipendenza? E' tra i compiti della statistica descrittiva?*"
   ]
  },
  {
   "cell_type": "markdown",
   "id": "3ba1911a-d049-4c0b-b91b-74f9387de549",
   "metadata": {},
   "source": [
    "## Dimensione dei dati\n",
    "- variabili 1-dimensionali\n",
    "- variabili 2-dimensionali o di dimenione piccola\n",
    "- variabili di grandi dimensioni: possono essere necessarie tecniche di riduzione dei dati per far emergere le proprietà significative contenute nei dati raccolti"
   ]
  },
  {
   "cell_type": "markdown",
   "id": "ce1f85fa-1ee2-4be0-a38b-b74b6f9c3a2f",
   "metadata": {},
   "source": [
    "## Rappresentazione grafica\n",
    "**EDA: exploratory data analysis.** Può essere utilizzata in applicazioni di statistica descrittiva o nelle prime fasi di applicazioni di statistica inferenziale, \"per vedere che faccia hanno i dati raccolti\" e per fare una prima selezione dei metodi da applicare nelle fasi successive dell'indagine.\n",
    "\n",
    "Attualmente, sono disponibili i mezzi informatici e un gran numero di librerie per l'analisi dati, dall'elaborazione alla rappresentazione.\n"
   ]
  },
  {
   "cell_type": "markdown",
   "id": "c3b14b81-239d-4a68-bfc7-5d89768b4984",
   "metadata": {},
   "source": [
    "## Variabili 1-dimensionali"
   ]
  },
  {
   "cell_type": "markdown",
   "id": "3d92cfb7-9f91-48a7-acb9-ce096dca221f",
   "metadata": {},
   "source": [
    "## Variabili 2-dimensionali"
   ]
  },
  {
   "cell_type": "markdown",
   "id": "d601f3df-fd15-4d45-b395-d7b5c6eb3540",
   "metadata": {},
   "source": [
    "## Variabili di grandi dimensioni"
   ]
  }
 ],
 "metadata": {
  "kernelspec": {
   "display_name": "Python 3 (ipykernel)",
   "language": "python",
   "name": "python3"
  },
  "language_info": {
   "codemirror_mode": {
    "name": "ipython",
    "version": 3
   },
   "file_extension": ".py",
   "mimetype": "text/x-python",
   "name": "python",
   "nbconvert_exporter": "python",
   "pygments_lexer": "ipython3",
   "version": "3.8.10"
  }
 },
 "nbformat": 4,
 "nbformat_minor": 5
}
