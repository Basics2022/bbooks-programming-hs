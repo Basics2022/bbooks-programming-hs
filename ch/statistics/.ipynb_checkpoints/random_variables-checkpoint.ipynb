{
 "cells": [
  {
   "cell_type": "markdown",
   "id": "24faf42e-cd41-4371-8eb3-26838537e33a",
   "metadata": {},
   "source": [
    "(statistics-hs:random-variables)=\n",
    "# Variabili casuali\n",
    "\n",
    "Qualitativamente, una variabile casuale è una grandezza che può assumere valori diversi come risultato di un fenomeno aleatorio, un fenomeno che non è possibile descrivere accuratamente con delle equazioni deterministiche. **todo** *fare esempi: lancio del dado e estrema dipendenza dalle condizioni iniziali, soprattutto con urto; aggiungere simulazione, già presente sul drive*\n",
    "\n",
    "<!-- ```{prf:definition} Variabile casuale\n",
    "``` -->\n",
    "\n",
    "Una definizione più rigorosa prevede i concetti di spazio di probabilità e $\\sigma$-algebra. Senza pretendere di fornire una descrizione dettagliata e rigorosa di questi oggetti matematici, non si vuole rinunciare a dare la definizione rigorosa di variabile casuale, fornendo un'interpretazione degli oggetti matematici coinvolti.\n",
    "\n"
   ]
  },
  {
   "cell_type": "markdown",
   "id": "652613fd-f454-43f2-8852-e24bab0c0be9",
   "metadata": {},
   "source": [
    "## Definizione\n",
    "Dato uno *spazio di probabilità* $(\\Omega, \\mathcal{F}, \\nu)$ e uno *spazio misurabile* $(E, \\mathcal{E})$, una **variabile aleatoria** è una funzione misurabile $X: \\Omega \\rightarrow E$.\n",
    "\n",
    "Ora, cerchiamo di interpretare questa definizione criptica. Iniziamo dalle cose semplici:\n",
    "- $\\Omega$ ed $E$ sono due *insiemi*: $\\Omega$ viene definito *insieme degli eventi* o *spazio campionario*, $E$ è l'insieme dei valori che può assumere la variabile casuale.\n",
    "\n",
    "Continuiamo con gli altri oggetti meno immediati:\n",
    "- lo spazio di probabilità $(\\Omega, \\mathcal{F}, \\nu)$ può essere pensato come formato da due parti, lo spazio misurabile $(\\Omega, \\mathcal{F})$ e la misura di probabilità $\\nu$;\n",
    "- nella definizione ora sono conivolti due spazi misurabili, $(\\Omega, \\mathcal{F})$, $(E, \\mathcal{E})$, che a loro volta sono composti da due oggetti:\n",
    "  - un insieme di elementi;\n",
    "  - una $\\sigma$-algebra: per quanto interessa a noi, una $\\sigma$-algebra applicata agli elementi di un insieme offre la possibiltà di applicare le operazioni degli insiemi (unione, intersezione,...) agli elementi dell'insieme\n",
    "- la misura di probabilità $\\nu$ è una funzione compatibile con gli spazi misurabili coinvolti nella definizione, che traduce in matematica i concetti della probabilità come, ad esempio:\n",
    "  - $P(\\omega \\in \\Omega) = 1$,\n",
    "  - $P(\\omega \\in A \\lor \\omega \\in B) \\le P(\\omega \\in A) + P(\\omega \\in B)$, e l'uguaglianza vale se $A$, $B$ disgiunti\n",
    "  - ...\n",
    "\n",
    "Spieghiamoci peggio con due esempi.\n"
   ]
  },
  {
   "cell_type": "markdown",
   "id": "515beb63-d234-4c71-94e2-d2e691d3c6d1",
   "metadata": {
    "jp-MarkdownHeadingCollapsed": true
   },
   "source": [
    "### Esempio 1.: lancio dado non truccato, con variabile casuale corrispondente al valore della faccia\n",
    "Viene lanciato un dato a 6 facce non truccato. Questo corrisponde a un insieme degli eventi costituito da i 6 eventi distinti $E = \\{ \\text{faccia 1}, \\dots, \\text{faccia 6} \\}$, e ognuno di questi 6 eventi ha una misura di probabilità uguale a $\\nu(\\text{faccia 1}) = \\dots = \\nu(\\text{faccia 6}) = \\frac{1}{6}$. Si sceglie come variabile casuale la variabile casuale (la funzione) che associa al numero letto sulla faccia lo stesso numero, $X: \\Omega \\rightarrow E$, $X(\\text{faccia n}) = n$. Si vogliono ora analizzare le probabilità associate ai seguenti eventi:\n",
    "- $\\Omega_1$: eventi che portano a risultato 3:\n",
    "\n",
    "  $$P(X(\\omega \\in \\Omega_1) = 3) = P(\\omega \\in \\Omega_1) = \\nu(\\text{faccia 3}) = \\frac{1}{6}$$\n",
    "\n",
    "- $\\Omega_2$: eventi che portano a risultato pari,\n",
    "\n",
    "  $$P(X(\\omega \\in \\Omega_2) = 2 \\lor X(\\omega \\in \\Omega_2) = 4 \\lor X(\\omega \\in \\Omega_2) = 4) = P(\\omega \\in \\Omega_2) = \\nu(\\text{faccia 2}) + \\nu(\\text{faccia 4}) + \\nu(\\text{faccia 6})) = \\frac{1}{2}$$\n",
    "\n",
    "- $\\Omega_3$: eventi che portano a risultato dispari\n",
    "- $\\Omega_4$: eventi che portano a risultato inferiore a 4\n",
    "- $\\Omega_5$: eventi che portano a un risultato compreso tra 1 e 6 inclusi\n",
    "- $\\Omega_6$: eventi che verificano gli eventi $\\Omega_2$ **o** gli eventi $\\Omega_4$\n",
    "- $\\Omega_7$: eventi che verificano gli eventi $\\Omega_2$ **e** gli eventi $\\Omega_4$"
   ]
  },
  {
   "cell_type": "markdown",
   "id": "7963934f-8ba1-42b0-8adf-08387a49247f",
   "metadata": {},
   "source": [
    "### Esempio 2.:"
   ]
  },
  {
   "cell_type": "markdown",
   "id": "98f24e79-34d5-4a01-81a0-bf2dbb184084",
   "metadata": {},
   "source": [
    "## Variabili casuali discrete\n",
    "...\n",
    "\n",
    "**Valore medio**\n",
    "\n",
    "$$\\mu_X = E[X] = \\sum_k p(x_k) x_k$$\n",
    "\n",
    "**Varianza**\n",
    "\n",
    "$$\\sigma^2_X = E[(X-\\mu_X)^2] = \\sum_k p(x_k) (x_k - \\mu_X)^2$$\n",
    "\n",
    "**media, moda.**\n",
    "\n",
    "\n",
    "### Variabili casuali multi-dimensionali\n",
    "- **Probabilità congiunta.** $p(x,y)$\n",
    "- **Probabilità condizionale.** $p(x|y)$\n",
    "- **Probabilità marginale.** $p(x)$\n",
    "\n",
    "#### Probabilità congiunta e teorema di Bayes\n",
    "$$p(x,y) = p(x|y)p(y) = p(y|x)p(x)$$\n",
    "\n",
    "#### Variabili indipendenti\n",
    "Due variabili casuali sono indipendenti se la probabilità condizionale di una variabile coincide con la sua probabilità marginale,\n",
    "\n",
    "$$p(x|y) = p(x) \\ ,$$\n",
    "\n",
    "così che la probabilità congiunta di due variabili casuali indipendenti è il prodotto delle probabilità marginali,\n",
    "\n",
    "$$p(x,y) = p(x)p(y) \\ .$$\n",
    "\n",
    "#### Covarianza\n",
    "\n",
    "$$\\sigma^2_{ij} = E[(X_i-\\mu_i)(X_j-\\mu_j)] = R_{ij} - \\mu_i \\mu_j$$\n",
    "\n",
    "#### Correlazione\n",
    "\n",
    "$$\\rho_{XY} = \\frac{E[(X-\\mu_X)(Y-\\mu_Y)]}{E[(X-\\mu_X)^2]^{1/2} \\, E[(X-\\mu_X)^2]^{1/2}} = \\frac{\\sigma_{XY}^2}{\\sigma_X \\, \\sigma_Y}$$\n"
   ]
  },
  {
   "cell_type": "markdown",
   "id": "d0757b76-498a-4e6d-92f3-329003ecebc7",
   "metadata": {},
   "source": [
    "## Variabili casuali continue\n",
    "..."
   ]
  }
 ],
 "metadata": {
  "kernelspec": {
   "display_name": "Python 3 (ipykernel)",
   "language": "python",
   "name": "python3"
  },
  "language_info": {
   "codemirror_mode": {
    "name": "ipython",
    "version": 3
   },
   "file_extension": ".py",
   "mimetype": "text/x-python",
   "name": "python",
   "nbconvert_exporter": "python",
   "pygments_lexer": "ipython3",
   "version": "3.8.10"
  }
 },
 "nbformat": 4,
 "nbformat_minor": 5
}
