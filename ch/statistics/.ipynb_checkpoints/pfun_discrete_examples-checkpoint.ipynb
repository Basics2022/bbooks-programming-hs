{
 "cells": [
  {
   "cell_type": "markdown",
   "id": "2074a8f3-b367-4af4-8e88-1284d73d1a14",
   "metadata": {},
   "source": [
    "(statistics-hs:random-variables:discrete:examples)=\n",
    "# Esempi di funzioni di probabilità discreta\n"
   ]
  },
  {
   "cell_type": "markdown",
   "id": "66b4f432-686c-4b31-92d7-f7483e501bb8",
   "metadata": {},
   "source": [
    "(statistics-hs:random-variables:discrete:examples:bernoulli)=\n",
    "## Bernoulli"
   ]
  },
  {
   "cell_type": "markdown",
   "id": "06b81aa5-a660-4ad6-a34e-f02e9fac4678",
   "metadata": {},
   "source": [
    "(statistics-hs:random-variables:discrete:examples:binomial)=\n",
    "## Binomiale"
   ]
  },
  {
   "cell_type": "markdown",
   "id": "e9f27be4-b273-4106-9719-2ca70f38d1c0",
   "metadata": {},
   "source": [
    "(statistics-hs:random-variables:discrete:examples:poisson)=\n",
    "## Poisson"
   ]
  },
  {
   "cell_type": "code",
   "execution_count": null,
   "id": "cc38080a-f808-4c4b-83d1-bb1e10d9bcfd",
   "metadata": {},
   "outputs": [],
   "source": []
  }
 ],
 "metadata": {
  "kernelspec": {
   "display_name": "Python 3 (ipykernel)",
   "language": "python",
   "name": "python3"
  },
  "language_info": {
   "codemirror_mode": {
    "name": "ipython",
    "version": 3
   },
   "file_extension": ".py",
   "mimetype": "text/x-python",
   "name": "python",
   "nbconvert_exporter": "python",
   "pygments_lexer": "ipython3",
   "version": "3.8.10"
  }
 },
 "nbformat": 4,
 "nbformat_minor": 5
}
