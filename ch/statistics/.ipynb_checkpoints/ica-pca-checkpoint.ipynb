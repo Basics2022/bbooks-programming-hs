{
 "cells": [
  {
   "cell_type": "markdown",
   "id": "043b56af-2c94-473c-bc1e-900e85910327",
   "metadata": {},
   "source": [
    "# ICA e PCA\n",
    "\n"
   ]
  },
  {
   "cell_type": "markdown",
   "id": "20cac58f-71e5-47e5-991e-7419cf8030b5",
   "metadata": {},
   "source": [
    "## Riferimenti\n",
    "\n",
    "**scikit**\n",
    "- [https://scikit-learn.org/dev/modules/generated/sklearn.decomposition.FastICA.html](https://scikit-learn.org/dev/modules/generated/sklearn.decomposition.FastICA.html) e link collegati con gli esempi di confronto, qui riproposti\n",
    "\n",
    "**Carten Klein**\n",
    "- [https://github.com/akcarsten/](https://github.com/akcarsten/)\n",
    "- [https://github.com/akcarsten/Independent_Component_Analysis](https://github.com/akcarsten/Independent_Component_Analysis)"
   ]
  }
 ],
 "metadata": {
  "kernelspec": {
   "display_name": "Python 3 (ipykernel)",
   "language": "python",
   "name": "python3"
  },
  "language_info": {
   "codemirror_mode": {
    "name": "ipython",
    "version": 3
   },
   "file_extension": ".py",
   "mimetype": "text/x-python",
   "name": "python",
   "nbconvert_exporter": "python",
   "pygments_lexer": "ipython3",
   "version": "3.8.10"
  }
 },
 "nbformat": 4,
 "nbformat_minor": 5
}
