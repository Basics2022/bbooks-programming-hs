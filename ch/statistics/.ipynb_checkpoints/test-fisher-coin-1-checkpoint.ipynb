{
 "cells": [
  {
   "cell_type": "markdown",
   "id": "b390c05a-a1bf-44df-99e0-fe051aa9be63",
   "metadata": {
    "editable": true,
    "slideshow": {
     "slide_type": ""
    },
    "tags": []
   },
   "source": [
    "# Test di verifica d'ipotesi - Fisher\n",
    "\n",
    "Il test di verifica di un'ipotesi di Fisher si ispira al principio di falsificabilità di Popper, e può essere riassunto nei seguenti passaggi:\n",
    "1. formulazione di un'ipotesi falsificabile, definita **ipotesi nulla** $\\text{H}_0$, da verificare e che viene ritenuta vera fino a prova contraria\n",
    "2. scelta di una variabile esplicativa, o **statistica test**, $x$, un parametro disponibile, rilevante per il fenomeno indagato e di cui è nota - o approssimabile, sotto ipotesi ragionevoli sul fenomeno - la distribuzione di probabilità,\n",
    "   $$p(x|\\text{H}_0)$$\n",
    "3. scelta del **test statistico** (es. una coda o due code,...), in base anche alle caratteristiche del fenomeno indagato\n",
    "4. scelta del **livello di significatività**, $\\alpha$, del test; il valore del livello di significatività traduce \"il livello di evidenza richiesto\" per falsificare l'ipotesi e - insieme alle caratteristiche del fenomeno e del test - determina le *regioni di rifiuto e di accettazione dell'ipotesi*, gli intervalli di valori della statistica test $x$ che determinano se l'ipotesi è stata falsificata o meno;\n",
    "5. raccolta dati e **calcolo statistica test sul campione**\n",
    "6. **confronto** del valore calcolato della statistica test con gli intervalli di rifiuto e accettazione della variabile soggetta all'ipotesi nulla, e **verdetto sull'ipotesi**\n",
    "\n"
   ]
  },
  {
   "cell_type": "markdown",
   "id": "bc6bd8a3-8e49-40a1-b754-6f1f191b073b",
   "metadata": {
    "editable": true,
    "slideshow": {
     "slide_type": ""
    },
    "tags": []
   },
   "source": [
    "## Esempio: moneta truccata o no?\n",
    "Il lancio di una moneta viene modellato come una variabile casuale $X$ di Bernoulli, con due possibili uscite testa, $X=0$, o croce, $X=1$. La forma generale della distribuzione di probabilità di una variabile casuale di Bernoulli $B(p)$ è\n",
    "\n",
    "$$p(X) = \\begin{cases} p & , \\quad X = H:\\text{Head} \\\\ 1-p & , \\quad X = T:\\text{Tail} \\end{cases} \\ ,$$\n",
    "\n",
    "essendo $p \\in [0,1]$ la probabilità associata al valore $X=H$ e $1-p$ quella associata al valore $X=T$.\n",
    "\n",
    "Per la verifica dell'ipotesi si organizza una campagna sperimentale di $n$ lanci e si sceglie come **statistica test** $x$ il numero di volte che il risultato del lancio è testa, $X=H$.\n",
    "Per una variabile casuale con distribuzione di probabilità di Bernoulli $B(p)$, il numero $x$ di risultati $X=H$ in $n$ ripetizioni indipendenti dell'evento è a sua volta una variabile casuale, con distribuzione di probabilità binomiale $\\mathscr{B}(n,p)$\n",
    "\n",
    "$$p_n(x) = \\left( \\begin{matrix} n \\\\ x \\end{matrix}  \\right) \\, p^x \\, (1-p)^{n-x}$$"
   ]
  },
  {
   "cell_type": "code",
   "execution_count": 180,
   "id": "e6d2ede9-d689-4f1f-b493-72261f8bf74e",
   "metadata": {},
   "outputs": [],
   "source": [
    "# import libraries\n",
    "import numpy as np\n",
    "import scipy as sp\n",
    "\n",
    "import matplotlib.pyplot as plt\n"
   ]
  },
  {
   "cell_type": "code",
   "execution_count": 190,
   "id": "cd3d393b-e80e-4634-81f6-0856f97cf6bd",
   "metadata": {},
   "outputs": [],
   "source": [
    "#> Random process of interest, unknown execpt for the sample.\n",
    "p_head = .5\n",
    "p_tail = 1. - p_head\n",
    "\n",
    "# Coin flip as a Bernoulli probability with outcomes: a = [0, 1] with prob p = [p_head, p_tail]\n",
    "flip_rng = np.random.default_rng(42).choice\n",
    "n_flips = 20\n",
    "flip_params = { 'a': [0,1], 'p': [p_head, p_tail], 'size': n_flips }\n",
    "\n",
    "#> Running coin flip experiment\n",
    "ov = flip_rng(**flip_params)\n"
   ]
  },
  {
   "cell_type": "code",
   "execution_count": 198,
   "id": "08c0be2b-4112-4261-8bcf-9f855a24ea8d",
   "metadata": {},
   "outputs": [],
   "source": [
    "# ! Approach for low-dimensional problems, with no memory or performance issues\n",
    "\n",
    "#> Null hypotesis, H0: the coin is fair\n",
    "# The outcome of a single flip is a r.v. distributed like a Bernoulli variable with p_head = .5\n",
    "# Every flip is statistically independent from the other\n",
    "ixv = np.arange(n_flips+1)\n",
    "xv = ixv / n_flips\n",
    "\n",
    "#> Test statistics: average n.of heads in flip_n samples\n",
    "# H0 hypotesis implies that the outcome of flip_n is a r.v. with Binomial pdf\n",
    "x_H0_fv = sp.stats.binom.pmf(ixv, n_flips, p_head)\n",
    "\n",
    "#> Test characteristics: symmetric\n",
    "test_type = 'value'  # 'symmetric', 'right', 'left', 'value'\n",
    "\n",
    "#> Significance level, alpha = .05 (\"default\")\n",
    "alpha = .05\n"
   ]
  },
  {
   "cell_type": "code",
   "execution_count": 199,
   "id": "d914da77-65d5-4d89-8ff3-3e72c8d21117",
   "metadata": {},
   "outputs": [],
   "source": [
    "#> Acceptance and rejection regions, for discrete pdf\n",
    "# Starting from the value of the test statistics x_max = max(x_H0_fv), expand \n",
    "\n",
    "def find_acceptance_region(p, alpha, test_type='value'):\n",
    "    \"\"\" Find acceptance region for a discrete pdf, supposed to be unimodal \"\"\"\n",
    "    ix_max = np.argmax(p)\n",
    "    nx = len(p)\n",
    "    threshold = 1. - alpha\n",
    "\n",
    "    # Initialization\n",
    "    p_acc, ixl, ixr = p[ix_max], ix_max, ix_max\n",
    "    \n",
    "    # if ( test_type == 'value' ):\n",
    "    while ( p_acc < threshold ):\n",
    "        if ( p[ixl-1] >= p[ixr+1] ):\n",
    "            ixl -= 1;  p_acc += p[ixl]\n",
    "        else:\n",
    "            ixr += 1;  p_acc += p[ixr]\n",
    "\n",
    "    # else:\n",
    "    return ixl, ixr\n"
   ]
  },
  {
   "cell_type": "code",
   "execution_count": 200,
   "id": "6de99c43-d497-4bf5-8b04-9a620e3c1b31",
   "metadata": {},
   "outputs": [],
   "source": [
    "#> Compute acceptance region\n",
    "ixl, ixr = find_acceptance_region(x_H0_fv, alpha,)\n",
    "\n",
    "#> Evaluate test statistics on the samples\n",
    "ix_s = np.sum(ov)\n",
    "x_s = np.sum(ov) / n_flips\n"
   ]
  },
  {
   "cell_type": "code",
   "execution_count": 206,
   "id": "1e5d8ed3-63df-447e-b14b-7ad521ff0983",
   "metadata": {},
   "outputs": [
    {
     "name": "stdout",
     "output_type": "stream",
     "text": [
      "H0 rejected\n",
      "[0.   0.05 0.1  0.15 0.2  0.25 0.3  0.35 0.4  0.45 0.5  0.55 0.6  0.65\n",
      " 0.7  0.75 0.8  0.85 0.9  0.95 1.  ]\n"
     ]
    },
    {
     "data": {
      "image/png": "[encoded data removed]",
      "text/plain": [
       "<Figure size 640x480 with 1 Axes>"
      ]
     },
     "metadata": {},
     "output_type": "display_data"
    }
   ],
   "source": [
    "# Compare test statistics on the samples with the acceptance region\n",
    "if ( xl <= x_s <= xr ):\n",
    "    print(\"H0 accepted\")\n",
    "else:\n",
    "    print(\"H0 rejected\")\n",
    "\n",
    "    \n",
    "ix_acc = np.arange(ixl, ixr+1)\n",
    "x_acc = xv[ix_acc]\n",
    "\n",
    "dx_bar = (xv[1] - xv[0])*.90\n",
    "plt.figure()\n",
    "plt.bar(   xv, x_H0_fv        , width=dx_bar)\n",
    "plt.bar(x_acc, x_H0_fv[ix_acc], width=dx_bar)\n",
    "plt.bar(  x_s, x_H0_fv[ix_s]  , width=dx_bar)\n",
    "\n",
    "print(xv)"
   ]
  }
 ],
 "metadata": {
  "kernelspec": {
   "display_name": "Python 3 (ipykernel)",
   "language": "python",
   "name": "python3"
  },
  "language_info": {
   "codemirror_mode": {
    "name": "ipython",
    "version": 3
   },
   "file_extension": ".py",
   "mimetype": "text/x-python",
   "name": "python",
   "nbconvert_exporter": "python",
   "pygments_lexer": "ipython3",
   "version": "3.8.10"
  }
 },
 "nbformat": 4,
 "nbformat_minor": 5
}
