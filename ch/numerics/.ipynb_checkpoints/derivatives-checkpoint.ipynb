{
 "cells": [
  {
   "cell_type": "markdown",
   "id": "bf6e6b81-d922-49ad-bb63-54e43fe31850",
   "metadata": {},
   "source": [
    "# Derivate di funzioni\n"
   ]
  },
  {
   "cell_type": "markdown",
   "id": "6c297065-49dd-444e-8696-a55b6f9f185d",
   "metadata": {},
   "source": [
    "\n",
    "## Differenze finite\n",
    "Il calcolo della derivata di una funzione $f(x)$ derivabile in un punto $x_0$ può essere svolto utilizzando l'espansione locale in serie di Taylor di una funzione.\n",
    "\n",
    "### Derivata prima\n",
    "Usando le espansioni\n",
    "\n",
    "$$f(x + \\Delta x) = f(x) + f'(x) \\Delta x + f''(x) \\frac{\\Delta x^2}{2} + f'''(x) \\frac{\\Delta x^3}{3!} + o(x^3)$$\n",
    "$$f(x - \\Delta x) = f(x) - f'(x) \\Delta x + f''(x) \\frac{\\Delta x^2}{2} - f'''(x) \\frac{\\Delta x^3}{3!} + o(x^3)$$\n",
    "\n",
    "si possono ricavare gli schemi del primo ordine\n",
    "\n",
    "$$f'(x) = \\frac{f(x+\\Delta x) - f(x)}{\\Delta x} + o(\\Delta x)$$\n",
    "$$f'(x) = \\frac{f(x+\\Delta x) - f(x)}{\\Delta x} + o(\\Delta x)$$\n",
    "\n",
    "e lo schema del secondo ordine usando le differenze centrate\n",
    "\n",
    "$$f'(x) = \\dfrac{f(x+\\Delta x) - f(x-\\Delta x)}{2 \\Delta x} + o(\\Delta x^2) $$\n",
    "\n",
    "### Derivata seconda\n",
    "Usando le stesse espansioni in serie, si può ottenere uno schema del secondo ordine per la derivata seconda\n",
    "\n",
    "$$f''(x) = \\frac{f(x+\\Delta x) - 2 f(x) + f(x-\\Delta x)}{\\Delta x^2} + o(\\Delta x^2)$$"
   ]
  },
  {
   "cell_type": "markdown",
   "id": "208c7315-b1dc-4a28-b199-7804f0d9bd50",
   "metadata": {},
   "source": []
  }
 ],
 "metadata": {
  "kernelspec": {
   "display_name": "Python 3 (ipykernel)",
   "language": "python",
   "name": "python3"
  },
  "language_info": {
   "codemirror_mode": {
    "name": "ipython",
    "version": 3
   },
   "file_extension": ".py",
   "mimetype": "text/x-python",
   "name": "python",
   "nbconvert_exporter": "python",
   "pygments_lexer": "ipython3",
   "version": "3.8.10"
  }
 },
 "nbformat": 4,
 "nbformat_minor": 5
}
