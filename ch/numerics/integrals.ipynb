{
 "cells": [
  {
   "cell_type": "markdown",
   "id": "4a25e122-5645-45e3-b0b8-2a2d2213f781",
   "metadata": {},
   "source": [
    "# Integrali"
   ]
  },
  {
   "cell_type": "code",
   "execution_count": 4,
   "id": "008f12f1-16a8-4bed-9586-de8272eb183d",
   "metadata": {},
   "outputs": [],
   "source": [
    "\"\"\" Import libraries \"\"\"\n",
    "\n",
    "import numpy as np"
   ]
  },
  {
   "cell_type": "markdown",
   "id": "0106fc1e-feed-4dc4-a586-f11a53f1901a",
   "metadata": {},
   "source": [
    "## Integrazione di Newton-Cotes\n",
    "\n",
    "Valutazioni di integrali definiti di funzioni $f: [a,b] \\in \\mathbb{R} \\rightarrow \\mathbb{R}$, continue sull'intervallo. Si veda l'[esempio](integrals:examples:continuity) per intuire la necessità della continuità della funzione.\n",
    "\n",
    "- Formula del punto medio\n",
    "- Formula del trapezio\n"
   ]
  },
  {
   "cell_type": "markdown",
   "id": "2baf5dbc-029c-4e84-a839-3d149aaa9902",
   "metadata": {},
   "source": [
    "### Metodo di integrazione del punto medio\n",
    "\n",
    "Il metodo di integrazione del punto medio ricorda la definizione dell'integrale di Riemann (**todo** aggiungere link). Data la funzione $f:[a,b] \\in \\mathbb{R} \\rightarrow \\mathbb{R}$, e una partizione $P = \\{ a = x_0 < x_1 < \\dots < x_n = b \\}$ dell'intervallo $[a,b]$, l'integrale viene calcolato come la somma dell'area dei rettangoli elementari di lati $\\Delta x_k := x_k - x_{k-1}$ e $f(\\xi_k)$, con $\\xi_k \\in [x_{k-1}, x_k]$,\n",
    "\n",
    "$$\\int_{x=a}^{b} f(x) dx \\simeq \\sum_{k=1:n} f(\\xi_k) \\, \\Delta x_k \\ . $$"
   ]
  },
  {
   "cell_type": "code",
   "execution_count": 16,
   "id": "a62de09a-454b-493d-b2fd-a50c1f715112",
   "metadata": {},
   "outputs": [],
   "source": [
    "\"\"\" Mid-point method \"\"\"\n",
    "\n",
    "def integral_rect(f, a, b, n):\n",
    "    \"\"\"\n",
    "    Inputs:\n",
    "    - f: function\n",
    "    - a, b: extreme points of the range\n",
    "    - n: n. of intervals of the range\n",
    "    \"\"\"\n",
    "    # Partition of the range [a,b]\n",
    "    # uniform partition here; refined algorithms may use non-uniform partitions\n",
    "    xv = a + ( b - a ) * np.arange(n+1) / n;  xv[-1] = b\n",
    "    xc = .5 * ( xv[1:] + xv[:-1] )\n",
    "    dx = xv[1:] - xv[:-1]\n",
    "\n",
    "    return np.sum( dx * f(xc) )\n",
    "    "
   ]
  },
  {
   "cell_type": "markdown",
   "id": "d14cba26-d68d-44ca-9420-a3f5c305b223",
   "metadata": {},
   "source": [
    "### Metodo di integrazione del trapezio\n",
    "Data la funzione $f:[a,b] \\in \\mathbb{R} \\rightarrow \\mathbb{R}$, e una partizione $P = \\{ a = x_0 < x_1 < \\dots < x_n = b \\}$ dell'intervallo $[a,b]$, l'integrale viene calcolato come la somma dell'area dei trapezi rettangoli elementari con basi $f(x_{k-1})$, $f(x_k)$ e altezza $\\Delta x_k := x_k - x_{k-1}$,\n",
    "\n",
    "$$\\int_{x=a}^{b} f(x) dx \\simeq \\sum_{k=1:n} \\frac{1}{2} \\left( f(x_{k-1}) + f(x_k) \\right) \\, \\Delta x_k \\ . $$\n"
   ]
  },
  {
   "cell_type": "code",
   "execution_count": 18,
   "id": "5e34fd49-e3df-4c54-816a-c76be56b5000",
   "metadata": {},
   "outputs": [],
   "source": [
    "\"\"\" Trapezoid method \"\"\"\n",
    "\n",
    "def integral_trapz(f, a, b, n):\n",
    "    \"\"\"\n",
    "    Inputs:\n",
    "    - f: function\n",
    "    - a, b: extreme points of the range\n",
    "    - n: n. of intervals of the range\n",
    "    \"\"\"\n",
    "    # Partition of the range [a,b]\n",
    "    # uniform partition here; refined algorithms may use non-uniform partitions\n",
    "    xv = a + ( b - a ) * np.arange(n+1) / n;  xv[-1] = b\n",
    "    dx = xv[1:] - xv[:-1]\n",
    "\n",
    "    return np.sum( .5 * dx * ( f(xv[1:]) + f(xv[:-1]) ) )\n",
    "    "
   ]
  },
  {
   "cell_type": "markdown",
   "id": "b9c10bf2-38c2-4be9-bae6-3bb098eb0594",
   "metadata": {},
   "source": [
    "### Esempi\n"
   ]
  },
  {
   "cell_type": "markdown",
   "id": "a8b66054-b764-48d3-afce-1aa4cd53c109",
   "metadata": {},
   "source": [
    "#### Esempio 1.\n",
    "\n",
    "Si valuta l'integrale\n",
    "\n",
    "$$\\int_{x = 0}^{1} x^2 \\, dx = \\frac{1}{3} \\ ,$$\n",
    "\n",
    "con i metodi del punto medio e del trapezio. La funzione $f(x) = x^2$ è continua ovunque e quindi è continua nell'intervallo $[0,1]$.\n"
   ]
  },
  {
   "cell_type": "code",
   "execution_count": 23,
   "id": "b21cb32d-3e56-4caf-9e30-cc8da93a50ef",
   "metadata": {},
   "outputs": [
    {
     "name": "stdout",
     "output_type": "stream",
     "text": [
      "Value of the integral, x \\in [0.0, 1.0] with 10 intervals\n",
      "- mid-point method: 0.3325\n",
      "- trapezoid method: 0.33499999999999996\n"
     ]
    }
   ],
   "source": [
    "f = lambda x: x**2\n",
    "\n",
    "a, b = 0., 1.\n",
    "n = 10\n",
    "\n",
    "# Evaluate integral with the rect and trapz methods\n",
    "val_rect  = integral_rect(f, a, b, n)\n",
    "val_trapz = integral_trapz(f, a, b, n)\n",
    "\n",
    "print(f\"Value of the integral, x \\in [{a}, {b}] with {n} intervals\")\n",
    "print(f\"- mid-point method: {val_rect}\")\n",
    "print(f\"- trapezoid method: {val_trapz}\")\n"
   ]
  },
  {
   "cell_type": "markdown",
   "id": "ced21686-bafd-4f2b-85fa-c4f0ab2c5f83",
   "metadata": {},
   "source": [
    "(integrals:examples:continuity)=\n",
    "#### Esempio 2. Necessità della continuità della funzione.\n",
    "\n",
    "<!--\n",
    "Si vogliono calcolare gli integrali delle funzioni discontinue $f_n(x) = \\frac{1}{x^n}$, con $n \\in \\{2, 3\\}$ sull'intervallo $[-1, 1]$. In questo intervallo le funzioni $f_n(x)$ non sono continue, e non sono nemmeno definite in $x = 0$: si verifica infatti che $\\lim_{x \\rightarrow 0^+} f_n(x) = +\\infty$, e $\\lim_{x \\rightarrow 0^-} f_n(x) = (-1)^n \\, \\infty$.\n",
    "\n",
    "Per calcolare l'integrale in maniera analitica\n",
    "-->\n"
   ]
  },
  {
   "cell_type": "markdown",
   "id": "59384231-076a-4a1c-8ff9-9bbf0ff53fc5",
   "metadata": {},
   "source": [
    "## Integrazione di Gauss\n",
    "\n",
    "L'integrazione di Gauss permette di calcolare in **maniera esatta** l'integrale di una **funzione polinomiale** $p_n(x)$ su un intervallo $[a,b]$, come somma pesata della funzione valuatata in alcuni punti dell'intervallo,\n",
    "\n",
    "$$\\int_a^b p^{(n)}(x) dx = \\sum_{g} w_g f(x_g) \\ ,$$\n",
    "\n",
    "per un numero di nodi di Gauss, $n_{Gauss}$ che soddisfa la relazione\n",
    "\n",
    "$$n < 2 n_{Gauss} - 1 \\ .$$\n",
    "\n",
    "Per motivi di generalizzazione dell'algoritmo, nella definizione dei **pesi** $w_i$ e dei **nodi di Gauss** $x_i$, l'integrale viene riportato all'integrale su un intervallo di riferimento, tramite una trasformazione di coordinate.\n",
    "Per domini 1D, l'intervallo di riferimento per la quadratura di Gauss è l'intervallo $\\xi = [-1, 1]$ e il cambio di variabili è\n",
    "\n",
    "$$x = \\frac{a+b}{2} + \\frac{b-a}{2} \\, \\xi \\ ,$$\n",
    "\n",
    "così che l'integrale originale può essere scritto come\n",
    "\n",
    "$$\\begin{aligned}\n",
    "\\int_{x=a}^b p^{(n)}(x) dx & = \\int_{\\xi = -1}^{1} p^(n) (x(\\xi)) \\dfrac{d x}{d\\xi} d \\xi = \\\\\n",
    " & = \\dfrac{b-a}{2} \\int_{\\xi=-1}^{1} p^{(n)}(x(\\xi)) d \\xi = \\dfrac{b-a}{2} \\sum_{g} w_g \\, p^{(n)}\\left(x(\\xi_g)\\right)\n",
    "\\end{aligned}$$"
   ]
  },
  {
   "cell_type": "code",
   "execution_count": 39,
   "id": "36c8330c-06b6-4f97-8213-9b4a67994905",
   "metadata": {},
   "outputs": [
    {
     "name": "stdout",
     "output_type": "stream",
     "text": [
      "0.33333333333333337\n",
      "0.33333333333333337\n"
     ]
    }
   ],
   "source": [
    "\"\"\" Gauss integration \"\"\"\n",
    "\n",
    "# Dict of Gauss weights and nodes on the reference interval [-1,1] for 1D integration\n",
    "gauss_nw = { 1: {'nodes'  : [ 0. ],\n",
    "                 'weights': [ 2. ]}, \n",
    "             2: {'nodes'  : [ -1./np.sqrt(3.), 1./np.sqrt(3.) ], \n",
    "                 'weights': [ 1., 1.]},\n",
    "             3: {'nodes'  : [ 0., -np.sqrt(3./5.), np.sqrt(3./5.) ], \n",
    "                 'weights': [ 8./9., 5./9., 5./9. ]},\n",
    "}\n",
    "\n",
    "def gauss_int_1(f, n, a=-1, b=1, gauss_nw=gauss_nw):\n",
    "    \"\"\" \n",
    "    Integral of the function f(x) \n",
    "    over a physical domain, x \\in [a, b], \n",
    "    using n number of Gauss nodes\n",
    "    \"\"\"\n",
    "    # Cap n.nodes to the max n.nodes stored in gauss_nw dict\n",
    "    n = np.min([n, np.max(list(gauss_nw.keys()))])\n",
    "\n",
    "    # Gauss nodes (from reference to actual domain) and weights\n",
    "    xg = .5 * ( a + b + ( b - a ) * np.array(gauss_nw[n]['nodes']) )\n",
    "    wg = np.array(gauss_nw[n]['weights'])\n",
    "    \n",
    "    return .5 * (b-a) * np.sum( wg * f(xg) ) \n",
    "\n",
    "\n",
    "def gauss_int_n(f, n_gauss, a, b, n_elems):\n",
    "    \"\"\" \n",
    "    Integral of the function f(x) \n",
    "    over a physical domain, x \\in [a, b], (uniformly) splitted in n_elems\n",
    "    using n number of Gauss nodes per each elem\n",
    "    \"\"\"\n",
    "    # Partition of the interval [a,b]\n",
    "    xv = a + ( b - a ) * np.arange(n_elems+1) / n_elems;  xv[-1] = b\n",
    "\n",
    "    return np.sum([ gauss_int_1(f, n_gauss, xv[i], xv[i+1]) for i in np.arange(n_elems) ])\n"
   ]
  },
  {
   "cell_type": "markdown",
   "id": "93d7bfd0-be6f-4e70-9938-02277b6ddae2",
   "metadata": {},
   "source": [
    "#### Esempio 1 - integrazione di Gauss.\n",
    "\n",
    "Si valuta l'integrale\n",
    "\n",
    "$$\\int_{x = 0}^{1} x^2 \\, dx = \\frac{1}{3} \\ ,$$\n",
    "\n",
    "con il metodo di integrazione di Gauss. \n",
    "Si chiede di:\n",
    "- osservare che l'integrazione è esatta, a meno degli arrotondamenti dovuti all'aritmetica finita, \n",
    "poiché la funzione integranda è di grado 2, e il numero di nodi di Gauss è $n_{Gauss} = 3$; questo è vero indipendentemente dal numero di sotto-intervalli;\n",
    "- cambiare le funzioni e il numero di nodi usati nelle funzioni per l'integrazione di Gauss per verificare che l'integrazione è esatta per funzioni polinomiali di grado $2 n_{Gauss} - 1$."
   ]
  },
  {
   "cell_type": "code",
   "execution_count": 40,
   "id": "917d1ee3-4660-4651-9784-ae16318f86cc",
   "metadata": {},
   "outputs": [
    {
     "name": "stdout",
     "output_type": "stream",
     "text": [
      "Value of the integral, x \\in [0.0, 1.0] using Gauss integration methods with 3 nodes per elem\n",
      "- using one elem: 0.33333333333333337\n",
      "- using 10 elems: 0.33333333333333337\n"
     ]
    }
   ],
   "source": [
    "\"\"\" Evaluate integrals using Gauss integration \"\"\"\n",
    "\n",
    "f = lambda x: x**2\n",
    "a, b = 0., 1.\n",
    "\n",
    "# Gauss nodes, and n.of elements\n",
    "n_gauss = 3\n",
    "n_elems = 10\n",
    "\n",
    "val_1 = gauss_int_1(f, n_gauss, 0., 1.)\n",
    "val_n = gauss_int_n(f, n_gauss, 0., 1., n_elems)\n",
    "\n",
    "print(f\"Value of the integral, x \\in [{a}, {b}] using Gauss integration methods with {n_gauss} nodes per elem\")\n",
    "print(f\"- using one elem: {val_1}\")\n",
    "print(f\"- using {n_elems} elems: {val_n}\")\n"
   ]
  },
  {
   "cell_type": "code",
   "execution_count": null,
   "id": "62268c35-2283-4dd9-91cc-5d0318d3609c",
   "metadata": {},
   "outputs": [],
   "source": []
  }
 ],
 "metadata": {
  "kernelspec": {
   "display_name": "Python 3 (ipykernel)",
   "language": "python",
   "name": "python3"
  },
  "language_info": {
   "codemirror_mode": {
    "name": "ipython",
    "version": 3
   },
   "file_extension": ".py",
   "mimetype": "text/x-python",
   "name": "python",
   "nbconvert_exporter": "python",
   "pygments_lexer": "ipython3",
   "version": "3.8.10"
  }
 },
 "nbformat": 4,
 "nbformat_minor": 5
}
