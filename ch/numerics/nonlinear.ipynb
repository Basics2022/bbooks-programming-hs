{
 "cells": [
  {
   "cell_type": "markdown",
   "id": "b5d08b33-07a6-407a-8dd7-ce34a91977ec",
   "metadata": {},
   "source": [
    "# Problemi non lineari\n"
   ]
  },
  {
   "cell_type": "markdown",
   "id": "0417e616-e432-42f0-a3ad-1f16791fd81f",
   "metadata": {},
   "source": [
    "## Metodo di Newton\n",
    "\n",
    "Per trovare la soluzione del problema non lineare\n",
    "\n",
    "$$F(x) = 0 \\ ,$$\n",
    "\n",
    "il metodo di Newton sfrutta l'espansione in serie troncata al primo grado della funzione $F(x)$, per scrivere\n",
    "\n",
    "$$0 = F(x^n + \\Delta x) \\approx F(x^n) + F'(x^n) \\Delta x $$\n",
    "\n",
    "e ottenere l'incremento della soluzione $\\Delta x$ come soluzione del sistema lineare\n",
    "\n",
    "$$F'(x^n) \\Delta x = -F(x^n)$$\n",
    "\n",
    "e aggiornare la soluzione $x^{n+1} = x^{n} + \\Delta x$."
   ]
  },
  {
   "cell_type": "code",
   "execution_count": null,
   "id": "44b11866-81fb-4ecf-9f92-69b265d10bf5",
   "metadata": {},
   "outputs": [],
   "source": [
    "\"\"\"\n",
    "Example of Newton method\n",
    "\n",
    "Find the solution of the problem f(x) = 0\n",
    "with f(x) = e^x - x\n",
    "\n",
    "\"\"\"\n",
    "\n",
    "import numpy as np\n",
    "\n",
    "# Function f and its derivative\n",
    "f  = lambda x: np.exp(x) + x\n",
    "df = lambda x: np.exp(x) + 1\n",
    "\n",
    "# Parameters of the Newton method, for stopping criteria\n",
    "tol = 1e-6          # tolerance on the residual |f(x)| < tol\n",
    "max_niter = 10      # max n. of iterations      niter > max_niter\n",
    "\n",
    "# Initial guess, residual and number of iterations\n",
    "x = -1.\n",
    "res = f(x)\n",
    "niter = 0\n",
    "\n",
    "# Newton algorithm\n",
    "while ( np.abs(res) > tol and niter < max_niter ):\n",
    "    # Solve linear approximation step, and update solution\n",
    "    dx = - res / df(x)\n",
    "    x += dx\n",
    "\n",
    "    #> Evaluate new residual and n. of iter\n",
    "    res = f(x)\n",
    "    niter += 1\n",
    "\n",
    "print(\"Newton method summary\")\n",
    "if ( niter < max_niter ):\n",
    "    print(f\"solution, x = {x}\")\n",
    "    print(f\"tol  : {tol}\")\n",
    "    print(f\"niter: {niter}\")\n",
    "else:\n",
    "    print(f\"max n.iter reached without convergence\")\n",
    "    print(f\"tol: {tol}\")\n",
    "\n",
    "\n",
    "\n"
   ]
  }
 ],
 "metadata": {
  "kernelspec": {
   "display_name": "Python 3 (ipykernel)",
   "language": "python",
   "name": "python3"
  },
  "language_info": {
   "codemirror_mode": {
    "name": "ipython",
    "version": 3
   },
   "file_extension": ".py",
   "mimetype": "text/x-python",
   "name": "python",
   "nbconvert_exporter": "python",
   "pygments_lexer": "ipython3",
   "version": "3.8.10"
  }
 },
 "nbformat": 4,
 "nbformat_minor": 5
}
