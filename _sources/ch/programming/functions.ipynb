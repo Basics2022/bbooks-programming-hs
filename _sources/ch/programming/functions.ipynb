{
 "cells": [
  {
   "cell_type": "markdown",
   "id": "1c60983a-a52d-420d-948e-9d7dd25335a6",
   "metadata": {},
   "source": [
    "# Funzioni"
   ]
  },
  {
   "cell_type": "code",
   "execution_count": 8,
   "id": "eb1e704d-6be4-459f-8987-5317d58ea914",
   "metadata": {},
   "outputs": [
    {
     "name": "stdout",
     "output_type": "stream",
     "text": [
      "-1 is not positive\n",
      "2.0 is positive\n",
      "0.003 is positive\n",
      "0.3333333333333333 is positive\n",
      "-2.2 is not positive\n",
      "0 is not positive\n",
      "-7.4 is not positive\n"
     ]
    }
   ],
   "source": [
    "#> Define a function to tell if a number is positive or not\n",
    "def is_positive(x):\n",
    "    \"\"\" Function returning True if x>0, False if x<=0 \"\"\"\n",
    "    return x > 0\n",
    "\n",
    "#> User input to test the function: tuple of numbers\n",
    "n_tuple = [ -1, 2., .003, 1./3., -2.2, 0, -7.4 ]\n",
    "\n",
    "#> Test function on all the elements in the user-defined tuple\n",
    "for n in n_tuple:\n",
    "    if ( is_positive(n) ): \n",
    "        string = ''\n",
    "    else:\n",
    "        string = 'not '\n",
    "        \n",
    "    print(f'{n} is '+string+'positive')"
   ]
  },
  {
   "cell_type": "markdown",
   "id": "f5f81cbb-47cd-4eaf-b6d0-de848229f45f",
   "metadata": {},
   "source": [
    "## Default value of function arguments"
   ]
  },
  {
   "cell_type": "code",
   "execution_count": 12,
   "id": "0850718d-4bdd-466a-bf28-aa354a828d60",
   "metadata": {},
   "outputs": [
    {
     "name": "stdout",
     "output_type": "stream",
     "text": [
      "Is -2 greater than -3? is_greater_than(-2, -3):True\n",
      "Is -2 greater than  0 ? is_greater_than(-2,    ):False\n"
     ]
    }
   ],
   "source": [
    "#> Define a user function to tell is the first argument is greater than the second.\n",
    "# If no second argument is given, it's set = 0 (default value, defined in the function)\n",
    "def is_greater_than(x, y=0):\n",
    "    \"\"\"  \"\"\"\n",
    "    return is_positive(x-y)\n",
    "\n",
    "a, b = -2, -3\n",
    "print(f\"Is {a} greater than {b}? is_greater_than({a}, {b}):\"+str(is_greater_than(a, b)))\n",
    "print(f\"Is {a} greater than  0 ? is_greater_than({a},    ):\"+str(is_greater_than(a)))\n",
    "\n",
    "    "
   ]
  },
  {
   "cell_type": "code",
   "execution_count": null,
   "id": "913b399b-0680-49f7-9fc3-8ecc722874ea",
   "metadata": {},
   "outputs": [],
   "source": []
  }
 ],
 "metadata": {
  "kernelspec": {
   "display_name": "Python 3 (ipykernel)",
   "language": "python",
   "name": "python3"
  },
  "language_info": {
   "codemirror_mode": {
    "name": "ipython",
    "version": 3
   },
   "file_extension": ".py",
   "mimetype": "text/x-python",
   "name": "python",
   "nbconvert_exporter": "python",
   "pygments_lexer": "ipython3",
   "version": "3.8.10"
  }
 },
 "nbformat": 4,
 "nbformat_minor": 5
}
