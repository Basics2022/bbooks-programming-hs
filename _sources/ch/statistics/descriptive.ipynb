{
 "cells": [
  {
   "cell_type": "markdown",
   "id": "4bd8c14b-e764-4a98-a93b-d96b11033a88",
   "metadata": {},
   "source": [
    "(statistics-hs:descriptive)=\n",
    "# Statistica descrittiva"
   ]
  },
  {
   "cell_type": "markdown",
   "id": "84abefc1-72ec-46ec-aef3-4644b2c3cc22",
   "metadata": {},
   "source": [
    "La statistica descrittiva si occupa di descrivere e riassumere le informazioni contenute nei dati disponibili, con lo scopo di:\n",
    "- comunicare il maggior numero di informazioni rilevanti\n",
    "- nella maniera più semplice e sintetica possibile\n",
    "\n",
    "Questo, in accordo con la *percezione umana* **todo**, avviene tramite indicazioni di:\n",
    "- **posizione**, come la media, la mediana, la moda, o loro variazioni sul tema\n",
    "- **dispersione**, come la deviazione standard, la varianza, lo scarto interquartile,...\n",
    "- **forma**, come skewness o curtosi, o momenti di ordine superiore\n",
    "- **correlazione** o **dipendenza** **todo** *correlazione $\\ne$ dipendenza, fare un riferimento; è necessario dedurre una dipendenza? E' tra i compiti della statistica descrittiva?*\n",
    "\n",
    "Oggi sono disponibili librerie e strumenti informatici gratuiti e liberi per l'analisi e la rappresentazione dei dati. Ad esempio, native o compatibili con Python,\n",
    "- $\\texttt{pandas}$, e $\\texttt{geopandas}$ per dati geografici\n",
    "- [$\\texttt{plolty}$](https://plotly.com/graphing-libraries/) come libreria grafica (con $\\texttt{dash}$ come ambiente per lo sviluppo di semplici app interattive)\n",
    "- ...\n",
    "\n",
    "Per una galleria di esempi, si rimanda agli esempi e alle risorse messe a disposizione direttamente dagli sviluppatori, come ad esempio i [grafici elementari](https://plotly.com/python/basic-charts/), o i grafici frequentemente usati in [statistica](https://plotly.com/python/statistical-charts/), e un'[introduzione](https://plotly.com/python/fundamentasl/) con le impostazioni di base. Per un livello di dettaglio maggiore, è spesso possibile consultare i file sorgenti con l'implementazione degli strumenti resi disponibili su repository pubblici: nel caso di $\\texttt{plotly}$ è possibile consultare questi file nel [repository pubblico](https://github.com/plotly)."
   ]
  },
  {
   "cell_type": "markdown",
   "id": "3ba1911a-d049-4c0b-b91b-74f9387de549",
   "metadata": {},
   "source": [
    "## Dimensione dei dati\n",
    "- variabili 1-dimensionali\n",
    "- variabili 2-dimensionali o di dimenione piccola\n",
    "- variabili di grandi dimensioni: possono essere necessarie tecniche di riduzione dei dati per far emergere le proprietà significative contenute nei dati raccolti"
   ]
  },
  {
   "cell_type": "markdown",
   "id": "ce1f85fa-1ee2-4be0-a38b-b74b6f9c3a2f",
   "metadata": {},
   "source": [
    "## Rappresentazione grafica\n",
    "**EDA: exploratory data analysis.** Può essere utilizzata in applicazioni di statistica descrittiva o nelle prime fasi di applicazioni di statistica inferenziale, \"per vedere che faccia hanno i dati raccolti\" e per fare una prima selezione dei metodi da applicare nelle fasi successive dell'indagine.\n",
    "\n",
    "Attualmente, sono disponibili i mezzi informatici e un gran numero di librerie per l'analisi dati, dall'elaborazione alla rappresentazione.\n"
   ]
  },
  {
   "cell_type": "markdown",
   "id": "c3b14b81-239d-4a68-bfc7-5d89768b4984",
   "metadata": {},
   "source": [
    "## Variabili 1-dimensionali"
   ]
  },
  {
   "cell_type": "markdown",
   "id": "3d92cfb7-9f91-48a7-acb9-ce096dca221f",
   "metadata": {},
   "source": [
    "## Variabili 2-dimensionali"
   ]
  },
  {
   "cell_type": "code",
   "execution_count": 18,
   "id": "5e171965-6a3d-4308-ab73-a1be29907ce7",
   "metadata": {},
   "outputs": [
    {
     "data": {
      "text/html": [
       "<iframe\n",
       "    scrolling=\"no\"\n",
       "    width=\"100%\"\n",
       "    height=\"545px\"\n",
       "    src=\"iframe_figures/figure_18.html\"\n",
       "    frameborder=\"0\"\n",
       "    allowfullscreen\n",
       "></iframe>\n"
      ]
     },
     "metadata": {},
     "output_type": "display_data"
    }
   ],
   "source": [
    "\n",
    "import plotly.io as pio\n",
    "pio.renderers.default = \"iframe_connected\"\n",
    "\n",
    "import plotly.graph_objects as go\n",
    "import numpy as np\n",
    "\n",
    "# Line chart\n",
    "x = np.linspace(0, 10, 100)\n",
    "y = np.sin(x)\n",
    "\n",
    "fig = go.Figure()\n",
    "fig.add_trace(go.Scatter(x=x, y=y, mode='lines', name='Sine Wave'))\n",
    "fig.update_layout(title=\"Interactive Line Chart\", xaxis_title=\"X-axis\", yaxis_title=\"Y-axis\")\n",
    "# fig.show()\n",
    "\n",
    "# Scatter plot with Plotly Express\n",
    "import plotly.express as px\n",
    "\n",
    "df = px.data.iris()  # Iris dataset\n",
    "fig2 = px.scatter(df, x=\"sepal_width\", y=\"sepal_length\", color=\"species\", title=\"Scatter Plot of Iris Dataset\")\n",
    "fig2.show()"
   ]
  },
  {
   "cell_type": "markdown",
   "id": "d601f3df-fd15-4d45-b395-d7b5c6eb3540",
   "metadata": {},
   "source": [
    "## Variabili di grandi dimensioni"
   ]
  }
 ],
 "metadata": {
  "kernelspec": {
   "display_name": "Python 3 (ipykernel)",
   "language": "python",
   "name": "python3"
  },
  "language_info": {
   "codemirror_mode": {
    "name": "ipython",
    "version": 3
   },
   "file_extension": ".py",
   "mimetype": "text/x-python",
   "name": "python",
   "nbconvert_exporter": "python",
   "pygments_lexer": "ipython3",
   "version": "3.8.10"
  }
 },
 "nbformat": 4,
 "nbformat_minor": 5
}
