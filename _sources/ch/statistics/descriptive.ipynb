{
 "cells": [
  {
   "cell_type": "markdown",
   "id": "4bd8c14b-e764-4a98-a93b-d96b11033a88",
   "metadata": {},
   "source": [
    "(statistics-hs:descriptive)=\n",
    "# Statistica descrittiva"
   ]
  },
  {
   "cell_type": "markdown",
   "id": "84abefc1-72ec-46ec-aef3-4644b2c3cc22",
   "metadata": {},
   "source": [
    "La statistica descrittiva si occupa di descrivere e riassumere le informazioni contenute nei dati disponibili, con lo scopo di:\n",
    "- comunicare il maggior numero di informazioni rilevanti\n",
    "- nella maniera più semplice e sintetica possibile\n",
    "\n",
    "Questo, in accordo con la *percezione umana* **todo**, avviene tramite indicazioni di:\n",
    "- **posizione**, come la media, la mediana, la moda, o loro variazioni sul tema\n",
    "- **dispersione**, come la deviazione standard, la varianza, lo scarto interquartile,...\n",
    "- **forma**, come skewness o curtosi, o momenti di ordine superiore\n",
    "- **correlazione** o **dipendenza** **todo** *correlazione $\\ne$ dipendenza, fare un riferimento; è necessario dedurre una dipendenza? E' tra i compiti della statistica descrittiva?*\n",
    "\n",
    "Oggi sono disponibili librerie e strumenti informatici gratuiti e liberi per l'analisi e la rappresentazione dei dati. Ad esempio, native o compatibili con Python,\n",
    "- $\\texttt{pandas}$, e $\\texttt{geopandas}$ per dati geografici\n",
    "- [$\\texttt{plolty}$](https://plotly.com/graphing-libraries/) come libreria grafica (con $\\texttt{dash}$ come ambiente per lo sviluppo di semplici app interattive)\n",
    "- ...\n",
    "\n",
    "Per una galleria di esempi, si rimanda agli esempi e alle risorse messe a disposizione direttamente dagli sviluppatori, come ad esempio i [grafici elementari](https://plotly.com/python/basic-charts/), o i grafici frequentemente usati in [statistica](https://plotly.com/python/statistical-charts/), e un'[introduzione](https://plotly.com/python/fundamentasl/) con le impostazioni di base. Per un livello di dettaglio maggiore, è spesso possibile consultare i file sorgenti con l'implementazione degli strumenti resi disponibili su repository pubblici: nel caso di $\\texttt{plotly}$ è possibile consultare questi file nel [repository pubblico](https://github.com/plotly)."
   ]
  },
  {
   "cell_type": "markdown",
   "id": "3ba1911a-d049-4c0b-b91b-74f9387de549",
   "metadata": {},
   "source": [
    "## Dimensione dei dati\n",
    "- variabili 1-dimensionali\n",
    "- variabili 2-dimensionali o di dimenione piccola\n",
    "- variabili di grandi dimensioni: possono essere necessarie tecniche di riduzione dei dati per far emergere le proprietà significative contenute nei dati raccolti"
   ]
  },
  {
   "cell_type": "markdown",
   "id": "ce1f85fa-1ee2-4be0-a38b-b74b6f9c3a2f",
   "metadata": {},
   "source": [
    "## Rappresentazione grafica\n",
    "**EDA: exploratory data analysis.** Può essere utilizzata in applicazioni di statistica descrittiva o nelle prime fasi di applicazioni di statistica inferenziale, \"per vedere che faccia hanno i dati raccolti\" e per fare una prima selezione dei metodi da applicare nelle fasi successive dell'indagine.\n",
    "\n",
    "Attualmente, sono disponibili i mezzi informatici e un gran numero di librerie per l'analisi dati, dall'elaborazione alla rappresentazione.\n"
   ]
  },
  {
   "cell_type": "markdown",
   "id": "c3b14b81-239d-4a68-bfc7-5d89768b4984",
   "metadata": {},
   "source": [
    "## Variabili 1-dimensionali"
   ]
  },
  {
   "cell_type": "code",
   "execution_count": 21,
   "id": "f37ceb18-a60f-42d0-a184-5a5cec8bad6c",
   "metadata": {},
   "outputs": [
    {
     "data": {
      "text/html": [
       "<div>\n",
       "<style scoped>\n",
       "    .dataframe tbody tr th:only-of-type {\n",
       "        vertical-align: middle;\n",
       "    }\n",
       "\n",
       "    .dataframe tbody tr th {\n",
       "        vertical-align: top;\n",
       "    }\n",
       "\n",
       "    .dataframe thead th {\n",
       "        text-align: right;\n",
       "    }\n",
       "</style>\n",
       "<table border=\"1\" class=\"dataframe\">\n",
       "  <thead>\n",
       "    <tr style=\"text-align: right;\">\n",
       "      <th></th>\n",
       "      <th>sepal_length</th>\n",
       "      <th>sepal_width</th>\n",
       "      <th>petal_length</th>\n",
       "      <th>petal_width</th>\n",
       "      <th>species</th>\n",
       "      <th>species_id</th>\n",
       "    </tr>\n",
       "  </thead>\n",
       "  <tbody>\n",
       "    <tr>\n",
       "      <th>0</th>\n",
       "      <td>5.1</td>\n",
       "      <td>3.5</td>\n",
       "      <td>1.4</td>\n",
       "      <td>0.2</td>\n",
       "      <td>setosa</td>\n",
       "      <td>1</td>\n",
       "    </tr>\n",
       "    <tr>\n",
       "      <th>1</th>\n",
       "      <td>4.9</td>\n",
       "      <td>3.0</td>\n",
       "      <td>1.4</td>\n",
       "      <td>0.2</td>\n",
       "      <td>setosa</td>\n",
       "      <td>1</td>\n",
       "    </tr>\n",
       "    <tr>\n",
       "      <th>2</th>\n",
       "      <td>4.7</td>\n",
       "      <td>3.2</td>\n",
       "      <td>1.3</td>\n",
       "      <td>0.2</td>\n",
       "      <td>setosa</td>\n",
       "      <td>1</td>\n",
       "    </tr>\n",
       "    <tr>\n",
       "      <th>3</th>\n",
       "      <td>4.6</td>\n",
       "      <td>3.1</td>\n",
       "      <td>1.5</td>\n",
       "      <td>0.2</td>\n",
       "      <td>setosa</td>\n",
       "      <td>1</td>\n",
       "    </tr>\n",
       "    <tr>\n",
       "      <th>4</th>\n",
       "      <td>5.0</td>\n",
       "      <td>3.6</td>\n",
       "      <td>1.4</td>\n",
       "      <td>0.2</td>\n",
       "      <td>setosa</td>\n",
       "      <td>1</td>\n",
       "    </tr>\n",
       "  </tbody>\n",
       "</table>\n",
       "</div>"
      ],
      "text/plain": [
       "   sepal_length  sepal_width  petal_length  petal_width species  species_id\n",
       "0           5.1          3.5           1.4          0.2  setosa           1\n",
       "1           4.9          3.0           1.4          0.2  setosa           1\n",
       "2           4.7          3.2           1.3          0.2  setosa           1\n",
       "3           4.6          3.1           1.5          0.2  setosa           1\n",
       "4           5.0          3.6           1.4          0.2  setosa           1"
      ]
     },
     "execution_count": 21,
     "metadata": {},
     "output_type": "execute_result"
    }
   ],
   "source": [
    "import plotly.express as px\n",
    "data = px.data.iris()\n",
    "data.head()"
   ]
  },
  {
   "cell_type": "code",
   "execution_count": 24,
   "id": "c5dece43-45cd-48af-8640-b032f35ee105",
   "metadata": {},
   "outputs": [
    {
     "data": {
      "text/html": [
       "<iframe\n",
       "    scrolling=\"no\"\n",
       "    width=\"100%\"\n",
       "    height=\"545px\"\n",
       "    src=\"iframe_figures/figure_24.html\"\n",
       "    frameborder=\"0\"\n",
       "    allowfullscreen\n",
       "></iframe>\n"
      ]
     },
     "metadata": {},
     "output_type": "display_data"
    }
   ],
   "source": [
    "import plotly.io as pio\n",
    "import plotly.express as px\n",
    "import plotly.offline as py\n",
    "\n",
    "df = px.data.iris()\n",
    "fig = px.scatter(df, x=\"sepal_width\", y=\"sepal_length\", color=\"species\", size=\"sepal_length\")\n",
    "fig.show()"
   ]
  },
  {
   "cell_type": "code",
   "execution_count": null,
   "id": "c9d91ec8-de83-4f72-a3b1-0ba3164c0463",
   "metadata": {},
   "outputs": [],
   "source": [
    "import plotly.express as px\n",
    "df = px.data.iris()\n",
    "fig = px.scatter(df, x='sepal_width', y='sepal_length', color=\"species\")\n",
    "\n",
    "# all three of these worked\n",
    "# fig.show(renderer='iframe')\n",
    "fig.show(renderer='iframe_connected')\n",
    "# fig.show(renderer='colab')"
   ]
  },
  {
   "cell_type": "markdown",
   "id": "3d92cfb7-9f91-48a7-acb9-ce096dca221f",
   "metadata": {},
   "source": [
    "## Variabili 2-dimensionali"
   ]
  },
  {
   "cell_type": "markdown",
   "id": "d601f3df-fd15-4d45-b395-d7b5c6eb3540",
   "metadata": {},
   "source": [
    "## Variabili di grandi dimensioni"
   ]
  }
 ],
 "metadata": {
  "kernelspec": {
   "display_name": "Python 3 (ipykernel)",
   "language": "python",
   "name": "python3"
  },
  "language_info": {
   "codemirror_mode": {
    "name": "ipython",
    "version": 3
   },
   "file_extension": ".py",
   "mimetype": "text/x-python",
   "name": "python",
   "nbconvert_exporter": "python",
   "pygments_lexer": "ipython3",
   "version": "3.8.10"
  }
 },
 "nbformat": 4,
 "nbformat_minor": 5
}
