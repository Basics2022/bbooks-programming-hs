{
 "cells": [
  {
   "cell_type": "markdown",
   "id": "78128b00-6760-4855-8e19-b85fdd2fe80f",
   "metadata": {},
   "source": [
    "# Test di indipendenza\n",
    "\n",
    "**Test più comuni**\n",
    "- $t$-test per campionoi indipendenti e Welch $t$-test\n",
    "- ANOVA\n",
    "- Tukey test\n",
    "- Kruskal-Wallis H-test\n",
    "- Mann-Whitney U-test"
   ]
  }
 ],
 "metadata": {
  "kernelspec": {
   "display_name": "Python 3 (ipykernel)",
   "language": "python",
   "name": "python3"
  },
  "language_info": {
   "codemirror_mode": {
    "name": "ipython",
    "version": 3
   },
   "file_extension": ".py",
   "mimetype": "text/x-python",
   "name": "python",
   "nbconvert_exporter": "python",
   "pygments_lexer": "ipython3",
   "version": "3.8.10"
  }
 },
 "nbformat": 4,
 "nbformat_minor": 5
}
