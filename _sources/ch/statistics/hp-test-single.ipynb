{
 "cells": [
  {
   "cell_type": "markdown",
   "id": "b5e5f5bc-169e-4ac4-92ea-c60291d6d77a",
   "metadata": {},
   "source": [
    "<!-- ()= -->\n",
    "# Test su campioni singoli o coppie di campioni\n",
    "\n",
    "**Test più comuni**\n",
    "- $t$-test\n",
    "- $\\chi^2$-test\n",
    "- $Z$-test\n",
    "- Wilcoxon\n",
    "- ...\n",
    "\n"
   ]
  },
  {
   "cell_type": "markdown",
   "id": "b43fc620-e9f8-4cf3-8b26-34f60586d437",
   "metadata": {},
   "source": [
    "# Student $t$-test\n",
    "I $t$-test sono dei test statistici di posizione in cui la statistica test segue una distribuzione $t$ di Student sotto l'ipotesi nulla $\\text{H}_0$,\n",
    "\n",
    "$$p(t|\\text{H}_0) \\sim t_{\\nu} \\ ,$$\n",
    "\n",
    "dove il numero di gradi di libertà $\\nu$ della distribuzione $t_{\\nu}$ dipende dal metodo considerato.\n",
    "\n",
    "**Ipotesi.** ...\n",
    "\n",
    "**Test a un campione.** E' un test di posizione/stima della media della popolazione della quale è noto un campione di $n$ osservazioni. \n",
    "- l'ipotesi nulla $\\text{H}_0$ dichiara che la popolazione ha media $\\mu_0$;\n",
    "- la statistica test $t$ è costruita con la media e la varianza campionaria $\\overline{x}$, $S^2$,\n",
    "\n",
    "  $$t = \\frac{\\overline{x} - \\mu_0}{\\frac{S}{\\sqrt{n}}} \\ ,$$\n",
    "\n",
    "- il numero di gradi di libertà è $n-1$ **todo**\n",
    "- **oss.** se ... $t$ segue una distribuzione $t_{n-1}$ di Student **todo** *inserire nelle ipotesi*, *riferimenti a definizione della distribuzione $t$ e al campionamento e i teoremi relativi*\n",
    "- una volta definito il livello di significatività del test, $\\alpha$, si controlla se la statistica test $t$ valutata con il campione a disposizione cade nella regione di rifiuto dell'ipotesi della distribuzione $t_{n-1}$ o meno, per determinare se si deve considerare $\\text{H}_0$ falsificata dal test o meno\n",
    "\n",
    "**Test a coppie di campioni.**\n",
    "- **Indipendenti**\n",
    "- **Dipendenti**"
   ]
  }
 ],
 "metadata": {
  "kernelspec": {
   "display_name": "Python 3 (ipykernel)",
   "language": "python",
   "name": "python3"
  },
  "language_info": {
   "codemirror_mode": {
    "name": "ipython",
    "version": 3
   },
   "file_extension": ".py",
   "mimetype": "text/x-python",
   "name": "python",
   "nbconvert_exporter": "python",
   "pygments_lexer": "ipython3",
   "version": "3.8.10"
  }
 },
 "nbformat": 4,
 "nbformat_minor": 5
}
