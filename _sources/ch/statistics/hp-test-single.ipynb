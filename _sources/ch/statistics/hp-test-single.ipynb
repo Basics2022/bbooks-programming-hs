{
 "cells": [
  {
   "cell_type": "markdown",
   "id": "b5e5f5bc-169e-4ac4-92ea-c60291d6d77a",
   "metadata": {},
   "source": [
    "(hp-test:single)=\n",
    "# Test su campioni singoli o coppie di campioni\n",
    "\n",
    "**Test più comuni**\n",
    "- $t$-test\n",
    "- $\\chi^2$-test\n",
    "- $Z$-test\n",
    "- Wilcoxon\n",
    "- ...\n",
    "\n"
   ]
  },
  {
   "cell_type": "markdown",
   "id": "b43fc620-e9f8-4cf3-8b26-34f60586d437",
   "metadata": {},
   "source": [
    "(hp-test:t-tests)=\n",
    "## Student $t$-test\n",
    "I $t$-test sono dei test statistici di posizione in cui la statistica test segue una distribuzione $t$ di Student sotto l'ipotesi nulla $\\text{H}_0$,\n",
    "\n",
    "$$p(t|\\text{H}_0) \\sim t_{\\nu} \\ ,$$\n",
    "\n",
    "dove il numero di gradi di libertà $\\nu$ della distribuzione $t_{\\nu}$ dipende dal metodo considerato.\n",
    "\n",
    "Questi test sono \"esatti\" se la popolazione ha distribuzione normale. **todo** *in caso contrario, la statistica test costruita non segue una distribuzione $t$-Student. Bisogna valutare l'attendibilità del test in questo caso; per distribuzioni \"sufficientemente simili a quella gaussiana\" potrebbero essere validi; il teorema del limite centrale aiuta l'ipotesi di gaussianità; in caso di distribuzioni generiche, meglio affidarsi ad altri test - non parametrici*"
   ]
  },
  {
   "cell_type": "markdown",
   "id": "80c4cdb2-baca-43c3-9b6f-39a029e4cf1c",
   "metadata": {},
   "source": [
    "(hp-test:single:t-tests:single)=\n",
    "### Test per un campione - valore medio\n"
   ]
  },
  {
   "cell_type": "markdown",
   "id": "6ae41e7d-2fa7-4694-969d-5fc849f46dea",
   "metadata": {},
   "source": [
    "E' un test di posizione/stima della media della popolazione della quale è noto un campione di $N$ osservazioni, $\\mathbf{X} = \\{ X_n \\}_{n=1:N}$.\n",
    "- l'ipotesi nulla $\\text{H}_0$ dichiara che la popolazione ha media $\\mu_0$;\n",
    "- la statistica test $T$,\n",
    "\n",
    "  $$T = \\frac{\\bar{X} - \\mu_0}{\\frac{S}{\\sqrt{N}}} \\ $$\n",
    "\n",
    "  è costruita con la [media e la varianza campionaria](statistics-hs:inference:estimate:sample-estimators),\n",
    "\n",
    "   $$\\bar{X} = \\frac{1}{N} \\sum_{n=1}^N X_n \\qquad , \\qquad S^2 = \\frac{1}{N-1} \\sum_{n=1}^N (X_n - \\bar{X})^2 \\ .$$\n",
    "\n",
    "<!--\n",
    "  Se i campioni sono gaussiani iid., allora la statistica test segue una distribuzione $t$-Student con $N-1$ gradi di liberta, $t \\sim t_{N-1}$\n",
    "-->\n",
    "\n",
    "- quindi, una volta definito il livello di significatività del test, $\\alpha$, si controlla se la statistica test $t$ valutata con il campione a disposizione cade nella regione di rifiuto dell'ipotesi della distribuzione $t_{N-1}$ o meno, per determinare se si deve considerare $\\text{H}_0$ falsificata dal test o meno\n",
    "\n",
    "**Ipotesi.**\n",
    "[Come dimostrato in appendice](proof:t-test-gaussian), se i campioni sono variabili i.i.d. gaussiane, con media $\\mu_0$ sotto l'ipotesi nulla $\\text{H}_0$, $X_n \\sim \\mathscr{N}(\\mu_0, \\sigma^2)$, allora la statistica test segue una distribuzione $t$-Student con $N-1$ gradi di libertà,\n",
    "\n",
    "$$T \\sim t_{N-1} \\ .$$\n",
    "\n",
    "**todo** *cosa succede quando la popolazione non ha distribuzione gaussiana? Qual è la robustezza del medoto alla caduta di questa ipotesi? Esempio già disponibile con campionamento variabile con distribuzione uniforme; altri metodi, non parametric?*\n"
   ]
  },
  {
   "cell_type": "markdown",
   "id": "cfa79e71-785c-411f-9f79-f7622356f141",
   "metadata": {},
   "source": [
    "(hp-test:single:t-tests:pair)=\n",
    "### Test per una coppia di campioni con stessa varianza - valore medio\n",
    "\n",
    "\n",
    "Un $t$-test per una coppia di campioni $\\{ X_{1,n} \\}_{n=1:N}$, $\\{ X_{2,n} \\}_{n=1:N}$ presi da due popolazioni $X_1$, $X_2$ di cui si ipotizza la stessa varianza $\\sigma^2$, si riduce al $t$-test per campione singolo per la variabile casuale $X_2 - X_1$.\n",
    "\n",
    "\n",
    "**Variabili gaussiane.** Nel caso in cui le variabili casuali $X_1$, $X_2$ abbiano distribuzione gaussiana con la stessa varianza, $X_1 \\sim \\mathscr{N}(\\mu_1, \\sigma^2)$, $X_2 \\sim \\mathscr{N}(\\mu_2, \\sigma^2)$, la variabile $X_2 - X_1$ è gaussiana con distribuzione\n",
    "-->\n",
    "\n",
    "$$X_2 - X_1 \\sim \\mathscr{N}(\\mu_2-\\mu_1, 2 \\sigma^2)$$\n",
    "\n",
    "**todo**\n"
   ]
  },
  {
   "cell_type": "markdown",
   "id": "f1f76d05-b0fb-4e21-8244-fdc5293c29eb",
   "metadata": {},
   "source": [
    "(hp-test:single:t-tests:others)=\n",
    "### Altri $t$-test\n",
    "**todo** Se campioni di dimensione differente o con varianze differenti, [Welct $t$-test](hp-test:independence:t-welch)..."
   ]
  },
  {
   "cell_type": "markdown",
   "id": "8d219dc5-e51c-4beb-bab6-7a1265b0f753",
   "metadata": {},
   "source": [
    "(hp-test:single:z)=\n",
    "## $Z$-test\n",
    "Test identico al $t$-test in cui la statistica test $z$ segue una distribuzione gaussiana sotto l'ipotesi nulla. Per il legame esistente tra la distribuzione $t_{\\nu}$ e $\\mathscr{N}$, si può interpretare lo $Z$-test come limite del $t$-test per un numero di campioni sufficientemente grande."
   ]
  },
  {
   "cell_type": "markdown",
   "id": "b42e9f94-64e4-4ff5-b2c4-acd5c901257a",
   "metadata": {},
   "source": [
    "(hp-test:single:chi2-pearson)=\n",
    "## $\\chi^2$-test di Pearson\n",
    "Il test $\\chi^2$ di Pearson si applica a dati **categoriali**, per confrontare le **frequenze** delle $K$ categorie per diversi insiemi. Può essere applicato:\n",
    "- a un singolo campione, confrontando le frequenze osservate $\\{ O_k \\}_{k=1:K}$ con le frequenze attese $\\{ E_k \\}_{k=1:K}$, che costituiscono l'ipotesi nulla $\\text{H}_0$\n",
    "- a più campioni (**todo** *link a test di indipendenza statistica*) per stabilire se provengono dalla stessa popolazione, o comunque da popolazioni con la stessa funzione di probabilità.\n",
    "\n",
    "Il test $\\chi^2$ a un campione viene utilizzato per confrontare le frequenze osservate $\\{ O_k \\}_{k=1:K}$  e attese  $\\{ E_k \\}_{k=1:K}$  di un insieme di possibili eventi, $\\{ X_n \\}_{n=1:N}$. \n",
    "- l'**ipotesi nulla** $\\text{H}_0$ afferma che il fenomeno osservato segue la distribuzione di probabilità descritta dalle frequenze attese, $\\{ E_k \\}$. *Supponendo che i dati campionati siano iid*, l'ipotesi nulla afferma che il fenomeno dal quale è estratto il campione segue una distribuzione di probabilità categoriale, $\\text{Categorial}(E_1,\\dots,E_K)$\n",
    "- La statistica test è\n",
    "\n",
    "  $$X^2 := \\sum_{k=1}^{K} \\frac{(O_k - E_k)^2}{E_k} \\ ,$$\n",
    "\n",
    "Nel caso in cui le frequenze attese sono \"sufficientemente grandi\" e quelle osservate $O_k$ abbiano una distribuzione gaussiana, allora $X^2$ segue una distribuzione $\\chi^2_{K-1}$.\n",
    "\n",
    "... **todo**"
   ]
  },
  {
   "cell_type": "markdown",
   "id": "ced41cf8-08a3-4abb-94d2-c9ab6d55ec1b",
   "metadata": {
    "editable": true,
    "slideshow": {
     "slide_type": ""
    },
    "tags": []
   },
   "source": [
    "### Esempio: dado truccato\n",
    "Ci vengono dati due dadi a 6 facce e ci viene chiesto di verificare con $n_{rolls} = 50$ lanci se questi dadi possono essere considerati truccati. Noi non lo sappiamo, ma il primo dado non è truccato, mentre il secondo dado è sbilanciato in modo tale che la possibilità che esca la faccia 3 è doppia rispetto a tutte le altre,\n",
    "\n",
    "$$\\begin{aligned}\n",
    "X_1 & \\sim \\text{Categorial}\\left(\\frac{1}{6},\\frac{1}{6},\\frac{1}{6},\\frac{1}{6},\\frac{1}{6},\\frac{1}{6}\\right) \\\\\n",
    "X_2 & \\sim \\text{Categorial}\\left(\\frac{1}{7},\\frac{1}{7},\\frac{2}{7},\\frac{1}{7},\\frac{1}{7},\\frac{1}{7}\\right) \n",
    "\\end{aligned}$$\n",
    "\n",
    "Per ogni esperimento, l'ipotesi nulla $\\text{H}_0$ è che il dado non sia truccato e che ogni faccia abbia una probabilità $\\frac{1}{6}$. La distribuzione di probabilità attesa è \n",
    "\n",
    "$$X|\\text{H}_0 \\sim \\text{Categorial}\\left(\\frac{1}{6},\\frac{1}{6},\\frac{1}{6},\\frac{1}{6},\\frac{1}{6},\\frac{1}{6}\\right) \\ .$$\n",
    "\n"
   ]
  },
  {
   "cell_type": "code",
   "execution_count": 71,
   "id": "4f0e048f-6e23-40f3-a1ef-8a2092aff518",
   "metadata": {
    "editable": true,
    "slideshow": {
     "slide_type": ""
    },
    "tags": [
     "hide-input"
    ]
   },
   "outputs": [],
   "source": [
    "# Reset env vars and load libraries\n",
    "%reset -f\n",
    "import numpy as np\n",
    "import matplotlib.pyplot as plt"
   ]
  },
  {
   "cell_type": "code",
   "execution_count": 85,
   "id": "1e548660-a00e-46ea-8c21-ff84e4dcabce",
   "metadata": {
    "editable": true,
    "slideshow": {
     "slide_type": ""
    },
    "tags": [
     "hide-input"
    ]
   },
   "outputs": [],
   "source": [
    "# Random number generators representing dice roll\n",
    "rng = np.random.default_rng(12345)   # (12345)  # initialize numpy default rng\n",
    "\n",
    "# N.roll of the experiments\n",
    "nrolls = 50\n",
    "\n",
    "# Categories: six-face dice X = [ 1,2,3,4,5,6 ]\n",
    "categ = np.array([1,2,3,4,5,6])\n",
    "\n",
    "# Categorial probabilities of two dice, one fair, one not ( p_rigg(face3) = 2 p_rigg(facek) )\n",
    "p_fair = np.array([1,1, 1, 1,1,1]) / 6.                               # fair dice\n",
    "p_rigg = np.array([1,1, 2, 1,1,1]); p_rigg = p_rigg/np.sum(p_rigg)    # rigged dice\n",
    "# ...you can change p_ above, or add here other p_...\n",
    "\n",
    "name_l = [ 'Fair', 'Rigged' ]  # name of the experiments\n",
    "prob_l = [ p_fair, p_rigg ]    # collect data of experiments in a list\n",
    "n_exp = len(prob_l)            # n. of experiments"
   ]
  },
  {
   "cell_type": "code",
   "execution_count": 86,
   "id": "8e574a77-2755-46bd-be03-2c16c14a7794",
   "metadata": {
    "editable": true,
    "slideshow": {
     "slide_type": ""
    },
    "tags": [
     "hide-input"
    ]
   },
   "outputs": [],
   "source": [
    "# Null hypothesis, H0\n",
    "e_freq = nrolls * p_fair\n",
    "\n",
    "# Significance level\n",
    "alpha = .05"
   ]
  },
  {
   "cell_type": "code",
   "execution_count": 87,
   "id": "c5a6fe0f-3e3a-4474-8cbd-e8d3121124dd",
   "metadata": {
    "editable": true,
    "slideshow": {
     "slide_type": ""
    },
    "tags": [
     "hide-input"
    ]
   },
   "outputs": [],
   "source": [
    "# Run experiments\n",
    "# Initialize lists to collect data\n",
    "o_freq_l = np.zeros((n_exp, 6),)\n",
    "chi2_v = np.zeros(n_exp, dtype=float)\n",
    "\n",
    "# Loop over experiments\n",
    "for i in range(n_exp):\n",
    "\n",
    "    # Roll the dice and collect outcomes\n",
    "    outcomes = rng.choice(categ, p=prob_l[i], size=nrolls)\n",
    "    \n",
    "    # Count frequency of each category\n",
    "    unique_cat, counts = np.unique(outcomes, return_counts=True)\n",
    "    o_freq = np.zeros(6)\n",
    "    o_freq[unique_cat-1] = counts\n",
    "\n",
    "    # Store results\n",
    "    o_freq_l[i, unique_cat-1] = o_freq\n",
    "    chi2_v[i] = np.sum((o_freq - e_freq)**2 / e_freq)  # chi-2 statistics test (element-wise operations and sum)\n"
   ]
  },
  {
   "cell_type": "code",
   "execution_count": 88,
   "id": "43e7fd1a-24f0-4707-a86c-1c936e867fcf",
   "metadata": {
    "editable": true,
    "slideshow": {
     "slide_type": ""
    },
    "tags": [
     "hide-input"
    ]
   },
   "outputs": [
    {
     "name": "stdout",
     "output_type": "stream",
     "text": [
      "\n",
      "Experiment: Fair, nrolls: 50\n",
      "- probability (unknown in real exp.) : [0.1667 0.1667 0.1667 0.1667 0.1667 0.1667]\n",
      "- Observed events                    : [ 6. 13.  8.  6.  8.  9.]\n",
      "- Test statistics, X2                : 4.000000000000001\n",
      "\n",
      "Experiment: Rigged, nrolls: 50\n",
      "- probability (unknown in real exp.) : [0.1429 0.1429 0.2857 0.1429 0.1429 0.1429]\n",
      "- Observed events                    : [ 5. 18. 13.  6.  3.  5.]\n",
      "- Test statistics, X2                : 20.560000000000002\n"
     ]
    }
   ],
   "source": [
    "# Results\n",
    "for i in range(n_exp):\n",
    "    print(f\"\\nExperiment: {name_l[i]}, nrolls: {nrolls}\")\n",
    "    print(f\"- probability (unknown in real exp.) : {np.array2string(prob_l[i], precision=4)}\")\n",
    "    print(f\"- Observed events                    : {np.array2string(o_freq_l[i], precision=4, )}\")\n",
    "    print(f\"- Test statistics, X2                : {chi2_v[i]}\")\n"
   ]
  },
  {
   "cell_type": "code",
   "execution_count": 103,
   "id": "bb99618d-e746-42f5-b3bf-e1f437d2a1ed",
   "metadata": {
    "editable": true,
    "slideshow": {
     "slide_type": ""
    },
    "tags": [
     "hide-input"
    ]
   },
   "outputs": [
    {
     "data": {
      "image/png": "[encoded data removed]",
      "text/plain": [
       "<Figure size 1000x500 with 2 Axes>"
      ]
     },
     "metadata": {},
     "output_type": "display_data"
    }
   ],
   "source": [
    "fig, axes = plt.subplots(1, 2, figsize=(10,5))\n",
    "for i in range(n_exp):\n",
    "    axes[i].bar(categ, o_freq_l[i,:])\n",
    "    axes[i].plot([0,7], 2*[nrolls/6], '--', color='red')\n",
    "    axes[i].set_xlim([.5,6.5])\n",
    "    axes[i].set_ylim([.0, nrolls/2])\n",
    "    axes[i].grid(); axes[i].set_axisbelow(True)\n",
    "    axes[i].set_title(f\"Experiment: {name_l[i]} , $X^2 = {chi2_v[i]:.3f}$\")\n",
    "\n",
    "plt.tight_layout()\n",
    "plt.show()"
   ]
  },
  {
   "cell_type": "markdown",
   "id": "d754af9d-25d2-4570-bcd3-a0e2b194d888",
   "metadata": {
    "jp-MarkdownHeadingCollapsed": true
   },
   "source": [
    "## Wilcoxon\n",
    "\n",
    "...**todo**"
   ]
  }
 ],
 "metadata": {
  "kernelspec": {
   "display_name": "Python 3 (ipykernel)",
   "language": "python",
   "name": "python3"
  },
  "language_info": {
   "codemirror_mode": {
    "name": "ipython",
    "version": 3
   },
   "file_extension": ".py",
   "mimetype": "text/x-python",
   "name": "python",
   "nbconvert_exporter": "python",
   "pygments_lexer": "ipython3",
   "version": "3.8.10"
  }
 },
 "nbformat": 4,
 "nbformat_minor": 5
}
