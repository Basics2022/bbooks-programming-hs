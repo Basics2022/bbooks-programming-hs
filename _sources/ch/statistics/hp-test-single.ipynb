{
 "cells": [
  {
   "cell_type": "markdown",
   "id": "b5e5f5bc-169e-4ac4-92ea-c60291d6d77a",
   "metadata": {},
   "source": [
    "(hp-test:single)=\n",
    "# Test su campioni singoli o coppie di campioni\n",
    "\n",
    "**Test più comuni**\n",
    "- $t$-test\n",
    "- $\\chi^2$-test\n",
    "- $Z$-test\n",
    "- Wilcoxon\n",
    "- ...\n",
    "\n"
   ]
  },
  {
   "cell_type": "markdown",
   "id": "b43fc620-e9f8-4cf3-8b26-34f60586d437",
   "metadata": {},
   "source": [
    "(hp-test:t-tests)=\n",
    "## Student $t$-test\n",
    "I $t$-test sono dei test statistici di posizione in cui la statistica test segue una distribuzione $t$ di Student sotto l'ipotesi nulla $\\text{H}_0$,\n",
    "\n",
    "$$p(t|\\text{H}_0) \\sim t_{\\nu} \\ ,$$\n",
    "\n",
    "dove il numero di gradi di libertà $\\nu$ della distribuzione $t_{\\nu}$ dipende dal metodo considerato.\n",
    "\n",
    "Questi test sono \"esatti\" se la popolazione ha distribuzione normale. **todo** *in caso contrario, la statistica test costruita non segue una distribuzione $t$-Student. Bisogna valutare l'attendibilità del test in questo caso; per distribuzioni \"sufficientemente simili a quella gaussiana\" potrebbero essere validi; il teorema del limite centrale aiuta l'ipotesi di gaussianità; in caso di distribuzioni generiche, meglio affidarsi ad altri test - non parametrici*"
   ]
  },
  {
   "cell_type": "markdown",
   "id": "80c4cdb2-baca-43c3-9b6f-39a029e4cf1c",
   "metadata": {},
   "source": [
    "(hp-test:single:t-tests:single)=\n",
    "### Test per un campione - valore medio\n"
   ]
  },
  {
   "cell_type": "markdown",
   "id": "6ae41e7d-2fa7-4694-969d-5fc849f46dea",
   "metadata": {},
   "source": [
    "E' un test di posizione/stima della media della popolazione della quale è noto un campione di $N$ osservazioni, $\\mathbf{X} = \\{ X_n \\}_{n=1:N}$.\n",
    "- l'ipotesi nulla $\\text{H}_0$ dichiara che la popolazione ha media $\\mu_0$;\n",
    "- la statistica test $T$,\n",
    "\n",
    "  $$T = \\frac{\\bar{X} - \\mu_0}{\\frac{S}{\\sqrt{N}}} \\ $$\n",
    "\n",
    "  è costruita con la [media e la varianza campionaria](statistics-hs:inference:estimate:sample-estimators),\n",
    "\n",
    "   $$\\bar{X} = \\frac{1}{N} \\sum_{n=1}^N X_n \\qquad , \\qquad S^2 = \\frac{1}{N-1} \\sum_{n=1}^N (X_n - \\bar{X})^2 \\ .$$\n",
    "\n",
    "<!--\n",
    "  Se i campioni sono gaussiani iid., allora la statistica test segue una distribuzione $t$-Student con $N-1$ gradi di liberta, $t \\sim t_{N-1}$\n",
    "-->\n",
    "\n",
    "- quindi, una volta definito il livello di significatività del test, $\\alpha$, si controlla se la statistica test $t$ valutata con il campione a disposizione cade nella regione di rifiuto dell'ipotesi della distribuzione $t_{N-1}$ o meno, per determinare se si deve considerare $\\text{H}_0$ falsificata dal test o meno\n",
    "\n",
    "**Ipotesi.**\n",
    "[Come dimostrato in appendice](proof:t-test-gaussian), se i campioni sono variabili i.i.d. gaussiane, con media $\\mu_0$ sotto l'ipotesi nulla $\\text{H}_0$, $X_n \\sim \\mathscr{N}(\\mu_0, \\sigma^2)$, allora la statistica test segue una distribuzione $t$-Student con $N-1$ gradi di libertà,\n",
    "\n",
    "$$T \\sim t_{N-1} \\ .$$\n",
    "\n",
    "**todo** *cosa succede quando la popolazione non ha distribuzione gaussiana? Qual è la robustezza del medoto alla caduta di questa ipotesi? Esempio già disponibile con campionamento variabile con distribuzione uniforme; altri metodi, non parametric?*\n"
   ]
  },
  {
   "cell_type": "markdown",
   "id": "cfa79e71-785c-411f-9f79-f7622356f141",
   "metadata": {},
   "source": [
    "(hp-test:single:t-tests:pair)=\n",
    "### Test per una coppia di campioni con stessa varianza - valore medio\n",
    "\n",
    "\n",
    "Un $t$-test per una coppia di campioni $\\{ X_{1,n} \\}_{n=1:N}$, $\\{ X_{2,n} \\}_{n=1:N}$ presi da due popolazioni $X_1$, $X_2$ di cui si ipotizza la stessa varianza $\\sigma^2$, si riduce al $t$-test per campione singolo per la variabile casuale $X_2 - X_1$.\n",
    "\n",
    "\n",
    "**Variabili gaussiane.** Nel caso in cui le variabili casuali $X_1$, $X_2$ abbiano distribuzione gaussiana con la stessa varianza, $X_1 \\sim \\mathscr{N}(\\mu_1, \\sigma^2)$, $X_2 \\sim \\mathscr{N}(\\mu_2, \\sigma^2)$, la variabile $X_2 - X_1$ è gaussiana con distribuzione\n",
    "-->\n",
    "\n",
    "$$X_2 - X_1 \\sim \\mathscr{N}(\\mu_2-\\mu_1, 2 \\sigma^2)$$\n",
    "\n",
    "**todo**\n"
   ]
  },
  {
   "cell_type": "markdown",
   "id": "f1f76d05-b0fb-4e21-8244-fdc5293c29eb",
   "metadata": {},
   "source": [
    "(hp-test:single:t-tests:others)=\n",
    "### Altri $t$-test\n",
    "**todo** Se campioni di dimensione differente o con varianze differenti, [Welct $t$-test](hp-test:independence:t-welch)..."
   ]
  },
  {
   "cell_type": "markdown",
   "id": "8d219dc5-e51c-4beb-bab6-7a1265b0f753",
   "metadata": {},
   "source": [
    "(hp-test:single:z)=\n",
    "## $Z$-test\n",
    "Test identico al $t$-test in cui la statistica test $z$ segue una distribuzione gaussiana sotto l'ipotesi nulla. Per il legame esistente tra la distribuzione $t_{\\nu}$ e $\\mathscr{N}$, si può interpretare lo $Z$-test come limite del $t$-test per un numero di campioni sufficientemente grande."
   ]
  },
  {
   "cell_type": "markdown",
   "id": "b42e9f94-64e4-4ff5-b2c4-acd5c901257a",
   "metadata": {},
   "source": [
    "(hp-test:single:chi2-pearson)=\n",
    "## $\\chi^2$-test di Pearson\n",
    "Il test $\\chi^2$ di Pearson si applica a dati **categoriali**, per confrontare le **frequenze** delle $K$ categorie per diversi insiemi. Può essere applicato:\n",
    "- a un singolo campione, confrontando le frequenze osservate $\\{ O_k \\}_{k=1:K}$ con le frequenze attese $\\{ E_k \\}_{k=1:K}$, che costituiscono l'ipotesi nulla $\\text{H}_0$\n",
    "- a più campioni (**todo** *link a test di indipendenza statistica*) per stabilire se provengono dalla stessa popolazione, o comunque da popolazioni con la stessa funzione di probabilità.\n",
    "\n",
    "Il test $\\chi^2$ a un campione viene utilizzato per confrontare le frequenze osservate $\\{ O_k \\}_{k=1:K}$  e attese  $\\{ E_k \\}_{k=1:K}$  di un insieme di possibili eventi, $\\{ X_n \\}_{n=1:N}$. \n",
    "- l'**ipotesi nulla** $\\text{H}_0$ afferma che il fenomeno osservato segue la distribuzione di probabilità descritta dalle frequenze attese, $\\{ E_k \\}$. *Supponendo che i dati campionati siano iid*, l'ipotesi nulla afferma che il fenomeno dal quale è estratto il campione segue una distribuzione di probabilità categoriale, $\\text{Categorial}(E_1,\\dots,E_K)$\n",
    "- La statistica test è\n",
    "\n",
    "  $$X^2 := \\sum_{k=1}^{K} \\frac{(O_k - E_k)^2}{E_k} \\ ,$$\n",
    "\n",
    "Nel caso in cui le frequenze attese sono \"sufficientemente grandi\" e quelle osservate $O_k$ abbiano una distribuzione gaussiana, allora $X^2$ segue una distribuzione $\\chi^2_{K-1}$.\n",
    "\n",
    "... **todo**"
   ]
  },
  {
   "cell_type": "markdown",
   "id": "ced41cf8-08a3-4abb-94d2-c9ab6d55ec1b",
   "metadata": {
    "editable": true,
    "slideshow": {
     "slide_type": ""
    },
    "tags": []
   },
   "source": [
    "### Esempio: dado truccato\n",
    "Ci vengono dati due dadi a 6 facce e ci viene chiesto di verificare con $n_{rolls} = 50$ lanci se questi dadi possono essere considerati truccati. Noi non lo sappiamo, ma il primo dado non è truccato, mentre il secondo dado è sbilanciato in modo tale che la possibilità che esca la faccia 3 è doppia rispetto a tutte le altre,\n",
    "\n",
    "$$\\begin{aligned}\n",
    "X_1 & \\sim \\text{Categorial}\\left(\\frac{1}{6},\\frac{1}{6},\\frac{1}{6},\\frac{1}{6},\\frac{1}{6},\\frac{1}{6}\\right) \\\\\n",
    "X_2 & \\sim \\text{Categorial}\\left(\\frac{1}{7},\\frac{1}{7},\\frac{2}{7},\\frac{1}{7},\\frac{1}{7},\\frac{1}{7}\\right) \n",
    "\\end{aligned}$$\n",
    "\n"
   ]
  },
  {
   "cell_type": "code",
   "execution_count": 184,
   "id": "4f0e048f-6e23-40f3-a1ef-8a2092aff518",
   "metadata": {
    "editable": true,
    "slideshow": {
     "slide_type": ""
    },
    "tags": [
     "hide-input"
    ]
   },
   "outputs": [],
   "source": [
    "# Reset env vars and load libraries\n",
    "%reset -f\n",
    "import numpy as np\n",
    "from scipy.stats import chi2\n",
    "\n",
    "import matplotlib.pyplot as plt"
   ]
  },
  {
   "cell_type": "code",
   "execution_count": 185,
   "id": "1e548660-a00e-46ea-8c21-ff84e4dcabce",
   "metadata": {
    "editable": true,
    "slideshow": {
     "slide_type": ""
    },
    "tags": [
     "hide-input"
    ]
   },
   "outputs": [],
   "source": [
    "# Random number generators representing dice roll\n",
    "rng = np.random.default_rng(12345)   # (12345)  # initialize numpy default rng\n",
    "\n",
    "# N.roll of the experiments\n",
    "nrolls = 1001\n",
    "\n",
    "# Categories: six-face dice X = [ 1,2,3,4,5,6 ]\n",
    "categ = np.array([1,2,3,4,5,6])\n",
    "n_categ = len(categ)\n",
    "\n",
    "# Categorial probabilities of two dice, one fair, one not ( p_rigg(face3) = 2 p_rigg(facek) )\n",
    "p_fair = np.array([1,1, 1, 1,1,1]) / 6.                               # fair dice\n",
    "p_rigg = np.array([1,1, 2, 1,1,1]); p_rigg = p_rigg/np.sum(p_rigg)    # rigged dice\n",
    "# ...you can change p_ above, or add here other p_...\n",
    "\n",
    "name_l = [ 'Fair', 'Rigged' ]  # name of the experiments\n",
    "prob_l = [ p_fair, p_rigg ]    # collect data of experiments in a list\n",
    "n_exp = len(prob_l)            # n. of experiments"
   ]
  },
  {
   "cell_type": "markdown",
   "id": "a352c6c8-c5c6-4ebf-86ad-81fb6255c92a",
   "metadata": {
    "editable": true,
    "slideshow": {
     "slide_type": ""
    },
    "tags": []
   },
   "source": [
    "\n",
    "**Ipotesi nulla.** Per ogni esperimento, l'ipotesi nulla $\\text{H}_0$ è che il dado non sia truccato e che ogni faccia abbia una probabilità $\\frac{1}{6}$. La distribuzione di probabilità attesa è \n",
    "\n",
    "$$X|\\text{H}_0 \\sim \\text{Categorial}\\left(\\frac{1}{6},\\frac{1}{6},\\frac{1}{6},\\frac{1}{6},\\frac{1}{6},\\frac{1}{6}\\right) \\ .$$\n",
    "\n",
    "**Statistica test.** Assumendo che la differenza tra le frequenze osservate e quelle attese abbiano una distribuzione gaussiana $\\sim \\mathscr{N}(0, E^2)$, la statistica test ha una distribuzione \n",
    "\n",
    "$$X^2 = \\sum_{k=1}^K \\frac{(O_k - E_k)^2}{E_k} \\sim \\chi^2_{N-1} \\ .$$\n",
    "\n",
    "**todo** *link al motivo per cui i dof sono $N-1$: sostanzialmente poiché la pdf è determinata da un solo parametro, un solo vincolo, che riduce di 1 il numero di dof*\n",
    "\n",
    "**Livello di significatività.** Si sceglie un livello di significatività $\\alpha = 0.05$, cioè solo il $5%$ di casi estremi invalidano l'ipotesi nulla. Il livello di significatività determina il valore della statistica test che separa le regioni di accettazione e di rifiuto dell'ipotesi.\n",
    "\n",
    "Se si vuole essere più conservativi e rigettare l'ipotesi nulla \"solo per dadi palesemente truccati\", si può ridurre il livello di significatività del test. Ad esempio, scegliendo $\\alpha = 0.01$ si identificano come truccati solo i risultati estremi che hanno probabilità cumulata di verificarsi dell'$1\\%$ sotto l'ipotesi nulla (1% di falsi positivi).\n"
   ]
  },
  {
   "cell_type": "code",
   "execution_count": 220,
   "id": "8e574a77-2755-46bd-be03-2c16c14a7794",
   "metadata": {
    "editable": true,
    "slideshow": {
     "slide_type": ""
    },
    "tags": [
     "hide-input"
    ]
   },
   "outputs": [
    {
     "name": "stdout",
     "output_type": "stream",
     "text": [
      "\n",
      "Rejection and acceptance regions for significance, alpha = 0.05\n",
      "- Not rejection for X2 < 11.0705\n",
      "- Rejection     for X2 > 11.0705\n",
      "\n",
      "Rejection limits as a function of significance level\n",
      "X_rej_lim( alpha=0.050 ) = 11.0705\n",
      "X_rej_lim( alpha=0.010 ) = 15.0863\n",
      "X_rej_lim( alpha=0.005 ) = 16.7496\n",
      "X_rej_lim( alpha=0.001 ) = 20.5150\n"
     ]
    }
   ],
   "source": [
    "# Null hypothesis, H0\n",
    "# e_freq = nrolls * p_fair\n",
    "# statistics ~ Chi^2_{n_categ - 1}\n",
    "n_dofs = n_categ - 1           # n.dofs = n.categories - 1 \n",
    "\n",
    "# Significance level\n",
    "alpha = .05   # .05, .01\n",
    "\n",
    "# Point X2_rej_lim, discerning acceptance (X2 < X2_rej_lim) from rejection regions (X2 > X2_rej_lim)\n",
    "X2_rej_lim = chi2.ppf(1-alpha, n_dofs)\n",
    "\n",
    "print(f\"\\nRejection and acceptance regions for significance, alpha = {alpha}\")\n",
    "print(f\"- Not rejection for X2 < {X2_rej_lim:.4f}\")\n",
    "print(f\"- Rejection     for X2 > {X2_rej_lim:.4f}\")\n",
    "\n",
    "alpha_l = [ .05, .01, .005, .001 ]\n",
    "print(\"\\nRejection limits as a function of significance level\")\n",
    "for al in alpha_l:\n",
    "    print(f\"X_rej_lim( alpha={al:0.3f} ) = {chi2.ppf(1-al, n_dofs):.4f}\")"
   ]
  },
  {
   "cell_type": "markdown",
   "id": "870413da-38b6-46dc-bdfd-d2b944ad0d52",
   "metadata": {
    "editable": true,
    "slideshow": {
     "slide_type": ""
    },
    "tags": []
   },
   "source": [
    "Vengono svolti gli esperimenti, raccolti i dati, calcolata la statistica test sui campioni e questa viene utilizzata per trarre le conclusioni sull'ipotesi nulla."
   ]
  },
  {
   "cell_type": "code",
   "execution_count": 197,
   "id": "c5a6fe0f-3e3a-4474-8cbd-e8d3121124dd",
   "metadata": {
    "editable": true,
    "slideshow": {
     "slide_type": ""
    },
    "tags": [
     "hide-input"
    ]
   },
   "outputs": [],
   "source": [
    "# Function for running experiments\n",
    "def run_experiments(categ, prob_l, nrolls):\n",
    "\n",
    "    # Expected frequencies\n",
    "    e_freq = nrolls * p_fair\n",
    "    \n",
    "    # Initialize lists to collect data\n",
    "    o_freq_l = np.zeros((n_exp, 6),)\n",
    "    X2_v = np.zeros(n_exp, dtype=float)\n",
    "    \n",
    "    # Loop over experiments\n",
    "    for i in range(n_exp):\n",
    "    \n",
    "        # Roll the dice and collect outcomes\n",
    "        outcomes = rng.choice(categ, p=prob_l[i], size=nrolls)\n",
    "        \n",
    "        # Count frequency of each category\n",
    "        unique_cat, counts = np.unique(outcomes, return_counts=True)\n",
    "        o_freq = np.zeros(6)\n",
    "        o_freq[unique_cat-1] = counts\n",
    "    \n",
    "        # Store results\n",
    "        o_freq_l[i, :] = o_freq\n",
    "        X2_v[i] = np.sum((o_freq - e_freq)**2 / e_freq)  # chi-2 statistics test (element-wise operations and sum)\n",
    "\n",
    "    return o_freq_l, X2_v\n",
    "    \n"
   ]
  },
  {
   "cell_type": "code",
   "execution_count": 198,
   "id": "4855f247-7604-4b85-a905-901bcb998a8e",
   "metadata": {
    "editable": true,
    "slideshow": {
     "slide_type": ""
    },
    "tags": []
   },
   "outputs": [],
   "source": [
    "# Run experiment\n",
    "o_freq_l, X2_v = run_experiments(categ, prob_l, nrolls)"
   ]
  },
  {
   "cell_type": "code",
   "execution_count": 199,
   "id": "bb99618d-e746-42f5-b3bf-e1f437d2a1ed",
   "metadata": {
    "editable": true,
    "slideshow": {
     "slide_type": ""
    },
    "tags": [
     "hide-input"
    ]
   },
   "outputs": [
    {
     "data": {
      "image/png": "[encoded data removed]",
      "text/plain": [
       "<Figure size 1000x500 with 2 Axes>"
      ]
     },
     "metadata": {},
     "output_type": "display_data"
    }
   ],
   "source": [
    "fig, axes = plt.subplots(1, 2, figsize=(10,5))\n",
    "for i in range(n_exp):\n",
    "    axes[i].bar(categ, o_freq_l[i,:])\n",
    "    axes[i].plot([0,7], 2*[nrolls/6], '--', color='red', label='Expected')\n",
    "    axes[i].set_xlim([.5,6.5])\n",
    "    axes[i].set_ylim([.0, nrolls/2])\n",
    "    axes[i].set_xlabel(\"Face\")\n",
    "    axes[i].set_ylabel(\"Frequencies\")\n",
    "    axes[i].grid(); axes[i].set_axisbelow(True)\n",
    "    axes[i].set_title(f\"Experiment: {name_l[i]}, $X^2 = {X2_v[i]:.3f}$\")\n",
    "    axes[i].legend()\n",
    "\n",
    "plt.tight_layout()\n",
    "plt.show()"
   ]
  },
  {
   "cell_type": "code",
   "execution_count": 200,
   "id": "43e7fd1a-24f0-4707-a86c-1c936e867fcf",
   "metadata": {
    "editable": true,
    "slideshow": {
     "slide_type": ""
    },
    "tags": [
     "hide-input"
    ]
   },
   "outputs": [
    {
     "name": "stdout",
     "output_type": "stream",
     "text": [
      "Experiment: Fair, nrolls: 1000\n",
      "- probability (unknown in real exp.) : [0.1667 0.1667 0.1667 0.1667 0.1667 0.1667]\n",
      "- Observed events                    : [173. 164. 160. 172. 153. 178.]\n",
      "- Test statistics, X2                : 2.6120\n",
      ">> H0 not rejected (2.6120 < X_lim=11.0705): dice is fair\n",
      "\n",
      "Experiment: Rigged, nrolls: 1000\n",
      "- probability (unknown in real exp.) : [0.1429 0.1429 0.2857 0.1429 0.1429 0.1429]\n",
      "- Observed events                    : [143. 145. 284. 136. 147. 145.]\n",
      "- Test statistics, X2                : 99.5600\n",
      ">> H0 rejected (99.5600 > X_lim=11.0705): dice is rigged\n",
      "\n"
     ]
    }
   ],
   "source": [
    "# Results\n",
    "for i in range(n_exp):\n",
    "    print(f\"Experiment: {name_l[i]}, nrolls: {nrolls}\")\n",
    "    print(f\"- probability (unknown in real exp.) : {np.array2string(prob_l[i], precision=4)}\")\n",
    "    print(f\"- Observed events                    : {np.array2string(o_freq_l[i], precision=4, )}\")\n",
    "    print(f\"- Test statistics, X2                : {X2_v[i]:.4f}\")\n",
    "\n",
    "    if ( X2_v[i] < X2_rej_lim ):\n",
    "        print(f\">> H0 not rejected ({X2_v[i]:.4f} < X_lim={X2_rej_lim:.4f}): dice is fair\\n\")\n",
    "    else:\n",
    "        \n",
    "        print(f\">> H0 rejected ({X2_v[i]:.4f} > X_lim={X2_rej_lim:.4f}): dice is rigged\\n\")\n"
   ]
  },
  {
   "cell_type": "markdown",
   "id": "e8c11ece-6b00-4094-8396-144e73ecdad6",
   "metadata": {
    "editable": true,
    "slideshow": {
     "slide_type": ""
    },
    "tags": []
   },
   "source": [
    "**Dipendenza del risultato del test dal numero di prove.**"
   ]
  },
  {
   "cell_type": "code",
   "execution_count": 211,
   "id": "ab178f7c-0235-4a6b-b966-958c3627e800",
   "metadata": {
    "editable": true,
    "slideshow": {
     "slide_type": ""
    },
    "tags": []
   },
   "outputs": [],
   "source": [
    "nrolls_v = np.arange(10, 10001, 10)\n",
    "X2_m = np.zeros((len(nrolls_v), n_exp), dtype=float)\n",
    "\n",
    "for iroll in range(len(nrolls_v)):\n",
    "    freq, X2_m[iroll,:] = run_experiments(categ, prob_l, nrolls_v[iroll])\n",
    "    "
   ]
  },
  {
   "cell_type": "code",
   "execution_count": 212,
   "id": "cff05e2e-75c2-463c-9853-f312d9e771e9",
   "metadata": {
    "editable": true,
    "slideshow": {
     "slide_type": ""
    },
    "tags": []
   },
   "outputs": [
    {
     "data": {
      "image/png": "[encoded data removed]",
      "text/plain": [
       "<Figure size 640x480 with 1 Axes>"
      ]
     },
     "metadata": {},
     "output_type": "display_data"
    }
   ],
   "source": [
    "plt.figure()\n",
    "plt.plot(nrolls_v, X2_m[:,0])\n",
    "plt.grid()"
   ]
  },
  {
   "cell_type": "markdown",
   "id": "d754af9d-25d2-4570-bcd3-a0e2b194d888",
   "metadata": {
    "editable": true,
    "jp-MarkdownHeadingCollapsed": true,
    "slideshow": {
     "slide_type": ""
    },
    "tags": []
   },
   "source": [
    "## Wilcoxon\n",
    "\n",
    "...**todo**"
   ]
  }
 ],
 "metadata": {
  "kernelspec": {
   "display_name": "Python 3 (ipykernel)",
   "language": "python",
   "name": "python3"
  },
  "language_info": {
   "codemirror_mode": {
    "name": "ipython",
    "version": 3
   },
   "file_extension": ".py",
   "mimetype": "text/x-python",
   "name": "python",
   "nbconvert_exporter": "python",
   "pygments_lexer": "ipython3",
   "version": "3.8.10"
  }
 },
 "nbformat": 4,
 "nbformat_minor": 5
}
