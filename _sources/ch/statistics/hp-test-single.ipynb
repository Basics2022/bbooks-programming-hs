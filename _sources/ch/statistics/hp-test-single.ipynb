{
 "cells": [
  {
   "cell_type": "markdown",
   "id": "b5e5f5bc-169e-4ac4-92ea-c60291d6d77a",
   "metadata": {},
   "source": [
    "(hp-test:single)=\n",
    "# Test su campioni singoli o coppie di campioni\n",
    "\n",
    "**Test più comuni**\n",
    "- $t$-test\n",
    "- $\\chi^2$-test\n",
    "- $Z$-test\n",
    "- Wilcoxon\n",
    "- ...\n",
    "\n"
   ]
  },
  {
   "cell_type": "markdown",
   "id": "b43fc620-e9f8-4cf3-8b26-34f60586d437",
   "metadata": {},
   "source": [
    "(hp-test:t-tests)=\n",
    "## Student $t$-test\n",
    "I $t$-test sono dei test statistici di posizione in cui la statistica test segue una distribuzione $t$ di Student sotto l'ipotesi nulla $\\text{H}_0$,\n",
    "\n",
    "$$p(t|\\text{H}_0) \\sim t_{\\nu} \\ ,$$\n",
    "\n",
    "dove il numero di gradi di libertà $\\nu$ della distribuzione $t_{\\nu}$ dipende dal metodo considerato.\n",
    "\n",
    "Questi test sono \"esatti\" se la popolazione ha distribuzione normale. **todo** *in caso contrario, la statistica test costruita non segue una distribuzione $t$-Student. Bisogna valutare l'attendibilità del test in questo caso; per distribuzioni \"sufficientemente simili a quella gaussiana\" potrebbero essere validi; il teorema del limite centrale aiuta l'ipotesi di gaussianità; in caso di distribuzioni generiche, meglio affidarsi ad altri test - non parametrici*"
   ]
  },
  {
   "cell_type": "markdown",
   "id": "80c4cdb2-baca-43c3-9b6f-39a029e4cf1c",
   "metadata": {},
   "source": [
    "(hp-test:single:t-tests:single)=\n",
    "### Test per un campione - valore medio\n"
   ]
  },
  {
   "cell_type": "markdown",
   "id": "6ae41e7d-2fa7-4694-969d-5fc849f46dea",
   "metadata": {},
   "source": [
    "E' un test di posizione/stima della media della popolazione della quale è noto un campione di $N$ osservazioni, $\\mathbf{X} = \\{ X_n \\}_{n=1:N}$.\n",
    "- l'ipotesi nulla $\\text{H}_0$ dichiara che la popolazione ha media $\\mu_0$;\n",
    "- la statistica test $T$,\n",
    "\n",
    "  $$T = \\frac{\\bar{X} - \\mu_0}{\\frac{S}{\\sqrt{N}}} \\ $$\n",
    "\n",
    "  è costruita con la [media e la varianza campionaria](statistics-hs:inference:estimate:sample-estimators),\n",
    "\n",
    "   $$\\bar{X} = \\frac{1}{N} \\sum_{n=1}^N X_n \\qquad , \\qquad S^2 = \\frac{1}{N-1} \\sum_{n=1}^N (X_n - \\bar{X})^2 \\ .$$\n",
    "\n",
    "<!--\n",
    "  Se i campioni sono gaussiani iid., allora la statistica test segue una distribuzione $t$-Student con $N-1$ gradi di liberta, $t \\sim t_{N-1}$\n",
    "-->\n",
    "\n",
    "- quindi, una volta definito il livello di significatività del test, $\\alpha$, si controlla se la statistica test $t$ valutata con il campione a disposizione cade nella regione di rifiuto dell'ipotesi della distribuzione $t_{N-1}$ o meno, per determinare se si deve considerare $\\text{H}_0$ falsificata dal test o meno\n",
    "\n",
    "**Ipotesi.**\n",
    "[Come dimostrato in appendice](proof:t-test-gaussian), se i campioni sono variabili i.i.d. gaussiane, con media $\\mu_0$ sotto l'ipotesi nulla $\\text{H}_0$, $X_n \\sim \\mathscr{N}(\\mu_0, \\sigma^2)$, allora la statistica test segue una distribuzione $t$-Student con $N-1$ gradi di libertà,\n",
    "\n",
    "$$T \\sim t_{N-1} \\ .$$\n",
    "\n",
    "**todo** *cosa succede quando la popolazione non ha distribuzione gaussiana? Qual è la robustezza del medoto alla caduta di questa ipotesi? Esempio già disponibile con campionamento variabile con distribuzione uniforme; altri metodi, non parametric?*\n"
   ]
  },
  {
   "cell_type": "markdown",
   "id": "cfa79e71-785c-411f-9f79-f7622356f141",
   "metadata": {},
   "source": [
    "(hp-test:single:t-tests:pair)=\n",
    "### Test per una coppia di campioni con stessa varianza - valore medio\n",
    "\n",
    "\n",
    "Un $t$-test per una coppia di campioni $\\{ X_{1,n} \\}_{n=1:N}$, $\\{ X_{2,n} \\}_{n=1:N}$ presi da due popolazioni $X_1$, $X_2$ di cui si ipotizza la stessa varianza $\\sigma^2$, si riduce al $t$-test per campione singolo per la variabile casuale $X_2 - X_1$.\n",
    "\n",
    "\n",
    "**Variabili gaussiane.** Nel caso in cui le variabili casuali $X_1$, $X_2$ abbiano distribuzione gaussiana con la stessa varianza, $X_1 \\sim \\mathscr{N}(\\mu_1, \\sigma^2)$, $X_2 \\sim \\mathscr{N}(\\mu_2, \\sigma^2)$, la variabile $X_2 - X_1$ è gaussiana con distribuzione\n",
    "-->\n",
    "\n",
    "$$X_2 - X_1 \\sim \\mathscr{N}(\\mu_2-\\mu_1, 2 \\sigma^2)$$\n",
    "\n",
    "**todo**\n"
   ]
  },
  {
   "cell_type": "markdown",
   "id": "f1f76d05-b0fb-4e21-8244-fdc5293c29eb",
   "metadata": {},
   "source": [
    "(hp-test:single:t-tests:others)=\n",
    "### Altri $t$-test\n",
    "**todo** Se campioni di dimensione differente o con varianze differenti, [Welct $t$-test](hp-test:independence:t-welch)..."
   ]
  },
  {
   "cell_type": "markdown",
   "id": "8d219dc5-e51c-4beb-bab6-7a1265b0f753",
   "metadata": {},
   "source": [
    "(hp-test:single:z-tests)=\n",
    "## $Z$-test\n",
    "Test identico al $t$-test in cui la statistica test $z$ segue una distribuzione gaussiana sotto l'ipotesi nulla. Per il legame esistente tra la distribuzione $t_{\\nu}$ e $\\mathscr{N}$, si può interpretare lo $Z$-test come limite del $t$-test per un numero di campioni sufficientemente grande."
   ]
  },
  {
   "cell_type": "markdown",
   "id": "b42e9f94-64e4-4ff5-b2c4-acd5c901257a",
   "metadata": {},
   "source": [
    "## $\\chi^2$-test\n",
    "Il test $\\chi^2$ viene utilizzato per confrontare le frequenze osservate $o_k$ e attese $e_k$ di un insieme di possibili eventi, $\\{ E_k \\}_{k=1:K}$. L'ipotesi nulla $\\text{H}_0$ afferma che il fenomeno osservato segue la distribuzione di probabilità descritta dalle frequenze attese. La statistica test è\n",
    "\n",
    "$$X^2 = \\sum_{k=1}^{K} \\frac{(o_k - e_k)^2}{e_k}$$\n",
    "\n",
    "Nel caso in cui le frequenze attese sono \"sufficientemente grandi\" e quelle osservate $o_k$ abbiano una distribuzione gaussiana, allora $X^2$ segue una distribuzione $\\chi^2_{K-1}$.\n",
    "\n",
    "... **todo**"
   ]
  },
  {
   "cell_type": "markdown",
   "id": "d754af9d-25d2-4570-bcd3-a0e2b194d888",
   "metadata": {},
   "source": [
    "## Wilcoxon\n",
    "\n",
    "...**todo**"
   ]
  }
 ],
 "metadata": {
  "kernelspec": {
   "display_name": "Python 3 (ipykernel)",
   "language": "python",
   "name": "python3"
  },
  "language_info": {
   "codemirror_mode": {
    "name": "ipython",
    "version": 3
   },
   "file_extension": ".py",
   "mimetype": "text/x-python",
   "name": "python",
   "nbconvert_exporter": "python",
   "pygments_lexer": "ipython3",
   "version": "3.8.10"
  }
 },
 "nbformat": 4,
 "nbformat_minor": 5
}
