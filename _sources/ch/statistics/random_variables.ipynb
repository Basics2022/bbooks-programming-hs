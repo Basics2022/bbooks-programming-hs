{
 "cells": [
  {
   "cell_type": "markdown",
   "id": "24faf42e-cd41-4371-8eb3-26838537e33a",
   "metadata": {},
   "source": [
    "(statistics-hs:random-variables)=\n",
    "# Variabili casuali\n",
    "\n",
    "Qualitativamente, una variabile casuale è una grandezza che può assumere valori diversi come risultato di un fenomeno aleatorio, un fenomeno che non è possibile descrivere accuratamente con delle equazioni deterministiche. **todo** *fare esempi: lancio del dado e estrema dipendenza dalle condizioni iniziali, soprattutto con urto; aggiungere simulazione, già presente sul drive*\n",
    "\n",
    "**Contenuti.**\n",
    "[Definizione di variabile casuale](statistics-hs:random-variables:def)\n",
    "\n",
    "[Variabili casuali discrete](statistics-hs:random-variables:discrete)\n",
    "\n",
    "[Variabili casuali continue](statistics-hs:random-variables:continuous)\n",
    "\n",
    "[Trasformazione di funzioni di probabilità](statistics-hs:random-variables:pdf-transform)\n",
    "\n",
    "[Funzioni di probabilità di r.v. discrete comuni](statistics-hs:random-variables:discrete:examples)\n",
    "\n",
    "[Funzioni di probabilità di r.v. continue comuni](statistics-hs:random-variables:continuous:examples)\n",
    "\n",
    "[Variabili casuali indipendenti e identicamente distribuite](statistics-hs:random-variables:iid)\n",
    "\n",
    "[Campionamento](statistics-hs:random-variables:sampling) (**todo** qui o nella parte di statistica inferenziale, stima?)\n"
   ]
  }
 ],
 "metadata": {
  "kernelspec": {
   "display_name": "Python 3 (ipykernel)",
   "language": "python",
   "name": "python3"
  },
  "language_info": {
   "codemirror_mode": {
    "name": "ipython",
    "version": 3
   },
   "file_extension": ".py",
   "mimetype": "text/x-python",
   "name": "python",
   "nbconvert_exporter": "python",
   "pygments_lexer": "ipython3",
   "version": "3.8.10"
  }
 },
 "nbformat": 4,
 "nbformat_minor": 5
}
