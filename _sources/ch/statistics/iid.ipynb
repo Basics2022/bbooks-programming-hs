{
 "cells": [
  {
   "cell_type": "markdown",
   "id": "a65932c5-3a73-4fa9-b8c5-9cdaae799e4a",
   "metadata": {},
   "source": [
    "(statistics-hs:random-variables:iid)=\n",
    "# Variabili casuali indipendenti e identicamente distribuite, iid.\n",
    "\n",
    "Due variabili stochastiche $X$, $Y$ sono\n",
    "- statisticamente indipendenti se la loro probabilità congiunta è uguale al prodotto delle probabilità marginali,\n",
    "\n",
    "  $$p_{XY}(x,y) = p_X(x) \\, p_Y(y) \\ ,$$\n",
    "\n",
    "- identicamente distribuite se hanno la stessa densità di probabilità,\n",
    "\n",
    "  $$p_X(x) = p_Y(x)$$"
   ]
  },
  {
   "cell_type": "markdown",
   "id": "4bea2a51-65b9-47d5-bb9e-818f6a804d1d",
   "metadata": {},
   "source": [
    "## Teoremi sulle variabili casuali i.i.d.\n",
    "\n",
    "Dato un insieme di $N$ variabili casuali iid $\\{ X_n \\}_{n=1:N}$, con valore atteso $E[X_n] = \\mu$ e varianza $E[(X_n - \\mu)^2] = \\sigma$, allora la sua media campionaria\n",
    "\n",
    "$$\\bar{X}_N = \\frac{1}{N} \\sum_{n=1}^N X_n \\ $$\n",
    "\n",
    "- per il **teorema dei grandi numeri**, converge al valore atteso $\\mu$ della distribuzione di probabilità.\n",
    "\n",
    "- per il **teorema del limite centrale**, è una variabile casuale che converge in distribuzione a una variabile casuale gaussiana con valore atteso $\\mu$ e varianza $\\frac{\\sigma^2}{n}$,\n",
    "\n",
    "  $$\\bar{X}_N \\rightarrow \\mathscr{N}\\left(\\mu, \\frac{\\sigma^2}{N} \\right) \\qquad , \\qquad \\text{as $N \\rightarrow \\infty$}$$\n",
    "\n"
   ]
  },
  {
   "cell_type": "markdown",
   "id": "724509a6-9570-4966-9fbb-3762dcf39236",
   "metadata": {},
   "source": [
    "### Convergenza in statistica, **todo**\n",
    "- **quasi certamente**. Esempio: teorema dei grandi numeri in forma forte. Il limite della media campionaria è diverso da una variabile casuale $\\mu$ (**todo** *controllare*!) solo nel caso di eventi di probabilità nulla,\n",
    "\n",
    "   $$P\\left( \\lim_{N \\rightarrow \\infty} \\bar{X}_N = \\mu \\right) = 1 \\ .$$\n",
    "  \n",
    "- **in probabilità**. Esempio: teorema dei grandi numeri in forma debole. Per ogni valore di $\\varepsilon > 0$,\n",
    "\n",
    "   $$P\\left( \\left|\\lim_{N \\rightarrow \\infty} \\bar{X}_N - \\mu \\right| < \\varepsilon \\right) = 1 \\ .$$\n",
    "\n",
    "- **convergenza in distribuzione**. Esempio: teorema del limite centrale..."
   ]
  },
  {
   "cell_type": "markdown",
   "id": "80bf9842-7ab7-4f7a-bb21-0d6fdea4f83b",
   "metadata": {},
   "source": [
    "## Esempio: teoremi dei grandi numeri e del limite centrale\n",
    "<!--"
   ]
  }
 ],
 "metadata": {
  "kernelspec": {
   "display_name": "Python 3 (ipykernel)",
   "language": "python",
   "name": "python3"
  },
  "language_info": {
   "codemirror_mode": {
    "name": "ipython",
    "version": 3
   },
   "file_extension": ".py",
   "mimetype": "text/x-python",
   "name": "python",
   "nbconvert_exporter": "python",
   "pygments_lexer": "ipython3",
   "version": "3.8.10"
  }
 },
 "nbformat": 4,
 "nbformat_minor": 5
}
