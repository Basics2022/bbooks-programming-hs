{
 "cells": [
  {
   "cell_type": "markdown",
   "id": "9f096d4c-e25f-4d39-a728-6dd596973c80",
   "metadata": {},
   "source": [
    "# Test di correlazione\n",
    "\n",
    "**Test più comuni**\n",
    "- regressione lineare\n",
    "- correlazione di Pearson\n",
    "- correlazione di Spearman\n"
   ]
  },
  {
   "cell_type": "markdown",
   "id": "bcc032a2-33b7-456a-bd1a-e9b07d09f945",
   "metadata": {},
   "source": [
    "## Regressione lineare\n",
    "- regressione lineare\n",
    "- regressione lineare generalizzata\n",
    "- ...\n",
    "\n",
    "**Regressione e SL.** Una delle applicazioni fondamentali in ML, in particolare in SL, è la regressione o l'approssimazione di funzioni; scelta del modello..."
   ]
  },
  {
   "cell_type": "markdown",
   "id": "b1f11f0c-77cb-4f19-b0b3-e1a6a9fa436a",
   "metadata": {},
   "source": [
    "## Correlazione di Pearson\n",
    "\n",
    "Il **coefficiente di correlazione** tra due variabili casuali $X$, $Y$ è definito come il rapporto tra la loro covarianza e il prodotto delle loro deviazioni standard,\n",
    "\n",
    "$$\\rho_{XY} = \\frac{\\mathbb{E}[(X-\\mathbb{E}[X])(Y-\\mathbb{E}(Y))]}{\\sqrt{\\mathbb{E}[(X-\\mathbb{E}[X])^2]}\\sqrt{\\mathbb{E}[(Y-\\mathbb{E}[Y])^2]}} = \\frac{\\sigma^2_{XY}}{\\sigma_X \\, \\sigma_Y} \\ .$$\n",
    "\n",
    "**Coefficiente di correlazione per campioni.** Usando le statistiche campionarie per i campioni a disposizione delle due popolazioni,\n",
    "\n",
    "$$\\begin{aligned}\n",
    "  r_{xy} \n",
    "  & = \\frac{\\frac{1}{n-1} \\sum_{i=1}^{n} (x_i - \\bar{x})(y_i - \\bar{y})}{ \\sqrt{\\frac{1}{n-1} \\sum_{i=1}^{n} (x_i - \\bar{x})^2}\\sqrt{ \\frac{1}{n-1} \\sum_{i=1}^{n} (y_i - \\bar{y})^2}} = \\\\\n",
    "  & = \\frac{1}{n-1} \\sum_{i=1}^n \\left( \\frac{x_i - \\bar{x}}{S_x} \\right) \\left( \\frac{y_i - \\bar{y}}{S_y} \\right) = \\\\\n",
    "  & = \\frac{ \\sum_{i=1}^{n} (x_i - \\bar{x})(y_i - \\bar{y})}{ \\sqrt{\\sum_{i=1}^{n} (x_i - \\bar{x})^2}\\sqrt{ \\sum_{i=1}^{n} (y_i - \\bar{y})^2}} \\ .\n",
    "\\end{aligned}$$\n",
    "\n",
    "**Coefficiente di correlazione in statistica inferenziale.** I metodi di statistica basati sul coefficiente di correlazione di Pearson hanno due obiettivi:\n",
    "1. valutare l'ipotesi nulla $\\text{H}_0$ che afferma che l'assenza di correlazione tra le due popolazioni, $\\rho = 0$, sulla base del valore del coefficiente $r$ calcolato sui campioni\n",
    "2. fornire un intervallo di confidenza che contenga $\\rho$\n",
    "\n",
    "Alcuni metodi per ottenere questi due obiettivi sono:\n",
    "- permutazione\n",
    "- bootstrap\n",
    "- errore standard, assumendo una relazione lineare tra $x$ e $y$, con l'aggiunta di un errore gaussiano $\\varepsilon$, $y = a x + b + \\varepsilon$, $\\sigma_r = \\sqrt{\\frac{1-r^2}{n-2}}$\n",
    "- $t$-test sulla variabile $t = \\frac{r}{\\sigma_r}$\n",
    "- ..."
   ]
  },
  {
   "cell_type": "markdown",
   "id": "65b38828-8023-4df8-95c4-71a44b72cd6d",
   "metadata": {},
   "source": [
    "## Correlazione di Spearman"
   ]
  },
  {
   "cell_type": "markdown",
   "id": "753e197a-2783-4047-8096-2743ce4451c9",
   "metadata": {},
   "source": [
    "- per ranghi\n",
    "- per relazioni non lineari ma monotone\n",
    "... **todo**"
   ]
  }
 ],
 "metadata": {
  "kernelspec": {
   "display_name": "Python 3 (ipykernel)",
   "language": "python",
   "name": "python3"
  },
  "language_info": {
   "codemirror_mode": {
    "name": "ipython",
    "version": 3
   },
   "file_extension": ".py",
   "mimetype": "text/x-python",
   "name": "python",
   "nbconvert_exporter": "python",
   "pygments_lexer": "ipython3",
   "version": "3.8.10"
  }
 },
 "nbformat": 4,
 "nbformat_minor": 5
}
