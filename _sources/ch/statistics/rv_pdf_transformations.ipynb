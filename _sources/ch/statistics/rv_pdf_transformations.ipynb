{
 "cells": [
  {
   "cell_type": "markdown",
   "id": "1d909bf1-e4aa-45c9-9842-eec87958a399",
   "metadata": {},
   "source": [
    "# Trasformazione di probabilità di densità\n"
   ]
  },
  {
   "cell_type": "markdown",
   "id": "7bb22721-6dad-4b2e-bc51-e6d88f61ca3f",
   "metadata": {},
   "source": [
    "## Variabile singola"
   ]
  },
  {
   "cell_type": "markdown",
   "id": "f25750bb-c2dc-48d9-b5f7-189a4f2c081f",
   "metadata": {},
   "source": [
    "### Cambio di variabile"
   ]
  },
  {
   "cell_type": "markdown",
   "id": "43c7491c-3e83-4d07-95de-e8867f5f7093",
   "metadata": {
    "jp-MarkdownHeadingCollapsed": true
   },
   "source": [
    "#### Traslazione\n",
    "Data la variabile casuale $X$ con distribuzione di probabilità $f_X(x)$ nota, la variabile casuale\n",
    "\n",
    "$$Y = X + a$$\n",
    "\n",
    "ha funzione di probabilità\n",
    "\n",
    "$$f_Y(x+a) = f_X(x) \\ .$$"
   ]
  },
  {
   "cell_type": "markdown",
   "id": "f92ecb62-408b-4821-b9e1-2b49cd18ed14",
   "metadata": {},
   "source": [
    "```{dropdown} Dimostrazione.\n",
    "**todo**\n",
    "```"
   ]
  },
  {
   "cell_type": "markdown",
   "id": "fcca2864-bae2-45e1-acd1-be1178448a42",
   "metadata": {
    "jp-MarkdownHeadingCollapsed": true
   },
   "source": [
    "#### Scalatura\n",
    "Data la variabile casuale $X$ con distribuzione di probabilità $f_X(x)$ nota, la variabile casuale\n",
    "\n",
    "$$Y = \\frac{X}{a}$$\n",
    "\n",
    "ha funzione di probabilità\n",
    "\n",
    "$$f_Y\\left( \\frac{x}{a} \\right) = a f_X(x)$$"
   ]
  },
  {
   "cell_type": "markdown",
   "id": "bb373670-51bf-4a4f-9649-0540f615e424",
   "metadata": {},
   "source": [
    "```{dropdown} Dimostrazione.\n",
    "**todo**\n",
    "```"
   ]
  },
  {
   "cell_type": "markdown",
   "id": "bda912bb-b8e6-4376-9620-cf29f0591aa4",
   "metadata": {},
   "source": [
    "## Multi-variabile"
   ]
  },
  {
   "cell_type": "markdown",
   "id": "63f11b64-a8ef-4f2f-9ef1-eea5784761fb",
   "metadata": {},
   "source": [
    "### Combinazione di variabili"
   ]
  },
  {
   "cell_type": "markdown",
   "id": "2856786c-0cc0-4725-b4d3-bf881406e89c",
   "metadata": {},
   "source": [
    "#### Somma\n",
    "\n",
    "Date due variabili casuali $X$, $Y$, con probabilità congiunta $p_{XY}(x,y)$, la loro somma $Z = X + Y$ è una variabile casuale dipendente con distribuzione di probabilità\n",
    "\n",
    "$$p(z) = \\int_y p_{XY}(z-y,y) \\, dy = \\int_{x} p_{XY}(x, z-x) \\, dx \\ .$$\n",
    "\n",
    "Se le due variabili sono tra di loro *statisticamente indipendenti*, la densità di probabilità congiunta è uguale al prodotto delle densità di probabilità delle singole variabili, $p_{XY}(x,y) = p_X(x) p_Y(y)$, e quindi la densità di probabilità della somma è uguale alla **convoluzione** tra le densità di probabilità delle due variabili,\n",
    "\n",
    "$$p(z) = \\int_y p_{X}(z-y) \\, p_{Y}(y) \\, dy \\ .$$\n",
    "\n",
    "Il **valore atteso** della somma è quindi \n",
    "\n",
    "$$E[Z] = \\int_z z \\, p(z) \\, dz = \\int_{y,z} z \\, p_{XY}(z-y,y) \\, dy \\, dz =  \\int_{x,y} (x+y) \\, p_{XY}(x,y) \\, dx \\, dy \\ , $$\n",
    "\n",
    "e, nel caso in cui le due variabili siano tra di loro *statisticamente indipendenti*, \n",
    "\n",
    "$$\\begin{aligned}\n",
    "  E[Z]\n",
    "  & = \\int_{x,y} (x + y) \\, p_X(x) \\, p_Y(y) \\, dx \\, dy = \\\\\n",
    "  & = \\int_{x,y} x \\, p_X(x) \\, p_Y(y) \\, dx \\, dy + \\int_{x,y} y \\, p_X(x) \\, p_Y(y) \\, dx \\, dy = \\\\\n",
    "  & = \\int_x x \\, p_X(x) \\, dx + \\int_y y \\, p_Y(y) \\, dy = E[X] + E[Y] \\ .\n",
    "\\end{aligned}$$\n",
    "\n"
   ]
  },
  {
   "cell_type": "markdown",
   "id": "48b9444d-aefe-4051-9926-8ed7ef02bafc",
   "metadata": {},
   "source": [
    "La **varianza** della somma è \n",
    "\n",
    "$$\\begin{aligned}\n",
    "  \\sigma_Z^2 = E\\left[(Z - E[Z])^2\\right] \n",
    "  = E\\left[Z^2\\right] - E[Z]^2\n",
    "  = \\int_z z^2 p(z) \\, dz - E[Z]^2\n",
    "\\end{aligned}$$\n",
    "\n",
    "e nel caso le due variabili siano tra di loro *statisticamente indipendenti*,\n",
    "\n",
    "$$\\begin{aligned}\n",
    "  \\sigma_Z^2 \n",
    "  & = \\int_z z^2 p(z) \\, dz - E[Z]^2 = \\\\\n",
    "  & = \\int_{x,y} (x+y)^2 \\, p_{X}(x) \\, p_{Y}(y) \\, dx \\, dy - \\left(E[X] + E[Y]\\right)^2 = \\\\\n",
    "  & = \\int_{x} x^2 \\, p{X}(x) \\, dx + \\int_{y} y^2 \\, p_Y(y) \\, dy + 2 E[X] E[Y] - \\left( E[X]^2 + 2 E[X] E[Y] + E[Y]^2 \\right) = \\\\\n",
    "  & = \\int_{x} x^2 \\, p{X}(x) \\, dx - E[X]^2 + \\int_{y} y^2 \\, p_Y(y) \\, dy - E[Y]^2 = \\\\\n",
    "  & = \\sigma_X^2 + \\sigma_Y^2 \\ .\n",
    "\\end{aligned}$$"
   ]
  },
  {
   "cell_type": "markdown",
   "id": "c186b088-48ec-41f9-b35e-8db8a826eee5",
   "metadata": {},
   "source": [
    "#### Prodotto\n",
    "\n",
    "Date due variabili casuali $X$, $Y$ con probabilità congiunta $p_{XY}(x,y)$, il loro prodotto $Z = X \\cdot Y$ è una variabile casuale dipendente con distribuzione di probabilità\n",
    "\n",
    "$$p(z) = \\int_{y} p_{XY} \\left(\\frac{z}{y}, y \\right) \\, dy = \\int_{x} p_{XY} \\left(x, \\frac{z}{x} \\right) \\, dx$$\n",
    "\n",
    "Se le due variabili sono *statisticamente indipendenti*,...**todo**\n",
    "\n",
    "Il **valore atteso** del prodotto è\n",
    "\n",
    "$$E[Z] = \\int_z z \\, p(z) \\, dz = \\int_{y,z} z \\, p_{XY}\\left(\\frac{z}{y},y\\right) \\, dy \\, dz =  \\int_{x,y} x y \\, p_{XY}(x,y) \\, dx \\, dy \\ , $$\n",
    "\n",
    "e, nel caso in cui le due variabili siano tra di loro *statisticamente indipendenti*,\n",
    "\n",
    "$$\\begin{aligned}\n",
    "  E[Z]\n",
    "  & = \\int_{x,y} x y \\, p_X(x) \\, p_Y(y) \\, dx \\, dy = \\\\\n",
    "  & = \\int_{x} x \\, p_X(x) \\, dx \\cdot \\int_y y \\, p_Y(y) \\, dy = E[X] \\cdot E[Y] \\ .\n",
    "\\end{aligned}$$\n",
    "\n"
   ]
  },
  {
   "cell_type": "markdown",
   "id": "29df75ad-8e42-47fa-acb4-e16ec1ec1da6",
   "metadata": {},
   "source": [
    "La **varianza** del prodotto è\n",
    "\n",
    "$$\\begin{aligned}\n",
    "  \\sigma_Z^2 = ...\n",
    "\\end{aligned}$$\n",
    "\n",
    "e nel caso le due variabili siano tra di loro *statisticamente indipendenti*,\n",
    "\n",
    "$$\\begin{aligned}\n",
    "  \\sigma_Z^2 \n",
    "  & = \\int_{x,y} x^2 y^2 p_X(x) \\, p_Y(y) \\, dx \\, dy - \\left( E[X] \\, E[Y] \\right)^2 = \\\\\n",
    "  & = R_X^2 \\, R_Y^2 - E[X]^2 \\, E[Y]^2 = \\\\\n",
    "  & = \\left( \\sigma_X^2 + E[X]^2 \\right)\\left( \\sigma_Y^2 + E[Y]^2 \\right) - E[X]^2 \\, E[Y]^2 = \\\\\n",
    "  & = \\sigma_X^2 \\, \\sigma_Y^2 + \\sigma_X^2 \\, E[Y]^2 + \\sigma_Y^2 \\, E[X]^2\n",
    "\\end{aligned}$$\n",
    "\n",
    "In termini di correlazione, $R_X^2 = \\sigma_X^2 + E[X]^2$,\n",
    "\n",
    "$$R_Z^2 = R_X^2 \\, R_Y^2 \\ .$$"
   ]
  }
 ],
 "metadata": {
  "kernelspec": {
   "display_name": "Python 3 (ipykernel)",
   "language": "python",
   "name": "python3"
  },
  "language_info": {
   "codemirror_mode": {
    "name": "ipython",
    "version": 3
   },
   "file_extension": ".py",
   "mimetype": "text/x-python",
   "name": "python",
   "nbconvert_exporter": "python",
   "pygments_lexer": "ipython3",
   "version": "3.8.10"
  }
 },
 "nbformat": 4,
 "nbformat_minor": 5
}
