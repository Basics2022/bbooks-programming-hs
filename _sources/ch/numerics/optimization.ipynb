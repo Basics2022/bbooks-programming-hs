{
 "cells": [
  {
   "cell_type": "markdown",
   "id": "e5053d45-cee1-4ffc-88dc-a20dfcb58905",
   "metadata": {},
   "source": [
    "# Ottimizzazione\n",
    "\n",
    "Le tecniche di ottimizzazione sono alla base di molti metodi di interesse, dall'approssimazione di funzioni, alla regolazione e controllo, agli algoritmi usati in intelligenza artificiale"
   ]
  }
 ],
 "metadata": {
  "kernelspec": {
   "display_name": "Python 3 (ipykernel)",
   "language": "python",
   "name": "python3"
  },
  "language_info": {
   "codemirror_mode": {
    "name": "ipython",
    "version": 3
   },
   "file_extension": ".py",
   "mimetype": "text/x-python",
   "name": "python",
   "nbconvert_exporter": "python",
   "pygments_lexer": "ipython3",
   "version": "3.8.10"
  }
 },
 "nbformat": 4,
 "nbformat_minor": 5
}
